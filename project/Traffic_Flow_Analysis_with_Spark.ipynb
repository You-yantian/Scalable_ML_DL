{
 "cells": [
  {
   "cell_type": "markdown",
   "metadata": {
    "deletable": true,
    "editable": true
   },
   "source": [
    "# Traffic Flow Analysis with Spark: End of Queue Detection\n",
    "\n",
    "**Contact:** Ahmad Al-Shishtawy ([email](mailto:ahmad.al-shishtawy@ri.se))\n",
    "\n",
    "### Contents:\n",
    "- Introduction\n",
    "- Traffic Flow Data\n",
    "- Data Exploration\n",
    "- Fundamental Diagrams of Traffic Flow\n",
    "- End of Queue Detection\n",
    "- Visualization\n",
    "- Next Steps"
   ]
  },
  {
   "cell_type": "markdown",
   "metadata": {
    "deletable": true,
    "editable": true
   },
   "source": [
    "# Introduction\n",
    "\n",
    "## SICS ICE Datacenter in Luleå\n",
    "\n",
    "<img src=\"img/data_center.jpg\" alt=\"SICS ICE Datacenter\" style=\"width: 320px;\"/>\n",
    "\n",
    "## Hadoop Ecosystem\n",
    "\n",
    "An ecosystem for **storing** and **processing** large amounts of data.\n",
    "\n",
    "Basic components:\n",
    "- Distributed storage\n",
    "- Computation engine (MapReduce)\n",
    "- Libraries\n",
    "- Applications\n",
    "\n",
    "Designed to run **reliably** on **comodity** servers\n",
    "\n",
    "<img src=\"img/Hadoop.png\" alt=\"Hadoop Ecosystem\" style=\"width: 600px;\"/>\n",
    "\n",
    "## Apache Spark\n",
    "\n",
    "- General purpose in-memory Data Processing engine\n",
    "- Integrates very well with the Hadoop Ecosystem (and much more)\n",
    "- Unified engine supporting SQL queries, streaming data, machine learning, and graph processing\n",
    "- Open source Apache project\n",
    "\n",
    "<img src=\"img/Spark.png\" alt=\"Spark\" style=\"width: 700px;\"/>\n",
    "\n",
    "### Credits\n",
    "The Hadoop and Spark diagrams above are from the [Spark for Dummies **Free** Book](https://www-01.ibm.com/common/ssi/cgi-bin/ssialias?htmlfid=DCM03021USEN)\n",
    "\n",
    "## Jupyter Notebook\n",
    "\n",
    "Well, this is a Jupyter notebook :)\n",
    "\n",
    "It is an interactive document that contain **live code**, **equations**, **visualizations** and explanatory **text**.\n",
    "\n",
    "Just like this example below. Try changing the code and then execute the cell by pressing (Shift+Enter)."
   ]
  },
  {
   "cell_type": "code",
   "execution_count": 1,
   "metadata": {
    "collapsed": false,
    "deletable": true,
    "editable": true
   },
   "outputs": [
    {
     "name": "stdout",
     "output_type": "stream",
     "text": [
      "Starting Spark application\n"
     ]
    },
    {
     "data": {
      "text/html": [
       "<table>\n",
       "<tr><th>ID</th><th>YARN Application ID</th><th>Kind</th><th>State</th><th>Spark UI</th><th>Driver log</th><th>Current session?</th></tr><tr><td>1451</td><td>application_1511276242554_0869</td><td>pyspark</td><td>idle</td><td><a target=\"_blank\" href=\"http://hadoop30:8088/proxy/application_1511276242554_0869/\">Link</a></td><td><a target=\"_blank\" href=\"http://hadoop19:8042/node/containerlogs/container_e25_1511276242554_0869_01_000001/demo_tensorflow_dowling0__dowling_\">Link</a></td><td>✔</td></tr></table>"
      ],
      "text/plain": [
       "<IPython.core.display.HTML object>"
      ]
     },
     "metadata": {},
     "output_type": "display_data"
    },
    {
     "name": "stdout",
     "output_type": "stream",
     "text": [
      "SparkSession available as 'spark'.\n",
      "Hello World!!\n",
      "2 + 100 = 102\n",
      "2^100 = 1267650600228229401496703205376"
     ]
    }
   ],
   "source": [
    "print('Hello World!!')\n",
    "\n",
    "x = 2\n",
    "y = 100\n",
    "\n",
    "print('{} + {} = {}'.format(x, y, x+y))\n",
    "\n",
    "print('{}^{} = {}'.format(x, y, x**y))"
   ]
  },
  {
   "cell_type": "markdown",
   "metadata": {
    "deletable": true,
    "editable": true
   },
   "source": [
    "Jupyter has become the de facto standard used by many data scientist to interactivly analyze data.\n",
    "\n",
    "<img src=\"img/Jupyter.png\" alt=\"Jupyter\" style=\"width: 600px;\"/>\n"
   ]
  },
  {
   "cell_type": "markdown",
   "metadata": {
    "deletable": true,
    "editable": true
   },
   "source": [
    "# Traffic Flow Data\n",
    "\n",
    "In this demo we will be using traffic flow data generated from radar detectors (sensors) that are part of the Motorway Control System (MCS) distributed along the highways in Stockholm (see the picture below for an example).\n",
    "\n",
    "The detectors generate data **every minute**. The data contains the **average speed** and the **number of cars** that passed in that minute.\n",
    "\n",
    "The sensors are identified by two fields:\n",
    "- Ds_Reference: such as \"E4S 61,036\", which is composed of the road name \"E4\" and the direction \"S\" for south, and the kilometer reference.\n",
    "- Detector_Number: Detectors are numbered from right to left starting from 1 for the first detector in the rightmost lane.\n",
    "\n",
    "![Flow Sensors](img/FlowSensors.png)"
   ]
  },
  {
   "cell_type": "markdown",
   "metadata": {
    "deletable": true,
    "editable": true
   },
   "source": [
    "# Data Exploration\n",
    "\n",
    "We will use **Spark** to explore and analyze the traffic flow data. But first we need to load the data and do some cleanup."
   ]
  },
  {
   "cell_type": "markdown",
   "metadata": {
    "deletable": true,
    "editable": true
   },
   "source": [
    "## Starting Spark\n",
    "\n",
    "We import some libraries that we will be using then initialize spark"
   ]
  },
  {
   "cell_type": "code",
   "execution_count": 2,
   "metadata": {
    "collapsed": true,
    "deletable": true,
    "editable": true
   },
   "outputs": [],
   "source": [
    "### Uncomment to install missing packages as needed (you may need to restart the kernel)\n",
    "\n",
    "### 1 - ipyleaflet\n",
    "### Conda package is old (ver 0.3) so using pip instead (ver 0.4)\n",
    "# !pip install -U ipyleaflet \n",
    "### or\n",
    "# !conda install -y -c conda-forge ipyleaflet\n",
    "\n",
    "### 2 - geojson\n",
    "# !conda install -y geojson"
   ]
  },
  {
   "cell_type": "code",
   "execution_count": 3,
   "metadata": {
    "collapsed": false,
    "deletable": true,
    "editable": true
   },
   "outputs": [],
   "source": [
    "#from ipyleaflet import Map, GeoJSON, TileLayer\n",
    "#from geojson import FeatureCollection, Feature, MultiPolygon\n",
    "#import json\n",
    "#import ipywidgets as widgets\n",
    "#from  datetime import timedelta, datetime\n",
    "#import time\n",
    "\n",
    "import pandas as pd\n",
    "import matplotlib\n",
    "import matplotlib.pyplot as plt\n",
    "#%matplotlib inline "
   ]
  },
  {
   "cell_type": "code",
   "execution_count": 4,
   "metadata": {
    "collapsed": true,
    "deletable": true,
    "editable": true
   },
   "outputs": [],
   "source": [
    "from pyspark.sql import SparkSession\n",
    "from pyspark.sql.types import *\n",
    "from pyspark.sql.functions import udf, col, lag, datediff, unix_timestamp\n",
    "from pyspark.sql.window import Window"
   ]
  },
  {
   "cell_type": "code",
   "execution_count": 5,
   "metadata": {
    "collapsed": true,
    "deletable": true,
    "editable": true
   },
   "outputs": [],
   "source": [
    "#spark = SparkSession.builder \\\n",
    "#    .master('local[*]') \\\n",
    "#    .appName('Demo4') \\\n",
    "#    .config('spark.executor.memory', '5g') \\\n",
    "#    .config('spark.driver.memory', '5g') \\\n",
    "#    .getOrCreate()"
   ]
  },
  {
   "cell_type": "code",
   "execution_count": 6,
   "metadata": {
    "collapsed": false,
    "deletable": true,
    "editable": true
   },
   "outputs": [
    {
     "name": "stdout",
     "output_type": "stream",
     "text": [
      "u'2.2.0'"
     ]
    }
   ],
   "source": [
    "spark.version"
   ]
  },
  {
   "cell_type": "code",
   "execution_count": 7,
   "metadata": {
    "collapsed": false,
    "deletable": true,
    "editable": true
   },
   "outputs": [],
   "source": [
    "%%local\n",
    "%matplotlib inline "
   ]
  },
  {
   "cell_type": "markdown",
   "metadata": {
    "deletable": true,
    "editable": true
   },
   "source": [
    "## Loading The Data\n",
    "\n",
    "The data is stored in a csv file (comma seperated values). Spark can parse csv files and can infer the schema but it is better to define the schema specially when dealing with very large datasets."
   ]
  },
  {
   "cell_type": "markdown",
   "metadata": {
    "deletable": true,
    "editable": true
   },
   "source": [
    "### Define the schema of the csv file"
   ]
  },
  {
   "cell_type": "code",
   "execution_count": 8,
   "metadata": {
    "collapsed": true,
    "deletable": true,
    "editable": true
   },
   "outputs": [],
   "source": [
    "schema_flow = StructType().add('Timestamp', TimestampType(), False) \\\n",
    "        .add('Ds_Reference', StringType(), False) \\\n",
    "        .add('Detector_Number', ShortType(), False) \\\n",
    "        .add('Traffic_Direction', ShortType(), False) \\\n",
    "        .add('Flow_In', ShortType(), False) \\\n",
    "        .add('Average_Speed', ShortType(), False) \\\n",
    "        .add('Sign_Aid_Det_Comms', ShortType(), False) \\\n",
    "        .add('Status', ShortType(), False) \\\n",
    "        .add('Legend_Group', ShortType(), False) \\\n",
    "        .add('Legend_Sign', ShortType(), False) \\\n",
    "        .add('Legend_SubSign', ShortType(), False) \\\n",
    "        .add('Protocol_Version', StringType(), False)        "
   ]
  },
  {
   "cell_type": "markdown",
   "metadata": {
    "deletable": true,
    "editable": true
   },
   "source": [
    "### Read the data\n",
    "\n",
    "Next we read the data and load it into Spark. The data is represented in Spark as a **DataFrame** wich is similar to a table in a database."
   ]
  },
  {
   "cell_type": "code",
   "execution_count": 9,
   "metadata": {
    "collapsed": false,
    "deletable": true,
    "editable": true
   },
   "outputs": [],
   "source": [
    "\n",
    "df_raw = spark.read.csv('hdfs:///Projects/labs/TrafficFlow/mcs_201606.csv', sep=';', schema=schema_flow, ignoreLeadingWhiteSpace=True, \\\n",
    "                    ignoreTrailingWhiteSpace=True, timestampFormat='yyyy-MM-dd HH:mm:ss.SSS')"
   ]
  },
  {
   "cell_type": "markdown",
   "metadata": {
    "deletable": true,
    "editable": true
   },
   "source": [
    "We can inspect the schema to check it."
   ]
  },
  {
   "cell_type": "code",
   "execution_count": 10,
   "metadata": {
    "collapsed": false,
    "deletable": true,
    "editable": true,
    "scrolled": true
   },
   "outputs": [
    {
     "name": "stdout",
     "output_type": "stream",
     "text": [
      "root\n",
      " |-- Timestamp: timestamp (nullable = true)\n",
      " |-- Ds_Reference: string (nullable = true)\n",
      " |-- Detector_Number: short (nullable = true)\n",
      " |-- Traffic_Direction: short (nullable = true)\n",
      " |-- Flow_In: short (nullable = true)\n",
      " |-- Average_Speed: short (nullable = true)\n",
      " |-- Sign_Aid_Det_Comms: short (nullable = true)\n",
      " |-- Status: short (nullable = true)\n",
      " |-- Legend_Group: short (nullable = true)\n",
      " |-- Legend_Sign: short (nullable = true)\n",
      " |-- Legend_SubSign: short (nullable = true)\n",
      " |-- Protocol_Version: string (nullable = true)"
     ]
    }
   ],
   "source": [
    "df_raw.printSchema()"
   ]
  },
  {
   "cell_type": "markdown",
   "metadata": {
    "deletable": true,
    "editable": true
   },
   "source": [
    "### Count the records\n",
    "\n",
    "We count the number of records in the DataFrame. We can add `%%time` in the beginning of any cell in Jupyter to measure the execution time of the cell."
   ]
  },
  {
   "cell_type": "code",
   "execution_count": 11,
   "metadata": {
    "collapsed": false,
    "deletable": true,
    "editable": true
   },
   "outputs": [
    {
     "name": "stdout",
     "output_type": "stream",
     "text": [
      "85255773"
     ]
    }
   ],
   "source": [
    "df_raw.count()"
   ]
  },
  {
   "cell_type": "markdown",
   "metadata": {
    "deletable": true,
    "editable": true
   },
   "source": [
    "### Print a sample of the data"
   ]
  },
  {
   "cell_type": "code",
   "execution_count": 12,
   "metadata": {
    "collapsed": false,
    "deletable": true,
    "editable": true
   },
   "outputs": [
    {
     "name": "stdout",
     "output_type": "stream",
     "text": [
      "+-------------------+------------+---------------+-----------------+-------+-------------+------------------+------+------------+-----------+--------------+----------------+\n",
      "|          Timestamp|Ds_Reference|Detector_Number|Traffic_Direction|Flow_In|Average_Speed|Sign_Aid_Det_Comms|Status|Legend_Group|Legend_Sign|Legend_SubSign|Protocol_Version|\n",
      "+-------------------+------------+---------------+-----------------+-------+-------------+------------------+------+------------+-----------+--------------+----------------+\n",
      "|2016-06-01 00:00:00| E182N 2,015|             49|               78|      0|          252|                 0|     1|         255|          1|             1|               4|\n",
      "|2016-06-01 00:00:00| E182N 2,015|             50|               78|      0|          252|                 0|     1|         255|          1|             1|               4|\n",
      "|2016-06-01 00:00:00| E182N 2,015|             51|               78|      0|          252|                 0|     1|         255|          1|             1|               4|\n",
      "|2016-06-01 00:00:00| E182N 2,015|             52|               78|      0|          252|                 0|     1|         255|          1|             1|               4|\n",
      "|2016-06-01 00:00:00| E182N 2,325|             49|               78|      0|          252|                 0|     1|         255|          1|             1|               4|\n",
      "|2016-06-01 00:00:00| E182N 2,325|             50|               78|      0|          252|                 0|     1|         255|          1|             1|               4|\n",
      "|2016-06-01 00:00:00| E182N 2,325|             51|               78|      0|          252|                 0|     1|         255|          1|             1|               4|\n",
      "|2016-06-01 00:00:00| E182N 2,690|             49|               78|      0|          252|                 0|     1|         255|          1|             1|               4|\n",
      "|2016-06-01 00:00:00| E182N 2,690|             50|               78|      0|          252|                 0|     1|         255|          1|             1|               4|\n",
      "|2016-06-01 00:00:00| E182N 2,690|             51|               78|      0|          252|                 0|     1|         255|          1|             1|               4|\n",
      "+-------------------+------------+---------------+-----------------+-------+-------------+------------------+------+------------+-----------+--------------+----------------+\n",
      "only showing top 10 rows"
     ]
    }
   ],
   "source": [
    "df_raw.show(10)"
   ]
  },
  {
   "cell_type": "markdown",
   "metadata": {
    "deletable": true,
    "editable": true
   },
   "source": [
    "## Data Wrangling\n",
    "\n",
    "Before we start working with the data we usually need to do some preprocessing and cleanup.\n",
    "\n",
    "In our example:\n",
    "1. Split the Ds_Reference into road name and KM offset\n",
    "2. Convert Km reference from Swdish number format (using ',' instead of '.') to meters\n",
    "3. Fix Detector_Number field\n",
    "4. Filter out records with errors (e.g., detector not working)"
   ]
  },
  {
   "cell_type": "markdown",
   "metadata": {
    "deletable": true,
    "editable": true
   },
   "source": [
    "### Split Ds_Reference and fix Km\n",
    "\n",
    "Spark can take a user defined function **udf()** and execute it on all elements in a column. **udf()** takes as parameters a user defined function and the new schema that will be produced."
   ]
  },
  {
   "cell_type": "code",
   "execution_count": 13,
   "metadata": {
    "collapsed": true,
    "deletable": true,
    "editable": true
   },
   "outputs": [],
   "source": [
    "split_schema = StructType([\n",
    "  StructField('Road', StringType(), False),\n",
    "  StructField('Km_Ref', IntegerType(), False)\n",
    "])\n",
    "\n",
    "@udf(split_schema)\n",
    "def split_ds_ref(s):\n",
    "    try:\n",
    "        r, km = s.split(' ')\n",
    "        k, m = km.split(',')\n",
    "        meter = int(k)*1000 + int(m)\n",
    "        return r, meter\n",
    "    except:\n",
    "        return None"
   ]
  },
  {
   "cell_type": "markdown",
   "metadata": {
    "deletable": true,
    "editable": true
   },
   "source": [
    "We use `.withColume` to apply our function to the elements of the column. Using the same column name means the contents will be replaced, otherwise a new column will be created."
   ]
  },
  {
   "cell_type": "code",
   "execution_count": 14,
   "metadata": {
    "collapsed": false,
    "deletable": true,
    "editable": true
   },
   "outputs": [
    {
     "name": "stdout",
     "output_type": "stream",
     "text": [
      "root\n",
      " |-- Timestamp: timestamp (nullable = true)\n",
      " |-- Ds_Reference: struct (nullable = true)\n",
      " |    |-- Road: string (nullable = false)\n",
      " |    |-- Km_Ref: integer (nullable = false)\n",
      " |-- Detector_Number: short (nullable = true)\n",
      " |-- Traffic_Direction: short (nullable = true)\n",
      " |-- Flow_In: short (nullable = true)\n",
      " |-- Average_Speed: short (nullable = true)\n",
      " |-- Sign_Aid_Det_Comms: short (nullable = true)\n",
      " |-- Status: short (nullable = true)\n",
      " |-- Legend_Group: short (nullable = true)\n",
      " |-- Legend_Sign: short (nullable = true)\n",
      " |-- Legend_SubSign: short (nullable = true)\n",
      " |-- Protocol_Version: string (nullable = true)"
     ]
    }
   ],
   "source": [
    "df_cleanup1 = df_raw.withColumn('Ds_Reference', split_ds_ref('Ds_Reference'))\n",
    "df_cleanup1.printSchema()"
   ]
  },
  {
   "cell_type": "code",
   "execution_count": 15,
   "metadata": {
    "collapsed": false,
    "deletable": true,
    "editable": true
   },
   "outputs": [
    {
     "name": "stdout",
     "output_type": "stream",
     "text": [
      "+-------------------+------------+---------------+-----------------+-------+-------------+------------------+------+------------+-----------+--------------+----------------+\n",
      "|          Timestamp|Ds_Reference|Detector_Number|Traffic_Direction|Flow_In|Average_Speed|Sign_Aid_Det_Comms|Status|Legend_Group|Legend_Sign|Legend_SubSign|Protocol_Version|\n",
      "+-------------------+------------+---------------+-----------------+-------+-------------+------------------+------+------------+-----------+--------------+----------------+\n",
      "|2016-06-01 00:00:00|[E182N,2015]|             49|               78|      0|          252|                 0|     1|         255|          1|             1|               4|\n",
      "|2016-06-01 00:00:00|[E182N,2015]|             50|               78|      0|          252|                 0|     1|         255|          1|             1|               4|\n",
      "|2016-06-01 00:00:00|[E182N,2015]|             51|               78|      0|          252|                 0|     1|         255|          1|             1|               4|\n",
      "|2016-06-01 00:00:00|[E182N,2015]|             52|               78|      0|          252|                 0|     1|         255|          1|             1|               4|\n",
      "|2016-06-01 00:00:00|[E182N,2325]|             49|               78|      0|          252|                 0|     1|         255|          1|             1|               4|\n",
      "|2016-06-01 00:00:00|[E182N,2325]|             50|               78|      0|          252|                 0|     1|         255|          1|             1|               4|\n",
      "|2016-06-01 00:00:00|[E182N,2325]|             51|               78|      0|          252|                 0|     1|         255|          1|             1|               4|\n",
      "|2016-06-01 00:00:00|[E182N,2690]|             49|               78|      0|          252|                 0|     1|         255|          1|             1|               4|\n",
      "|2016-06-01 00:00:00|[E182N,2690]|             50|               78|      0|          252|                 0|     1|         255|          1|             1|               4|\n",
      "|2016-06-01 00:00:00|[E182N,2690]|             51|               78|      0|          252|                 0|     1|         255|          1|             1|               4|\n",
      "+-------------------+------------+---------------+-----------------+-------+-------------+------------------+------+------------+-----------+--------------+----------------+\n",
      "only showing top 10 rows"
     ]
    }
   ],
   "source": [
    "df_cleanup1.show(10)"
   ]
  },
  {
   "cell_type": "markdown",
   "metadata": {
    "deletable": true,
    "editable": true
   },
   "source": [
    "### Fix detector number\n",
    "\n",
    "Detector number is stored as a character. For example, Detector 1 is stored as 49 which is the ascii code for character '1'. We fix that as well."
   ]
  },
  {
   "cell_type": "code",
   "execution_count": 16,
   "metadata": {
    "collapsed": true,
    "deletable": true,
    "editable": true
   },
   "outputs": [],
   "source": [
    "ascii_to_int = udf(lambda x : x - 48, ShortType())\n",
    "df_cleanup2 = df_cleanup1.withColumn('Detector_Number', ascii_to_int('Detector_Number'))"
   ]
  },
  {
   "cell_type": "code",
   "execution_count": 17,
   "metadata": {
    "collapsed": false,
    "deletable": true,
    "editable": true
   },
   "outputs": [
    {
     "name": "stdout",
     "output_type": "stream",
     "text": [
      "+-------------------+------------+---------------+-----------------+-------+-------------+------------------+------+------------+-----------+--------------+----------------+\n",
      "|          Timestamp|Ds_Reference|Detector_Number|Traffic_Direction|Flow_In|Average_Speed|Sign_Aid_Det_Comms|Status|Legend_Group|Legend_Sign|Legend_SubSign|Protocol_Version|\n",
      "+-------------------+------------+---------------+-----------------+-------+-------------+------------------+------+------------+-----------+--------------+----------------+\n",
      "|2016-06-01 00:00:00|[E182N,2015]|              1|               78|      0|          252|                 0|     1|         255|          1|             1|               4|\n",
      "|2016-06-01 00:00:00|[E182N,2015]|              2|               78|      0|          252|                 0|     1|         255|          1|             1|               4|\n",
      "|2016-06-01 00:00:00|[E182N,2015]|              3|               78|      0|          252|                 0|     1|         255|          1|             1|               4|\n",
      "|2016-06-01 00:00:00|[E182N,2015]|              4|               78|      0|          252|                 0|     1|         255|          1|             1|               4|\n",
      "|2016-06-01 00:00:00|[E182N,2325]|              1|               78|      0|          252|                 0|     1|         255|          1|             1|               4|\n",
      "|2016-06-01 00:00:00|[E182N,2325]|              2|               78|      0|          252|                 0|     1|         255|          1|             1|               4|\n",
      "|2016-06-01 00:00:00|[E182N,2325]|              3|               78|      0|          252|                 0|     1|         255|          1|             1|               4|\n",
      "|2016-06-01 00:00:00|[E182N,2690]|              1|               78|      0|          252|                 0|     1|         255|          1|             1|               4|\n",
      "|2016-06-01 00:00:00|[E182N,2690]|              2|               78|      0|          252|                 0|     1|         255|          1|             1|               4|\n",
      "|2016-06-01 00:00:00|[E182N,2690]|              3|               78|      0|          252|                 0|     1|         255|          1|             1|               4|\n",
      "+-------------------+------------+---------------+-----------------+-------+-------------+------------------+------+------------+-----------+--------------+----------------+\n",
      "only showing top 10 rows"
     ]
    }
   ],
   "source": [
    "df_cleanup2.show(10)"
   ]
  },
  {
   "cell_type": "markdown",
   "metadata": {
    "deletable": true,
    "editable": true
   },
   "source": [
    "## Using SQL with Spark\n",
    "\n",
    "We can contiune using transformations such as `select()` and `filter()` but we can also use **SQL**.\n",
    "\n",
    "Spark supports SQL queries which is very useful to quickly explore your data. It also makes it simple for new users to start working with Spark.\n",
    "\n",
    "For example, we can select only the columns that we are interested in and filter out records with errors (status = 3 is a normal record).\n",
    "\n",
    "To simplify the visualization, we will focus on a small part of the highway network which is E4 highway North direction. So we will filter that as well."
   ]
  },
  {
   "cell_type": "code",
   "execution_count": 18,
   "metadata": {
    "collapsed": true,
    "deletable": true,
    "editable": true
   },
   "outputs": [],
   "source": [
    "df_cleanup2.createOrReplaceTempView(\"FlowData\")"
   ]
  },
  {
   "cell_type": "code",
   "execution_count": 19,
   "metadata": {
    "collapsed": true,
    "deletable": true,
    "editable": true
   },
   "outputs": [],
   "source": [
    "df_E4N = spark.sql('SELECT Timestamp, Ds_Reference, Detector_Number, Flow_In, Average_Speed ' \n",
    "                  'FROM FlowData WHERE Status == 3 AND Ds_Reference.Road == \"E4N\"')"
   ]
  },
  {
   "cell_type": "code",
   "execution_count": 20,
   "metadata": {
    "collapsed": false,
    "deletable": true,
    "editable": true
   },
   "outputs": [
    {
     "name": "stdout",
     "output_type": "stream",
     "text": [
      "15868360"
     ]
    }
   ],
   "source": [
    "df_E4N.count()"
   ]
  },
  {
   "cell_type": "code",
   "execution_count": 21,
   "metadata": {
    "collapsed": false,
    "deletable": true,
    "editable": true
   },
   "outputs": [
    {
     "name": "stdout",
     "output_type": "stream",
     "text": [
      "+-------------------+------------+---------------+-------+-------------+\n",
      "|          Timestamp|Ds_Reference|Detector_Number|Flow_In|Average_Speed|\n",
      "+-------------------+------------+---------------+-------+-------------+\n",
      "|2016-06-01 00:00:00| [E4N,47465]|              2|      3|           93|\n",
      "|2016-06-01 00:00:00| [E4N,47465]|              3|      4|           75|\n",
      "|2016-06-01 00:00:00| [E4N,47800]|              2|      3|           91|\n",
      "|2016-06-01 00:00:00| [E4N,47800]|              3|      4|           81|\n",
      "|2016-06-01 00:00:00| [E4N,48290]|              2|      2|           98|\n",
      "|2016-06-01 00:00:00| [E4N,48290]|              3|      2|           83|\n",
      "|2016-06-01 00:00:00| [E4N,48620]|              3|      1|           84|\n",
      "|2016-06-01 00:00:00| [E4N,48935]|              3|      2|           69|\n",
      "|2016-06-01 00:00:00| [E4N,49370]|              2|      1|          106|\n",
      "|2016-06-01 00:00:00| [E4N,49370]|              3|      1|           63|\n",
      "+-------------------+------------+---------------+-------+-------------+\n",
      "only showing top 10 rows"
     ]
    }
   ],
   "source": [
    "df_E4N.show(10)"
   ]
  },
  {
   "cell_type": "markdown",
   "metadata": {
    "deletable": true,
    "editable": true
   },
   "source": [
    "## Plotting\n",
    "\n",
    "We can now start exploring the dataset, for example, by plotting histogram of a column. We will use **Spark** to do the calculation of the histogram buckets then use **Pandas** for plotting.\n",
    "\n",
    "We will extract the column of interest (`select()`) and use histogram method on RDD. We use `flatMap` to convert from `Row` object to int value."
   ]
  },
  {
   "cell_type": "code",
   "execution_count": 22,
   "metadata": {
    "collapsed": false,
    "deletable": true,
    "editable": true
   },
   "outputs": [],
   "source": [
    "speed_histogram = df_E4N.select('Average_Speed').rdd.flatMap(lambda x: x).histogram(10)"
   ]
  },
  {
   "cell_type": "code",
   "execution_count": 23,
   "metadata": {
    "collapsed": false,
    "deletable": true,
    "editable": true
   },
   "outputs": [
    {
     "name": "stdout",
     "output_type": "stream",
     "text": [
      "([2.0, 26.8, 51.6, 76.4, 101.2, 126.0, 150.8, 175.6, 200.4, 225.20000000000002, 250], [559166, 607930, 3002007, 8847874, 2715643, 125608, 8403, 1539, 161, 29])"
     ]
    }
   ],
   "source": [
    "speed_histogram"
   ]
  },
  {
   "cell_type": "markdown",
   "metadata": {
    "deletable": true,
    "editable": true
   },
   "source": [
    "Then we use Pandas to plot the figure"
   ]
  },
  {
   "cell_type": "code",
   "execution_count": 24,
   "metadata": {
    "collapsed": false,
    "deletable": true,
    "editable": true
   },
   "outputs": [],
   "source": [
    "#pd.DataFrame(list(zip(list(speed_histogram)[0], list(speed_histogram)[1])), \\\n",
    "#             columns=['Average Speed','Frequency']).set_index('Average Speed').plot(kind='bar')"
   ]
  },
  {
   "cell_type": "code",
   "execution_count": 25,
   "metadata": {
    "collapsed": false,
    "deletable": true,
    "editable": true
   },
   "outputs": [],
   "source": [
    "%%spark -o hist_df\n",
    "hist_df = spark.createDataFrame(list(zip(list(speed_histogram)[0], list(speed_histogram)[1])), \\\n",
    "             schema=['Average Speed','Frequency'])"
   ]
  },
  {
   "cell_type": "code",
   "execution_count": 26,
   "metadata": {
    "collapsed": false,
    "deletable": true,
    "editable": true
   },
   "outputs": [
    {
     "data": {
      "text/plain": [
       "<matplotlib.axes._subplots.AxesSubplot at 0x638e950>"
      ]
     },
     "execution_count": 26,
     "metadata": {},
     "output_type": "execute_result"
    },
    {
     "data": {
      "image/png": "[encoded data removed]",
      "text/plain": [
       "<matplotlib.figure.Figure at 0x638edd0>"
      ]
     },
     "metadata": {},
     "output_type": "display_data"
    }
   ],
   "source": [
    "%%local\n",
    "hist_df.set_index('Average Speed').plot(kind='bar')"
   ]
  },
  {
   "cell_type": "markdown",
   "metadata": {
    "deletable": true,
    "editable": true
   },
   "source": [
    "# Fundamental Diagram of Traffic Flow\n",
    "\n",
    "![Traffic Flow Diagram](https://upload.wikimedia.org/wikipedia/commons/5/59/Fundamental_Diagram.PNG)"
   ]
  },
  {
   "cell_type": "markdown",
   "metadata": {
    "deletable": true,
    "editable": true
   },
   "source": [
    "We will plot the basic traffic flow diagrams for some of the detectors to get some insights into the properties of the traffic on the highway. In particular, the maximum flow and associated density. We will use that to select thresholds used in queue detection.\n",
    "\n",
    "But first we need to calculate the density and add it as a new column to our dataset."
   ]
  },
  {
   "cell_type": "markdown",
   "metadata": {
    "deletable": true,
    "editable": true
   },
   "source": [
    "## Adding Density Column"
   ]
  },
  {
   "cell_type": "code",
   "execution_count": 27,
   "metadata": {
    "collapsed": true,
    "deletable": true,
    "editable": true
   },
   "outputs": [],
   "source": [
    "df_E4N_D = df_E4N.withColumn('Density', col('Flow_In')*60/col('Average_Speed'))"
   ]
  },
  {
   "cell_type": "code",
   "execution_count": 28,
   "metadata": {
    "collapsed": false,
    "deletable": true,
    "editable": true
   },
   "outputs": [
    {
     "name": "stdout",
     "output_type": "stream",
     "text": [
      "root\n",
      " |-- Timestamp: timestamp (nullable = true)\n",
      " |-- Ds_Reference: struct (nullable = true)\n",
      " |    |-- Road: string (nullable = false)\n",
      " |    |-- Km_Ref: integer (nullable = false)\n",
      " |-- Detector_Number: short (nullable = true)\n",
      " |-- Flow_In: short (nullable = true)\n",
      " |-- Average_Speed: short (nullable = true)\n",
      " |-- Density: double (nullable = true)"
     ]
    }
   ],
   "source": [
    "df_E4N_D.printSchema()"
   ]
  },
  {
   "cell_type": "code",
   "execution_count": 29,
   "metadata": {
    "collapsed": false,
    "deletable": true,
    "editable": true
   },
   "outputs": [
    {
     "name": "stdout",
     "output_type": "stream",
     "text": [
      "+-------------------+------------+---------------+-------+-------------+------------------+\n",
      "|          Timestamp|Ds_Reference|Detector_Number|Flow_In|Average_Speed|           Density|\n",
      "+-------------------+------------+---------------+-------+-------------+------------------+\n",
      "|2016-06-01 00:00:00| [E4N,47465]|              2|      3|           93| 1.935483870967742|\n",
      "|2016-06-01 00:00:00| [E4N,47465]|              3|      4|           75|               3.2|\n",
      "|2016-06-01 00:00:00| [E4N,47800]|              2|      3|           91| 1.978021978021978|\n",
      "|2016-06-01 00:00:00| [E4N,47800]|              3|      4|           81| 2.962962962962963|\n",
      "|2016-06-01 00:00:00| [E4N,48290]|              2|      2|           98|1.2244897959183674|\n",
      "|2016-06-01 00:00:00| [E4N,48290]|              3|      2|           83|1.4457831325301205|\n",
      "|2016-06-01 00:00:00| [E4N,48620]|              3|      1|           84|0.7142857142857143|\n",
      "|2016-06-01 00:00:00| [E4N,48935]|              3|      2|           69|1.7391304347826086|\n",
      "|2016-06-01 00:00:00| [E4N,49370]|              2|      1|          106|0.5660377358490566|\n",
      "|2016-06-01 00:00:00| [E4N,49370]|              3|      1|           63|0.9523809523809523|\n",
      "|2016-06-01 00:00:00| [E4N,50395]|              2|      2|           97|1.2371134020618557|\n",
      "|2016-06-01 00:00:00| [E4N,50890]|              2|      2|           97|1.2371134020618557|\n",
      "|2016-06-01 00:00:00| [E4N,50890]|              3|      2|           74|1.6216216216216217|\n",
      "|2016-06-01 00:00:00| [E4N,51085]|              2|      2|           63|1.9047619047619047|\n",
      "|2016-06-01 00:00:00| [E4N,51370]|              2|      3|           76|2.3684210526315788|\n",
      "|2016-06-01 00:00:00| [E4N,51630]|              2|      3|           65| 2.769230769230769|\n",
      "|2016-06-01 00:00:00| [E4N,51895]|              1|      1|           69|0.8695652173913043|\n",
      "|2016-06-01 00:00:00| [E4N,51895]|              2|      2|           81|1.4814814814814814|\n",
      "|2016-06-01 00:00:00| [E4N,52220]|              3|      1|          107|0.5607476635514018|\n",
      "|2016-06-01 00:00:00| [E4N,52220]|              4|      3|           71| 2.535211267605634|\n",
      "+-------------------+------------+---------------+-------+-------------+------------------+\n",
      "only showing top 20 rows"
     ]
    }
   ],
   "source": [
    "df_E4N_D.show(20)"
   ]
  },
  {
   "cell_type": "markdown",
   "metadata": {
    "deletable": true,
    "editable": true
   },
   "source": [
    "### Plotting Traffic Flow Diagrams\n",
    "\n",
    "We select one detector and plot its values. In this example we use detector 'E4N 26,050' in the right most lane."
   ]
  },
  {
   "cell_type": "code",
   "execution_count": 30,
   "metadata": {
    "collapsed": true,
    "deletable": true,
    "editable": true
   },
   "outputs": [],
   "source": [
    "%%spark -o df1\n",
    "df1 = df_E4N_D.filter((col('Ds_Reference.Road') == 'E4N') & \\\n",
    "                     (col('Ds_Reference.Km_Ref') == 26050) & \\\n",
    "                     (col('Detector_Number') == 1))"
   ]
  },
  {
   "cell_type": "code",
   "execution_count": 31,
   "metadata": {
    "collapsed": false,
    "deletable": true,
    "editable": true
   },
   "outputs": [
    {
     "data": {
      "text/plain": [
       "<matplotlib.axes._subplots.AxesSubplot at 0x650a310>"
      ]
     },
     "execution_count": 31,
     "metadata": {},
     "output_type": "execute_result"
    },
    {
     "data": {
      "image/png": "[encoded data removed]",
      "text/plain": [
       "<matplotlib.figure.Figure at 0x64fce10>"
      ]
     },
     "metadata": {},
     "output_type": "display_data"
    }
   ],
   "source": [
    "%%local\n",
    "df1.plot.scatter(x = 'Density', y = 'Average_Speed', c= df1['Timestamp'].dt.hour, colormap='Blues', colorbar=False)"
   ]
  },
  {
   "cell_type": "code",
   "execution_count": 32,
   "metadata": {
    "collapsed": false,
    "deletable": true,
    "editable": true
   },
   "outputs": [
    {
     "data": {
      "text/plain": [
       "<matplotlib.axes._subplots.AxesSubplot at 0x6e88f90>"
      ]
     },
     "execution_count": 32,
     "metadata": {},
     "output_type": "execute_result"
    },
    {
     "data": {
      "image/png": "[encoded data removed]",
      "text/plain": [
       "<matplotlib.figure.Figure at 0x65094d0>"
      ]
     },
     "metadata": {},
     "output_type": "display_data"
    }
   ],
   "source": [
    "%%local\n",
    "df1.plot.scatter(x = 'Average_Speed', y = 'Flow_In', c= df1['Timestamp'].dt.hour, colormap='Blues', colorbar=False )"
   ]
  },
  {
   "cell_type": "code",
   "execution_count": 33,
   "metadata": {
    "collapsed": false,
    "deletable": true,
    "editable": true
   },
   "outputs": [
    {
     "data": {
      "text/plain": [
       "<matplotlib.axes._subplots.AxesSubplot at 0x68f2b10>"
      ]
     },
     "execution_count": 33,
     "metadata": {},
     "output_type": "execute_result"
    },
    {
     "data": {
      "image/png": "[encoded data removed]",
      "text/plain": [
       "<matplotlib.figure.Figure at 0x5821d10>"
      ]
     },
     "metadata": {},
     "output_type": "display_data"
    }
   ],
   "source": [
    "%%local\n",
    "df1.plot.scatter(x = 'Density', y = 'Flow_In', c= df1['Timestamp'].dt.hour, legend=True, colormap='Blues', colorbar=False )"
   ]
  },
  {
   "cell_type": "markdown",
   "metadata": {
    "deletable": true,
    "editable": true
   },
   "source": [
    "We plot for another detector. This one lies in a more congested area."
   ]
  },
  {
   "cell_type": "code",
   "execution_count": 34,
   "metadata": {
    "collapsed": true,
    "deletable": true,
    "editable": true
   },
   "outputs": [],
   "source": [
    "%%spark -o df2\n",
    "df2 = df_E4N_D.filter((col('Ds_Reference.Road') == 'E4N') & \\\n",
    "                     (col('Ds_Reference.Km_Ref') == 68960) & \\\n",
    "                     (col('Detector_Number') == 1))"
   ]
  },
  {
   "cell_type": "code",
   "execution_count": 35,
   "metadata": {
    "collapsed": false,
    "deletable": true,
    "editable": true
   },
   "outputs": [
    {
     "data": {
      "text/plain": [
       "<matplotlib.axes._subplots.AxesSubplot at 0x7371950>"
      ]
     },
     "execution_count": 35,
     "metadata": {},
     "output_type": "execute_result"
    },
    {
     "data": {
      "image/png": "[encoded data removed]",
      "text/plain": [
       "<matplotlib.figure.Figure at 0x6907d50>"
      ]
     },
     "metadata": {},
     "output_type": "display_data"
    }
   ],
   "source": [
    "%%local\n",
    "df2.plot.scatter(x = 'Density', y = 'Average_Speed', c= df2['Timestamp'].dt.hour, colormap='Blues', colorbar=False)"
   ]
  },
  {
   "cell_type": "code",
   "execution_count": 36,
   "metadata": {
    "collapsed": false,
    "deletable": true,
    "editable": true
   },
   "outputs": [
    {
     "data": {
      "text/plain": [
       "<matplotlib.axes._subplots.AxesSubplot at 0x6fc6710>"
      ]
     },
     "execution_count": 36,
     "metadata": {},
     "output_type": "execute_result"
    },
    {
     "data": {
      "image/png": "[encoded data removed]",
      "text/plain": [
       "<matplotlib.figure.Figure at 0x76114d0>"
      ]
     },
     "metadata": {},
     "output_type": "display_data"
    }
   ],
   "source": [
    "%%local\n",
    "df2.plot.scatter(x = 'Average_Speed', y = 'Flow_In', c= df2['Timestamp'].dt.hour, colormap='Blues', colorbar=False)"
   ]
  },
  {
   "cell_type": "code",
   "execution_count": 37,
   "metadata": {
    "collapsed": false,
    "deletable": true,
    "editable": true
   },
   "outputs": [
    {
     "data": {
      "text/plain": [
       "<matplotlib.axes._subplots.AxesSubplot at 0x6fb7fd0>"
      ]
     },
     "execution_count": 37,
     "metadata": {},
     "output_type": "execute_result"
    },
    {
     "data": {
      "image/png": "[encoded data removed]",
      "text/plain": [
       "<matplotlib.figure.Figure at 0x6ef1e50>"
      ]
     },
     "metadata": {},
     "output_type": "display_data"
    }
   ],
   "source": [
    "%%local\n",
    "df2.plot.scatter(x = 'Density', y = 'Flow_In', c= df2['Timestamp'].dt.hour, colormap='Blues', colorbar=False)"
   ]
  },
  {
   "cell_type": "markdown",
   "metadata": {
    "collapsed": true,
    "deletable": true,
    "editable": true
   },
   "source": [
    "# End of Queue Detection"
   ]
  },
  {
   "cell_type": "markdown",
   "metadata": {
    "deletable": true,
    "editable": true
   },
   "source": [
    "\n",
    "<img src=\"img/Queue.png\" alt=\"Queue Sign\" style=\"width: 300px;\"/>\n",
    "\n",
    "To detect the end of queues we will use the **density** field we calculated. The end of the queue should be close to the detector that experienced a **sudden increase in density** compared to the density in the previous minute. The end of the queue considered an accident hazard in highways.\n",
    "\n",
    "To calculate the difference in density we will use the **Window** function in Spark. A window partitions and sorts the data into groups. Then we can run a computation on the records in these groups (windows). In our example, we will partition the data by the detector unique ID (Ds_Reference + Detector_Number) so we will have all the data for one detector groupd in a window then we sort it by the time stamp."
   ]
  },
  {
   "cell_type": "code",
   "execution_count": 38,
   "metadata": {
    "collapsed": true,
    "deletable": true,
    "editable": true
   },
   "outputs": [],
   "source": [
    "w = Window.partitionBy('Ds_Reference', 'Detector_Number').orderBy('Timestamp')"
   ]
  },
  {
   "cell_type": "markdown",
   "metadata": {
    "deletable": true,
    "editable": true
   },
   "source": [
    "Then we define two functions over these windows to calculate the dinsity difference and time difference. We use `lag()` to access the previous record in the sorted window."
   ]
  },
  {
   "cell_type": "code",
   "execution_count": 39,
   "metadata": {
    "collapsed": true,
    "deletable": true,
    "editable": true
   },
   "outputs": [],
   "source": [
    "densDiff = col('Density')- lag('Density', 1).over(w)\n",
    "timeFmt = 'yyyy-MM-dd HH:mm:ss.SSS'\n",
    "timeDiff = unix_timestamp('Timestamp', format=timeFmt) - lag(unix_timestamp('Timestamp', format=timeFmt)).over(w)"
   ]
  },
  {
   "cell_type": "markdown",
   "metadata": {
    "deletable": true,
    "editable": true
   },
   "source": [
    "We use these functions to create two new columns in our dataset."
   ]
  },
  {
   "cell_type": "code",
   "execution_count": 40,
   "metadata": {
    "collapsed": true,
    "deletable": true,
    "editable": true
   },
   "outputs": [],
   "source": [
    "df_diff = df_E4N_D.withColumn('Density_Diff', densDiff).withColumn('timeDiff', timeDiff)"
   ]
  },
  {
   "cell_type": "code",
   "execution_count": 41,
   "metadata": {
    "collapsed": false,
    "deletable": true,
    "editable": true
   },
   "outputs": [
    {
     "name": "stdout",
     "output_type": "stream",
     "text": [
      "+-------------------+------------+---------------+-------+-------------+------------------+--------------------+--------+\n",
      "|          Timestamp|Ds_Reference|Detector_Number|Flow_In|Average_Speed|           Density|        Density_Diff|timeDiff|\n",
      "+-------------------+------------+---------------+-------+-------------+------------------+--------------------+--------+\n",
      "|2016-06-01 00:48:00| [E4N,30710]|              2|      1|           28| 2.142857142857143|                null|    null|\n",
      "|2016-06-01 02:27:00| [E4N,30710]|              2|      1|           36|1.6666666666666667|-0.47619047619047605|    5940|\n",
      "|2016-06-01 02:33:00| [E4N,30710]|              2|      1|           99|0.6060606060606061| -1.0606060606060606|     360|\n",
      "|2016-06-01 03:02:00| [E4N,30710]|              2|     11|          113|  5.84070796460177|   5.234647358541164|    1740|\n",
      "|2016-06-01 03:03:00| [E4N,30710]|              2|     18|          102|10.588235294117647|   4.747527329515877|      60|\n",
      "|2016-06-01 03:04:00| [E4N,30710]|              2|     24|           96|              15.0|   4.411764705882353|      60|\n",
      "|2016-06-01 03:05:00| [E4N,30710]|              2|     15|           97| 9.278350515463918|  -5.721649484536082|      60|\n",
      "|2016-06-01 03:06:00| [E4N,30710]|              2|      8|          105| 4.571428571428571|  -4.706921944035347|      60|\n",
      "|2016-06-01 03:07:00| [E4N,30710]|              2|     10|          100|               6.0|  1.4285714285714288|      60|\n",
      "|2016-06-01 03:08:00| [E4N,30710]|              2|      5|          110| 2.727272727272727|  -3.272727272727273|      60|\n",
      "|2016-06-01 03:09:00| [E4N,30710]|              2|      5|          101|2.9702970297029703|  0.2430243024302432|      60|\n",
      "|2016-06-01 03:10:00| [E4N,30710]|              2|      4|          105|2.2857142857142856| -0.6845827439886847|      60|\n",
      "|2016-06-01 03:11:00| [E4N,30710]|              2|      1|          119|0.5042016806722689| -1.7815126050420167|      60|\n",
      "|2016-06-01 03:12:00| [E4N,30710]|              2|      7|          101| 4.158415841584159|  3.6542141609118897|      60|\n",
      "|2016-06-01 03:13:00| [E4N,30710]|              2|      8|          101| 4.752475247524752|  0.5940594059405937|      60|\n",
      "|2016-06-01 03:14:00| [E4N,30710]|              2|      9|          103| 5.242718446601942| 0.49024319907718983|      60|\n",
      "|2016-06-01 03:15:00| [E4N,30710]|              2|      7|          102| 4.117647058823529|  -1.125071387778413|      60|\n",
      "|2016-06-01 03:16:00| [E4N,30710]|              2|      7|          108| 3.888888888888889|-0.22875816993464015|      60|\n",
      "|2016-06-01 03:17:00| [E4N,30710]|              2|     13|          105| 7.428571428571429|    3.53968253968254|      60|\n",
      "|2016-06-01 03:18:00| [E4N,30710]|              2|      8|          103| 4.660194174757281| -2.7683772538141476|      60|\n",
      "+-------------------+------------+---------------+-------+-------------+------------------+--------------------+--------+\n",
      "only showing top 20 rows"
     ]
    }
   ],
   "source": [
    "df_diff.show(20)"
   ]
  },
  {
   "cell_type": "markdown",
   "metadata": {
    "deletable": true,
    "editable": true
   },
   "source": [
    "Because we filtered the original dataset to contain only normal records (we removed records with error codes such as faulty detector or empty highway), some of the records in the window we defined might be more than a minute apart. We filter these records out using the timeDiff field we calculated."
   ]
  },
  {
   "cell_type": "code",
   "execution_count": 42,
   "metadata": {
    "collapsed": true,
    "deletable": true,
    "editable": true
   },
   "outputs": [],
   "source": [
    "df_diff_min = df_diff.filter(col('timeDiff') == 60)"
   ]
  },
  {
   "cell_type": "code",
   "execution_count": 43,
   "metadata": {
    "collapsed": false,
    "deletable": true,
    "editable": true
   },
   "outputs": [
    {
     "name": "stdout",
     "output_type": "stream",
     "text": [
      "+-------------------+------------+---------------+-------+-------------+------------------+--------------------+--------+\n",
      "|          Timestamp|Ds_Reference|Detector_Number|Flow_In|Average_Speed|           Density|        Density_Diff|timeDiff|\n",
      "+-------------------+------------+---------------+-------+-------------+------------------+--------------------+--------+\n",
      "|2016-06-01 03:03:00| [E4N,30710]|              2|     18|          102|10.588235294117647|   4.747527329515877|      60|\n",
      "|2016-06-01 03:04:00| [E4N,30710]|              2|     24|           96|              15.0|   4.411764705882353|      60|\n",
      "|2016-06-01 03:05:00| [E4N,30710]|              2|     15|           97| 9.278350515463918|  -5.721649484536082|      60|\n",
      "|2016-06-01 03:06:00| [E4N,30710]|              2|      8|          105| 4.571428571428571|  -4.706921944035347|      60|\n",
      "|2016-06-01 03:07:00| [E4N,30710]|              2|     10|          100|               6.0|  1.4285714285714288|      60|\n",
      "|2016-06-01 03:08:00| [E4N,30710]|              2|      5|          110| 2.727272727272727|  -3.272727272727273|      60|\n",
      "|2016-06-01 03:09:00| [E4N,30710]|              2|      5|          101|2.9702970297029703|  0.2430243024302432|      60|\n",
      "|2016-06-01 03:10:00| [E4N,30710]|              2|      4|          105|2.2857142857142856| -0.6845827439886847|      60|\n",
      "|2016-06-01 03:11:00| [E4N,30710]|              2|      1|          119|0.5042016806722689| -1.7815126050420167|      60|\n",
      "|2016-06-01 03:12:00| [E4N,30710]|              2|      7|          101| 4.158415841584159|  3.6542141609118897|      60|\n",
      "|2016-06-01 03:13:00| [E4N,30710]|              2|      8|          101| 4.752475247524752|  0.5940594059405937|      60|\n",
      "|2016-06-01 03:14:00| [E4N,30710]|              2|      9|          103| 5.242718446601942| 0.49024319907718983|      60|\n",
      "|2016-06-01 03:15:00| [E4N,30710]|              2|      7|          102| 4.117647058823529|  -1.125071387778413|      60|\n",
      "|2016-06-01 03:16:00| [E4N,30710]|              2|      7|          108| 3.888888888888889|-0.22875816993464015|      60|\n",
      "|2016-06-01 03:17:00| [E4N,30710]|              2|     13|          105| 7.428571428571429|    3.53968253968254|      60|\n",
      "|2016-06-01 03:18:00| [E4N,30710]|              2|      8|          103| 4.660194174757281| -2.7683772538141476|      60|\n",
      "|2016-06-01 03:19:00| [E4N,30710]|              2|     15|          105| 8.571428571428571|    3.91123439667129|      60|\n",
      "|2016-06-01 03:20:00| [E4N,30710]|              2|     12|          101| 7.128712871287129| -1.4427157001414423|      60|\n",
      "|2016-06-01 03:21:00| [E4N,30710]|              2|     10|          110| 5.454545454545454| -1.6741674167416747|      60|\n",
      "|2016-06-01 03:22:00| [E4N,30710]|              2|     11|          111| 5.945945945945946| 0.49140049140049147|      60|\n",
      "+-------------------+------------+---------------+-------+-------------+------------------+--------------------+--------+\n",
      "only showing top 20 rows"
     ]
    }
   ],
   "source": [
    "df_diff_min.show(20)"
   ]
  },
  {
   "cell_type": "markdown",
   "metadata": {
    "deletable": true,
    "editable": true
   },
   "source": [
    "Now that we calculated the density difference, all what is left is to find the detectors that cross certain thresholds that we define."
   ]
  },
  {
   "cell_type": "code",
   "execution_count": 44,
   "metadata": {
    "collapsed": true,
    "deletable": true,
    "editable": true
   },
   "outputs": [],
   "source": [
    "df_queue = df_diff_min.filter( (col('Density') > 30) & (col('Density_Diff') > 20) )"
   ]
  },
  {
   "cell_type": "code",
   "execution_count": 45,
   "metadata": {
    "collapsed": false,
    "deletable": true,
    "editable": true
   },
   "outputs": [
    {
     "name": "stdout",
     "output_type": "stream",
     "text": [
      "110621"
     ]
    }
   ],
   "source": [
    "df_queue.count()"
   ]
  },
  {
   "cell_type": "code",
   "execution_count": 46,
   "metadata": {
    "collapsed": false,
    "deletable": true,
    "editable": true
   },
   "outputs": [
    {
     "name": "stdout",
     "output_type": "stream",
     "text": [
      "+-------------------+------------+---------------+-------+-------------+------------------+------------------+--------+\n",
      "|          Timestamp|Ds_Reference|Detector_Number|Flow_In|Average_Speed|           Density|      Density_Diff|timeDiff|\n",
      "+-------------------+------------+---------------+-------+-------------+------------------+------------------+--------+\n",
      "|2016-06-01 15:12:00| [E4N,30710]|              2|     25|           23| 65.21739130434783|29.217391304347828|      60|\n",
      "|2016-06-01 15:35:00| [E4N,30710]|              2|     20|           20|              60.0|              34.5|      60|\n",
      "|2016-06-01 15:37:00| [E4N,30710]|              2|     16|           13| 73.84615384615384| 40.24615384615384|      60|\n",
      "|2016-06-01 15:39:00| [E4N,30710]|              2|     18|           13| 83.07692307692308|28.791208791208796|      60|\n",
      "|2016-06-01 15:44:00| [E4N,30710]|              2|     17|           14| 72.85714285714286| 20.85714285714286|      60|\n",
      "|2016-06-01 15:50:00| [E4N,30710]|              2|     19|           22| 51.81818181818182| 21.81818181818182|      60|\n",
      "|2016-06-01 15:54:00| [E4N,30710]|              2|     18|           15|              72.0|              24.0|      60|\n",
      "|2016-06-06 14:38:00| [E4N,30710]|              2|     20|           23| 52.17391304347826|  32.7144535840188|      60|\n",
      "|2016-06-06 14:43:00| [E4N,30710]|              2|     11|            9| 73.33333333333333| 43.33333333333333|      60|\n",
      "|2016-06-06 14:44:00| [E4N,30710]|              2|     11|            7| 94.28571428571429|20.952380952380963|      60|\n",
      "|2016-06-06 14:45:00| [E4N,30710]|              2|     14|            6|             140.0| 45.71428571428571|      60|\n",
      "|2016-06-06 14:47:00| [E4N,30710]|              2|     10|            4|             150.0|              90.0|      60|\n",
      "|2016-06-06 14:49:00| [E4N,30710]|              2|     11|            7| 94.28571428571429| 34.28571428571429|      60|\n",
      "|2016-06-06 15:03:00| [E4N,30710]|              2|      9|            5|             108.0|54.666666666666664|      60|\n",
      "|2016-06-06 15:09:00| [E4N,30710]|              2|     15|            7|128.57142857142858| 81.90476190476193|      60|\n",
      "|2016-06-06 15:12:00| [E4N,30710]|              2|     16|           11| 87.27272727272727|27.272727272727266|      60|\n",
      "|2016-06-06 15:19:00| [E4N,30710]|              2|     14|           14|              60.0|              22.5|      60|\n",
      "|2016-06-06 15:31:00| [E4N,30710]|              2|     18|           12|              90.0|              26.0|      60|\n",
      "|2016-06-06 15:39:00| [E4N,30710]|              2|     15|           13| 69.23076923076923|27.008547008547005|      60|\n",
      "|2016-06-06 15:40:00| [E4N,30710]|              2|     11|            5|             132.0|62.769230769230774|      60|\n",
      "+-------------------+------------+---------------+-------+-------------+------------------+------------------+--------+\n",
      "only showing top 20 rows"
     ]
    }
   ],
   "source": [
    "df_queue.show(20)"
   ]
  },
  {
   "cell_type": "markdown",
   "metadata": {
    "collapsed": true,
    "deletable": true,
    "editable": true
   },
   "source": [
    "# 3 - Visualization"
   ]
  },
  {
   "cell_type": "markdown",
   "metadata": {
    "deletable": true,
    "editable": true
   },
   "source": [
    "Now that we have found the queue ends (in `df_queue` DataFrame), it is useful to visualize them on a **Map** and see them in action. We will use a map widget from [ipyleaflet](https://github.com/ellisonbg/ipyleaflet) to plot the Geo locations and use a **Text Box** to show the time."
   ]
  },
  {
   "cell_type": "code",
   "execution_count": 47,
   "metadata": {
    "collapsed": false,
    "deletable": true,
    "editable": true
   },
   "outputs": [],
   "source": [
    "%%local\n",
    "from ipyleaflet import Map, GeoJSON, TileLayer\n",
    "from geojson import FeatureCollection, Feature, MultiPolygon\n",
    "import ipywidgets as widgets\n",
    "from  datetime import timedelta, datetime\n",
    "import time\n",
    "\n",
    "# Uncomment the map you prefer from the ones below, or add your prefered map source\n",
    "# Comment all and remove default_tiles to use the default map\n",
    "#url = 'https://{s}.tile.openstreetmap.fr/hot/{z}/{x}/{y}.png'\n",
    "url = 'http://a.tile.basemaps.cartocdn.com/light_all/{z}/{x}/{y}.png'\n",
    "#url = 'http://{s}.tile.stamen.com/toner/{z}/{x}/{y}.png'\n",
    "\n",
    "provider = TileLayer(url=url, opacity=1)\n",
    "myMap =Map(default_tiles=provider, center=[59.334591, 18.063240], zoom=12, layout=widgets.Layout(width='130%', height='1000px'))\n",
    "myMap.layout.height = '600px'\n",
    "myMap.layout.width = '100%'"
   ]
  },
  {
   "cell_type": "code",
   "execution_count": 48,
   "metadata": {
    "collapsed": false,
    "deletable": true,
    "editable": true
   },
   "outputs": [
    {
     "data": {
      "application/vnd.jupyter.widget-view+json": {
       "model_id": "8168e81e88bd40d791ccbf69185eb8f3",
       "version_major": 2,
       "version_minor": 0
      },
      "text/html": [
       "<p>Failed to display Jupyter Widget of type <code>Map</code>.</p>\n",
       "<p>\n",
       "  If you're reading this message in the Jupyter Notebook or JupyterLab Notebook, it may mean\n",
       "  that the widgets JavaScript is still loading. If this message persists, it\n",
       "  likely means that the widgets JavaScript library is either not installed or\n",
       "  not enabled. See the <a href=\"https://ipywidgets.readthedocs.io/en/stable/user_install.html\">Jupyter\n",
       "  Widgets Documentation</a> for setup instructions.\n",
       "</p>\n",
       "<p>\n",
       "  If you're reading this message in another frontend (for example, a static\n",
       "  rendering on GitHub or <a href=\"https://nbviewer.jupyter.org/\">NBViewer</a>),\n",
       "  it may mean that your frontend doesn't currently support widgets.\n",
       "</p>\n"
      ],
      "text/plain": [
       "Map(center=[59.334591, 18.06324], layers=(TileLayer(options=[u'opacity', u'attribution', u'max_zoom', u'detect_retina', u'min_zoom', u'tile_size'], url=u'http://a.tile.basemaps.cartocdn.com/light_all/{z}/{x}/{y}.png'),), layout=Layout(height=u'600px', width=u'100%'), options=[u'keyboard_pan_offset', u'tap', u'attribution_control', u'max_zoom', u'min_zoom', u'bounce_at_zoom_limits', u'keyboard', u'scroll_wheel_zoom', u'dragging', u'inertia_max_speed', u'close_popup_on_click', u'zoom_control', u'box_zoom', u'double_click_zoom', u'tap_tolerance', u'zoom_start', u'keyboard_zoom_offset', u'inertia_deceleration', u'inertia', u'center', u'zoom', u'world_copy_jump', u'zoom_animation_threshold', u'touch_zoom'])"
      ]
     },
     "metadata": {},
     "output_type": "display_data"
    }
   ],
   "source": [
    "%%local\n",
    "myMap"
   ]
  },
  {
   "cell_type": "code",
   "execution_count": 49,
   "metadata": {
    "collapsed": false,
    "deletable": true,
    "editable": true
   },
   "outputs": [
    {
     "data": {
      "application/vnd.jupyter.widget-view+json": {
       "model_id": "8309b2dd58b7449f9708730500f085df",
       "version_major": 2,
       "version_minor": 0
      },
      "text/html": [
       "<p>Failed to display Jupyter Widget of type <code>Text</code>.</p>\n",
       "<p>\n",
       "  If you're reading this message in the Jupyter Notebook or JupyterLab Notebook, it may mean\n",
       "  that the widgets JavaScript is still loading. If this message persists, it\n",
       "  likely means that the widgets JavaScript library is either not installed or\n",
       "  not enabled. See the <a href=\"https://ipywidgets.readthedocs.io/en/stable/user_install.html\">Jupyter\n",
       "  Widgets Documentation</a> for setup instructions.\n",
       "</p>\n",
       "<p>\n",
       "  If you're reading this message in another frontend (for example, a static\n",
       "  rendering on GitHub or <a href=\"https://nbviewer.jupyter.org/\">NBViewer</a>),\n",
       "  it may mean that your frontend doesn't currently support widgets.\n",
       "</p>\n"
      ],
      "text/plain": [
       "Text(value=u'Timestamp!', disabled=True)"
      ]
     },
     "metadata": {},
     "output_type": "display_data"
    }
   ],
   "source": [
    "%%local\n",
    "wgt = widgets.Text(value='Timestamp!', disabled=True)\n",
    "wgt"
   ]
  },
  {
   "cell_type": "markdown",
   "metadata": {
    "deletable": true,
    "editable": true
   },
   "source": [
    "## Detector Metadata\n",
    "\n",
    "To plot the data on the map we need the **GPS coordinates** of the detector. This metadata exists in a separate geographic information system (GIS). We exported the data into a csv file and converted the coordinates from the Swedish SWEREF99 standard to the GPS WGS84 standard for easier plotting on the map. \n",
    "\n",
    "Then we load the metadata into Spark."
   ]
  },
  {
   "cell_type": "code",
   "execution_count": 50,
   "metadata": {
    "collapsed": false,
    "deletable": true,
    "editable": true
   },
   "outputs": [],
   "source": [
    "schema_metadata = StructType() \\\n",
    "        .add('Y', DoubleType(), False) \\\n",
    "        .add('X', DoubleType(), False) \\\n",
    "        .add('DetectorId', ShortType(), False) \\\n",
    "        .add('McsDetecto', ShortType(), False) \\\n",
    "        .add('McsDsRefer', StringType(), False) \\\n",
    "        .add('LaneId', ShortType(), False) \\\n",
    "        .add('Bearing', ShortType(), True) \\\n",
    "        .add('Location', StringType(), True) \\\n",
    "        .add('RegionId', ShortType(), False) \\\n",
    "        .add('Entreprene', StringType(), True) \\\n",
    "        .add('StationId', ShortType(), False) \\\n",
    "        .add('SiteId', ShortType(), False) \\\n",
    "        .add('SiteValidF', TimestampType(), False) \\\n",
    "        .add('SiteValidT', TimestampType(), False) \\\n",
    "        .add('DetectorVa', TimestampType(), False) \\\n",
    "        .add('Detector_1', TimestampType(), False)"
   ]
  },
  {
   "cell_type": "code",
   "execution_count": 56,
   "metadata": {
    "collapsed": false,
    "deletable": true,
    "editable": true
   },
   "outputs": [],
   "source": [
    "df_metadata_raw = spark.read.csv('hdfs:///Projects/labs/TrafficFlow/StockholmDetectorMetadata.csv', sep=';', schema=schema_metadata, \\\n",
    "                    ignoreLeadingWhiteSpace=True, ignoreTrailingWhiteSpace=True, \\\n",
    "                    header=True, \\\n",
    "                    timestampFormat='yyyy/MM/dd HH:mm:ss.SSS')"
   ]
  },
  {
   "cell_type": "markdown",
   "metadata": {
    "deletable": true,
    "editable": true
   },
   "source": [
    "We split the Ds_Reference like we did with the flow data"
   ]
  },
  {
   "cell_type": "code",
   "execution_count": 57,
   "metadata": {
    "collapsed": false,
    "deletable": true,
    "editable": true
   },
   "outputs": [
    {
     "name": "stdout",
     "output_type": "stream",
     "text": [
      "root\n",
      " |-- Y: double (nullable = true)\n",
      " |-- X: double (nullable = true)\n",
      " |-- DetectorId: short (nullable = true)\n",
      " |-- McsDetecto: short (nullable = true)\n",
      " |-- McsDsRefer: struct (nullable = true)\n",
      " |    |-- Road: string (nullable = false)\n",
      " |    |-- Km_Ref: integer (nullable = false)\n",
      " |-- LaneId: short (nullable = true)\n",
      " |-- Bearing: short (nullable = true)\n",
      " |-- Location: string (nullable = true)\n",
      " |-- RegionId: short (nullable = true)\n",
      " |-- Entreprene: string (nullable = true)\n",
      " |-- StationId: short (nullable = true)\n",
      " |-- SiteId: short (nullable = true)\n",
      " |-- SiteValidF: timestamp (nullable = true)\n",
      " |-- SiteValidT: timestamp (nullable = true)\n",
      " |-- DetectorVa: timestamp (nullable = true)\n",
      " |-- Detector_1: timestamp (nullable = true)"
     ]
    }
   ],
   "source": [
    "df_metadata = df_metadata_raw.withColumn('McsDsRefer', split_ds_ref(col('McsDsRefer')))\n",
    "df_metadata.printSchema()"
   ]
  },
  {
   "cell_type": "markdown",
   "metadata": {
    "deletable": true,
    "editable": true
   },
   "source": [
    "## Plotting the Detectors on the Map\n",
    "\n",
    "To verify the metada we will plot all detectors on the map. We extract the coordinates from the Spark DataFrame into a local Python list object then plot them."
   ]
  },
  {
   "cell_type": "code",
   "execution_count": 58,
   "metadata": {
    "collapsed": false,
    "deletable": true,
    "editable": true
   },
   "outputs": [],
   "source": [
    "%%spark -o coord_df\n",
    "coord_df = df_metadata.select('Y','X')"
   ]
  },
  {
   "cell_type": "markdown",
   "metadata": {
    "deletable": true,
    "editable": true
   },
   "source": [
    "We convert the coordinates into a GeoJson polygon that can be plotted by the map (small triangles)"
   ]
  },
  {
   "cell_type": "code",
   "execution_count": 59,
   "metadata": {
    "collapsed": false,
    "deletable": true,
    "editable": true
   },
   "outputs": [],
   "source": [
    "%%local\n",
    "features = []\n",
    "for index, pos in coord_df.iterrows():\n",
    "    p = MultiPolygon([ \\\n",
    "                      ([(pos['X'], pos['Y']), \\\n",
    "                        (pos['X']+0.000001, pos['Y']+0.000001), \\\n",
    "                        (pos['X']-0.000001, pos['Y']+0.000001), \\\n",
    "                        (pos['X'], pos['Y'])],) \\\n",
    "                     ])\n",
    "\n",
    "    features.append(Feature(geometry=p, \\\n",
    "                    properties={'style':{'color': '#0000cd', 'fillColor': '#0000cd', 'fillOpacity': 1.0, 'weight': 6}}))\n",
    "\n",
    "data = FeatureCollection(features)\n",
    "g = GeoJSON(data=data)\n",
    "    "
   ]
  },
  {
   "cell_type": "markdown",
   "metadata": {
    "deletable": true,
    "editable": true
   },
   "source": [
    "We can check one of the points"
   ]
  },
  {
   "cell_type": "code",
   "execution_count": 60,
   "metadata": {
    "collapsed": false,
    "deletable": true,
    "editable": true
   },
   "outputs": [
    {
     "data": {
      "text/plain": [
       "{\"geometry\": {\"coordinates\": [[[[17.939260478657602, 59.388221402672897], [17.939261478657603, 59.388222402672895], [17.939259478657601, 59.388222402672895], [17.939260478657602, 59.388221402672897]]]], \"type\": \"MultiPolygon\"}, \"properties\": {\"style\": {\"color\": \"#0000cd\", \"fillColor\": \"#0000cd\", \"fillOpacity\": 1.0, \"weight\": 6}}, \"type\": \"Feature\"}"
      ]
     },
     "execution_count": 60,
     "metadata": {},
     "output_type": "execute_result"
    }
   ],
   "source": [
    "%%local\n",
    "data['features'][2]"
   ]
  },
  {
   "cell_type": "markdown",
   "metadata": {
    "deletable": true,
    "editable": true
   },
   "source": [
    "And verify that the GeoJson we created is valid"
   ]
  },
  {
   "cell_type": "code",
   "execution_count": 61,
   "metadata": {
    "collapsed": false,
    "deletable": true,
    "editable": true
   },
   "outputs": [
    {
     "data": {
      "text/plain": [
       "True"
      ]
     },
     "execution_count": 61,
     "metadata": {},
     "output_type": "execute_result"
    }
   ],
   "source": [
    "%%local\n",
    "data.is_valid"
   ]
  },
  {
   "cell_type": "markdown",
   "metadata": {
    "deletable": true,
    "editable": true
   },
   "source": [
    "Add the data to the map. Scroll up and you should see the locations of the detectors plotted on the map."
   ]
  },
  {
   "cell_type": "code",
   "execution_count": 62,
   "metadata": {
    "collapsed": true,
    "deletable": true,
    "editable": true
   },
   "outputs": [],
   "source": [
    "%%local\n",
    "myMap.add_layer(g)"
   ]
  },
  {
   "cell_type": "markdown",
   "metadata": {
    "deletable": true,
    "editable": true
   },
   "source": [
    "When you are done. Remov the detectors layer from the map to clean it up"
   ]
  },
  {
   "cell_type": "code",
   "execution_count": 63,
   "metadata": {
    "collapsed": false,
    "deletable": true,
    "editable": true
   },
   "outputs": [],
   "source": [
    "%%local\n",
    "myMap.remove_layer(g)"
   ]
  },
  {
   "cell_type": "markdown",
   "metadata": {
    "deletable": true,
    "editable": true
   },
   "source": [
    "## Add Coordinates to Queue data\n",
    "\n",
    "Now that we have the coordinates of the detectors, we need to add them to the queues we found so we can plot them. For that we use the **join** operation."
   ]
  },
  {
   "cell_type": "code",
   "execution_count": 64,
   "metadata": {
    "collapsed": true,
    "deletable": true,
    "editable": true
   },
   "outputs": [],
   "source": [
    "df_queue_coord = df_queue.alias('a').join(df_metadata.alias('b'), (col('a.Ds_Reference') == col('b.McsDsRefer')) \\\n",
    "                                           & (col('a.Detector_Number') == col('b.LaneId')))"
   ]
  },
  {
   "cell_type": "code",
   "execution_count": 65,
   "metadata": {
    "collapsed": false,
    "deletable": true,
    "editable": true
   },
   "outputs": [
    {
     "name": "stdout",
     "output_type": "stream",
     "text": [
      "root\n",
      " |-- Timestamp: timestamp (nullable = true)\n",
      " |-- Ds_Reference: struct (nullable = true)\n",
      " |    |-- Road: string (nullable = false)\n",
      " |    |-- Km_Ref: integer (nullable = false)\n",
      " |-- Detector_Number: short (nullable = true)\n",
      " |-- Flow_In: short (nullable = true)\n",
      " |-- Average_Speed: short (nullable = true)\n",
      " |-- Density: double (nullable = true)\n",
      " |-- Density_Diff: double (nullable = true)\n",
      " |-- timeDiff: long (nullable = true)\n",
      " |-- Y: double (nullable = true)\n",
      " |-- X: double (nullable = true)\n",
      " |-- DetectorId: short (nullable = true)\n",
      " |-- McsDetecto: short (nullable = true)\n",
      " |-- McsDsRefer: struct (nullable = true)\n",
      " |    |-- Road: string (nullable = false)\n",
      " |    |-- Km_Ref: integer (nullable = false)\n",
      " |-- LaneId: short (nullable = true)\n",
      " |-- Bearing: short (nullable = true)\n",
      " |-- Location: string (nullable = true)\n",
      " |-- RegionId: short (nullable = true)\n",
      " |-- Entreprene: string (nullable = true)\n",
      " |-- StationId: short (nullable = true)\n",
      " |-- SiteId: short (nullable = true)\n",
      " |-- SiteValidF: timestamp (nullable = true)\n",
      " |-- SiteValidT: timestamp (nullable = true)\n",
      " |-- DetectorVa: timestamp (nullable = true)\n",
      " |-- Detector_1: timestamp (nullable = true)"
     ]
    }
   ],
   "source": [
    "df_queue_coord.printSchema()"
   ]
  },
  {
   "cell_type": "markdown",
   "metadata": {
    "deletable": true,
    "editable": true
   },
   "source": [
    "# Visualize Queue Locations"
   ]
  },
  {
   "cell_type": "markdown",
   "metadata": {
    "deletable": true,
    "editable": true
   },
   "source": [
    "We extract the data we need from the joined table in Spark and get it locally into a Pandas DataFrame then loop through it and plot the queue ends we found on the map and show the time in the text box"
   ]
  },
  {
   "cell_type": "code",
   "execution_count": 66,
   "metadata": {
    "collapsed": false,
    "deletable": true,
    "editable": true
   },
   "outputs": [],
   "source": [
    "%%spark -o pdf_queue_coord\n",
    "pdf_queue_coord = df_queue_coord.select('Timestamp', 'X', 'Y', 'Density')"
   ]
  },
  {
   "cell_type": "markdown",
   "metadata": {
    "deletable": true,
    "editable": true
   },
   "source": [
    "We can use the time stamp to get the queues at a specific time and the gps coordinates to plot them. For example:"
   ]
  },
  {
   "cell_type": "code",
   "execution_count": 67,
   "metadata": {
    "collapsed": false,
    "deletable": true,
    "editable": true
   },
   "outputs": [
    {
     "data": {
      "application/vnd.jupyter.widget-view+json": {
       "model_id": "2830dff23d69425e81bd0105f4a0551b",
       "version_major": 2,
       "version_minor": 0
      },
      "text/html": [
       "<p>Failed to display Jupyter Widget of type <code>VBox</code>.</p>\n",
       "<p>\n",
       "  If you're reading this message in the Jupyter Notebook or JupyterLab Notebook, it may mean\n",
       "  that the widgets JavaScript is still loading. If this message persists, it\n",
       "  likely means that the widgets JavaScript library is either not installed or\n",
       "  not enabled. See the <a href=\"https://ipywidgets.readthedocs.io/en/stable/user_install.html\">Jupyter\n",
       "  Widgets Documentation</a> for setup instructions.\n",
       "</p>\n",
       "<p>\n",
       "  If you're reading this message in another frontend (for example, a static\n",
       "  rendering on GitHub or <a href=\"https://nbviewer.jupyter.org/\">NBViewer</a>),\n",
       "  it may mean that your frontend doesn't currently support widgets.\n",
       "</p>\n"
      ],
      "text/plain": [
       "VBox(children=(HBox(), EncodingWidget(children=(VBox(children=(HTML(value=u'Encoding:'), Dropdown(description=u'X', layout=Layout(width=u'200px'), options={u'Y': u'Y', u'Timestamp': u'Timestamp', u'Density': u'Density', '-': None, u'X': u'X'}, value=None), HBox(children=(Dropdown(description=u'Y', layout=Layout(width=u'200px'), options={u'Y': u'Y', u'Timestamp': u'Timestamp', u'Density': u'Density', '-': None, u'X': u'X'}, value=None), Dropdown(description=u'Func.', index=2, layout=Layout(width=u'200px'), options={'Count': 'Count', 'Min': 'Min', 'Max': 'Max', 'Sum': 'Sum', '-': 'None', 'Avg': 'Avg'}, value='Max'))), Checkbox(value=False, description=u'Log scale X'), Checkbox(value=False, description=u'Log scale Y'))),))))"
      ]
     },
     "metadata": {},
     "output_type": "display_data"
    },
    {
     "data": {
      "application/vnd.jupyter.widget-view+json": {
       "model_id": "f757448ce2f64d4ea954dc68b2424c0c",
       "version_major": 2,
       "version_minor": 0
      },
      "text/html": [
       "<p>Failed to display Jupyter Widget of type <code>Output</code>.</p>\n",
       "<p>\n",
       "  If you're reading this message in the Jupyter Notebook or JupyterLab Notebook, it may mean\n",
       "  that the widgets JavaScript is still loading. If this message persists, it\n",
       "  likely means that the widgets JavaScript library is either not installed or\n",
       "  not enabled. See the <a href=\"https://ipywidgets.readthedocs.io/en/stable/user_install.html\">Jupyter\n",
       "  Widgets Documentation</a> for setup instructions.\n",
       "</p>\n",
       "<p>\n",
       "  If you're reading this message in another frontend (for example, a static\n",
       "  rendering on GitHub or <a href=\"https://nbviewer.jupyter.org/\">NBViewer</a>),\n",
       "  it may mean that your frontend doesn't currently support widgets.\n",
       "</p>\n"
      ],
      "text/plain": [
       "Output()"
      ]
     },
     "metadata": {},
     "output_type": "display_data"
    }
   ],
   "source": [
    "%%local\n",
    "pdf_queue_coord[pdf_queue_coord['Timestamp'] == datetime(2016,6,8,13,57,0)]"
   ]
  },
  {
   "cell_type": "markdown",
   "metadata": {
    "deletable": true,
    "editable": true
   },
   "source": [
    "We define some helper functions that we will use in plotting.\n",
    "\n",
    "Remove all layers on the map except the map tiles."
   ]
  },
  {
   "cell_type": "code",
   "execution_count": 68,
   "metadata": {
    "collapsed": true,
    "deletable": true,
    "editable": true
   },
   "outputs": [],
   "source": [
    "%%local\n",
    "def map_cleanup(m):\n",
    "    for l in m.layers:\n",
    "        if type(l) != TileLayer:\n",
    "            m.remove_layer(l)\n",
    "            l.close()"
   ]
  },
  {
   "cell_type": "markdown",
   "metadata": {
    "deletable": true,
    "editable": true
   },
   "source": [
    "Get all layers except the map tiles."
   ]
  },
  {
   "cell_type": "code",
   "execution_count": 69,
   "metadata": {
    "collapsed": true,
    "deletable": true,
    "editable": true
   },
   "outputs": [],
   "source": [
    "%%local\n",
    "def map_get_layers(m):\n",
    "    layers = []\n",
    "    for l in m.layers:\n",
    "        if type(l) != TileLayer:\n",
    "            layers.append(l)\n",
    "    return layers"
   ]
  },
  {
   "cell_type": "markdown",
   "metadata": {
    "deletable": true,
    "editable": true
   },
   "source": [
    "Remove a given list of layers."
   ]
  },
  {
   "cell_type": "code",
   "execution_count": 70,
   "metadata": {
    "collapsed": true,
    "deletable": true,
    "editable": true
   },
   "outputs": [],
   "source": [
    "%%local\n",
    "def map_cleanup_Layers(m, layers):\n",
    "    for l in layers:\n",
    "        m.remove_layer(l)\n",
    "        l.close()"
   ]
  },
  {
   "cell_type": "markdown",
   "metadata": {
    "deletable": true,
    "editable": true
   },
   "source": [
    "Plots coordinates in a Pandas DataFrame on the map."
   ]
  },
  {
   "cell_type": "code",
   "execution_count": 71,
   "metadata": {
    "collapsed": true,
    "deletable": true,
    "editable": true
   },
   "outputs": [],
   "source": [
    "%%local\n",
    "def plot_pandas(pdf, m, color='#191970', opacity=0.5):\n",
    "    features = []\n",
    "    for index, row in pdf.iterrows():\n",
    "        p = MultiPolygon([ \\\n",
    "                        ([(row['X'], row['Y']), \\\n",
    "                        (row['X']+0.0005, row['Y']+0.0005), \\\n",
    "                        (row['X']-0.0005, row['Y']+0.0005), \\\n",
    "                        (row['X'], row['Y'])],) \\\n",
    "                        ])\n",
    "\n",
    "        features.append(Feature(geometry=p, \\\n",
    "                    properties={'style':{'color': color, 'fillColor': color, 'fillOpacity':opacity, 'weight': 5}}))\n",
    "\n",
    "    data = FeatureCollection(features)\n",
    "    g = GeoJSON(data=data)\n",
    "    m.add_layer(g)\n",
    "    "
   ]
  },
  {
   "cell_type": "markdown",
   "metadata": {
    "deletable": true,
    "editable": true
   },
   "source": [
    "We loop through the data minute by minute from start time to end time. To improve the visualization, we plot the current minute in dark blue as well as the previous 3 minuts in lighter blue shades."
   ]
  },
  {
   "cell_type": "code",
   "execution_count": 72,
   "metadata": {
    "collapsed": false,
    "deletable": true,
    "editable": true
   },
   "outputs": [],
   "source": [
    "%%local\n",
    "# Start Time\n",
    "st = datetime(2016,6,6,5,0,0)\n",
    "\n",
    "# End Time\n",
    "et = datetime(2016,6,6,23,59,59)\n",
    "\n",
    "# Time Delta\n",
    "td = timedelta(minutes=1)\n",
    "\n",
    "t1 = st\n",
    "t2 = t1 + td\n",
    "t3 = t2 + td\n",
    "t4 = t3 + td\n",
    "\n",
    "while t4 <= et:\n",
    "    l = map_get_layers(myMap)\n",
    "    plot_pandas(pdf_queue_coord[pdf_queue_coord['Timestamp'] == t1], myMap, '#e0ffff', opacity=0.7)\n",
    "    plot_pandas(pdf_queue_coord[pdf_queue_coord['Timestamp'] == t2], myMap, '#b0c4de', opacity=0.8)\n",
    "    plot_pandas(pdf_queue_coord[pdf_queue_coord['Timestamp'] == t3], myMap, '#6495ed', opacity=0.9)\n",
    "    plot_pandas(pdf_queue_coord[pdf_queue_coord['Timestamp'] == t4], myMap, '#000080', opacity=1.0)\n",
    "    \n",
    "    # Update time of the Text Box\n",
    "    wgt.value = t4.ctime()\n",
    "    \n",
    "    # You may break here to view a snapshot at a specific time instead of animation. Set st to the time you want to check\n",
    "    # break\n",
    "    \n",
    "    map_cleanup_Layers(myMap, l)\n",
    "    # Change the animation speed\n",
    "    time.sleep(0.25)\n",
    "    t1 = t1 + td\n",
    "    t2 = t2 + td\n",
    "    t3 = t3 + td\n",
    "    t4 = t4 + td\n",
    "    "
   ]
  },
  {
   "cell_type": "markdown",
   "metadata": {
    "deletable": true,
    "editable": true
   },
   "source": [
    "## Cleanup the map"
   ]
  },
  {
   "cell_type": "code",
   "execution_count": 73,
   "metadata": {
    "collapsed": true,
    "deletable": true,
    "editable": true
   },
   "outputs": [],
   "source": [
    "%%local\n",
    "map_cleanup(myMap)"
   ]
  },
  {
   "cell_type": "markdown",
   "metadata": {
    "deletable": true,
    "editable": true
   },
   "source": [
    "# Next Steps\n",
    "## 1) Parquet Data Format vs. Original CSV\n",
    "\n",
    "Parquet files are much more efficient than CSV files because they store data in binary and columnar format. Read [this](https://developer.ibm.com/hadoop/2016/01/14/5-reasons-to-choose-parquet-for-spark-sql/) for example.\n",
    "\n",
    "You can test this yourself. We save our cleaned up data in parquet format then use it to load our E4N data. Compare the time!"
   ]
  },
  {
   "cell_type": "code",
   "execution_count": 81,
   "metadata": {
    "collapsed": false,
    "deletable": true,
    "editable": true
   },
   "outputs": [],
   "source": [
    "df_cleanup2.write.save('hdfs:///Projects/demo_tensorflow_dowling0/Resources/sample_E4N.parquet', format='parquet')"
   ]
  },
  {
   "cell_type": "code",
   "execution_count": 82,
   "metadata": {
    "collapsed": false,
    "deletable": true,
    "editable": true
   },
   "outputs": [],
   "source": [
    "df_E4N_test = spark.read.parquet('hdfs:///Projects/demo_tensorflow_dowling0/Resources/sample_E4N.parquet').select('Timestamp', 'Ds_Reference', 'Detector_Number', 'Flow_In', 'Average_Speed').where('Status == 3 AND Ds_Reference.Road == \"E4N\"')"
   ]
  },
  {
   "cell_type": "code",
   "execution_count": 84,
   "metadata": {
    "collapsed": false,
    "deletable": true,
    "editable": true
   },
   "outputs": [
    {
     "name": "stdout",
     "output_type": "stream",
     "text": [
      "15868360"
     ]
    }
   ],
   "source": [
    "df_E4N_test.count()"
   ]
  },
  {
   "cell_type": "code",
   "execution_count": 85,
   "metadata": {
    "collapsed": false,
    "deletable": true,
    "editable": true
   },
   "outputs": [
    {
     "name": "stdout",
     "output_type": "stream",
     "text": [
      "+-------------------+------------+---------------+-------+-------------+\n",
      "|          Timestamp|Ds_Reference|Detector_Number|Flow_In|Average_Speed|\n",
      "+-------------------+------------+---------------+-------+-------------+\n",
      "|2016-06-02 09:14:00| [E4N,40580]|              1|     18|          101|\n",
      "|2016-06-02 09:14:00| [E4N,40580]|              2|     25|           86|\n",
      "|2016-06-02 09:14:00| [E4N,40580]|              3|     18|           71|\n",
      "|2016-06-02 09:14:00| [E4N,59440]|              1|     27|           70|\n",
      "|2016-06-02 09:14:00| [E4N,59440]|              2|     18|           65|\n",
      "+-------------------+------------+---------------+-------+-------------+\n",
      "only showing top 5 rows"
     ]
    }
   ],
   "source": [
    "df_E4N_test.show(5)"
   ]
  },
  {
   "cell_type": "code",
   "execution_count": 86,
   "metadata": {
    "collapsed": false,
    "deletable": true,
    "editable": true
   },
   "outputs": [
    {
     "name": "stdout",
     "output_type": "stream",
     "text": [
      "root\n",
      " |-- Timestamp: timestamp (nullable = true)\n",
      " |-- Ds_Reference: struct (nullable = true)\n",
      " |    |-- Road: string (nullable = true)\n",
      " |    |-- Km_Ref: integer (nullable = true)\n",
      " |-- Detector_Number: short (nullable = true)\n",
      " |-- Flow_In: short (nullable = true)\n",
      " |-- Average_Speed: short (nullable = true)"
     ]
    }
   ],
   "source": [
    "df_E4N_test.printSchema()"
   ]
  },
  {
   "cell_type": "markdown",
   "metadata": {
    "deletable": true,
    "editable": true
   },
   "source": [
    "Check also the data size on disk. In my case the csv sample data was 40MB while the Parquet file we saved was 1.4MB!"
   ]
  },
  {
   "cell_type": "markdown",
   "metadata": {
    "collapsed": true,
    "deletable": true,
    "editable": true
   },
   "source": [
    "## 2) Stream Processing Using Kafka and Spark Structured Streaming\n",
    "\n",
    "The above method for queue detection can be easily converted into a streaming program using the new Spark Structured Streaming. For further reading on that, see [this](https://databricks.com/blog/2017/04/26/processing-data-in-apache-kafka-with-structured-streaming-in-apache-spark-2-2.html) tutorial to get started.\n",
    "\n",
    "\n",
    "\n",
    "## 3) Graph Processing\n",
    "\n",
    "Knowing the topological relationship between detectors is needed to do more complicated analytics. For example, knowing next/previous detector on the same lane, knowing detectors before/after lane split/merge.\n",
    "\n",
    "One way to achieve this is by constructing a graph linking detectors together. Having this graph, we can use graph processing to do more advanced analytics. For example, we can detect queue ends better by looking at multiple consecutive sensors on the same lane.\n"
   ]
  },
  {
   "cell_type": "code",
   "execution_count": null,
   "metadata": {
    "collapsed": true,
    "deletable": true,
    "editable": true
   },
   "outputs": [],
   "source": []
  }
 ],
 "metadata": {
  "kernelspec": {
   "display_name": "PySpark",
   "language": "",
   "name": "pysparkkernel"
  },
  "language_info": {
   "codemirror_mode": {
    "name": "python",
    "version": 2
   },
   "mimetype": "text/x-python",
   "name": "pyspark",
   "pygments_lexer": "python2"
  },
  "widgets": {
   "application/vnd.jupyter.widget-state+json": {
    "state": {
     "025a541edb0e4a59a14971edd40ed8b6": {
      "model_module": "jupyter-js-widgets",
      "model_module_version": "~2.1.4",
      "model_name": "LayoutModel",
      "state": {
       "_model_module_version": "~2.1.4",
       "_view_module_version": "~2.1.4"
      }
     },
     "06319284ec6343b487a88f5528872737": {
      "model_module": "jupyter-leaflet",
      "model_module_version": "*",
      "model_name": "LeafletGeoJSONModel",
      "state": {
       "_model_module_version": "*",
       "_view_module_version": "*",
       "data": {
        "features": [
         {
          "geometry": {
           "coordinates": [
            [
             [
              [
               17.6428700383428,
               59.177857690773
              ],
              [
               17.6428710383428,
               59.177858690773
              ],
              [
               17.6428690383428,
               59.177858690773
              ],
              [
               17.6428700383428,
               59.177857690773
              ]
             ]
            ]
           ],
           "type": "MultiPolygon"
          },
          "properties": {
           "style": {
            "color": "#0000cd",
            "fillColor": "#0000cd",
            "fillOpacity": 1,
            "weight": 6
           }
          },
          "type": "Feature"
         },
         {
          "geometry": {
           "coordinates": [
            [
             [
              [
               17.6419245987583,
               59.1798058692962
              ],
              [
               17.641925598758302,
               59.1798068692962
              ],
              [
               17.6419235987583,
               59.1798068692962
              ],
              [
               17.6419245987583,
               59.1798058692962
              ]
             ]
            ]
           ],
           "type": "MultiPolygon"
          },
          "properties": {
           "style": {
            "color": "#0000cd",
            "fillColor": "#0000cd",
            "fillOpacity": 1,
            "weight": 6
           }
          },
          "type": "Feature"
         },
         {
          "geometry": {
           "coordinates": [
            [
             [
              [
               17.6419855357688,
               59.179808900665
              ],
              [
               17.6419865357688,
               59.179809900665
              ],
              [
               17.6419845357688,
               59.179809900665
              ],
              [
               17.6419855357688,
               59.179808900665
              ]
             ]
            ]
           ],
           "type": "MultiPolygon"
          },
          "properties": {
           "style": {
            "color": "#0000cd",
            "fillColor": "#0000cd",
            "fillOpacity": 1,
            "weight": 6
           }
          },
          "type": "Feature"
         },
         {
          "geometry": {
           "coordinates": [
            [
             [
              [
               17.6420028016846,
               59.1816443819294
              ],
              [
               17.642003801684602,
               59.1816453819294
              ],
              [
               17.6420018016846,
               59.1816453819294
              ],
              [
               17.6420028016846,
               59.1816443819294
              ]
             ]
            ]
           ],
           "type": "MultiPolygon"
          },
          "properties": {
           "style": {
            "color": "#0000cd",
            "fillColor": "#0000cd",
            "fillOpacity": 1,
            "weight": 6
           }
          },
          "type": "Feature"
         },
         {
          "geometry": {
           "coordinates": [
            [
             [
              [
               17.6420639671505,
               59.1816429867176
              ],
              [
               17.6420649671505,
               59.181643986717596
              ],
              [
               17.642062967150498,
               59.181643986717596
              ],
              [
               17.6420639671505,
               59.1816429867176
              ]
             ]
            ]
           ],
           "type": "MultiPolygon"
          },
          "properties": {
           "style": {
            "color": "#0000cd",
            "fillColor": "#0000cd",
            "fillOpacity": 1,
            "weight": 6
           }
          },
          "type": "Feature"
         },
         {
          "geometry": {
           "coordinates": [
            [
             [
              [
               17.64202742352,
               59.181892696546
              ],
              [
               17.64202842352,
               59.181893696546
              ],
              [
               17.642026423519997,
               59.181893696546
              ],
              [
               17.64202742352,
               59.181892696546
              ]
             ]
            ]
           ],
           "type": "MultiPolygon"
          },
          "properties": {
           "style": {
            "color": "#0000cd",
            "fillColor": "#0000cd",
            "fillOpacity": 1,
            "weight": 6
           }
          },
          "type": "Feature"
         },
         {
          "geometry": {
           "coordinates": [
            [
             [
              [
               17.64202742352,
               59.181892696546
              ],
              [
               17.64202842352,
               59.181893696546
              ],
              [
               17.642026423519997,
               59.181893696546
              ],
              [
               17.64202742352,
               59.181892696546
              ]
             ]
            ]
           ],
           "type": "MultiPolygon"
          },
          "properties": {
           "style": {
            "color": "#0000cd",
            "fillColor": "#0000cd",
            "fillOpacity": 1,
            "weight": 6
           }
          },
          "type": "Feature"
         },
         {
          "geometry": {
           "coordinates": [
            [
             [
              [
               17.6442994224642,
               59.1870589978569
              ],
              [
               17.6443004224642,
               59.1870599978569
              ],
              [
               17.6442984224642,
               59.1870599978569
              ],
              [
               17.6442994224642,
               59.1870589978569
              ]
             ]
            ]
           ],
           "type": "MultiPolygon"
          },
          "properties": {
           "style": {
            "color": "#0000cd",
            "fillColor": "#0000cd",
            "fillOpacity": 1,
            "weight": 6
           }
          },
          "type": "Feature"
         },
         {
          "geometry": {
           "coordinates": [
            [
             [
              [
               17.6443549755165,
               59.1870457786319
              ],
              [
               17.6443559755165,
               59.187046778631895
              ],
              [
               17.6443539755165,
               59.187046778631895
              ],
              [
               17.6443549755165,
               59.1870457786319
              ]
             ]
            ]
           ],
           "type": "MultiPolygon"
          },
          "properties": {
           "style": {
            "color": "#0000cd",
            "fillColor": "#0000cd",
            "fillOpacity": 1,
            "weight": 6
           }
          },
          "type": "Feature"
         },
         {
          "geometry": {
           "coordinates": [
            [
             [
              [
               17.6463876672766,
               59.1883729778017
              ],
              [
               17.6463886672766,
               59.188373977801696
              ],
              [
               17.646386667276598,
               59.188373977801696
              ],
              [
               17.6463876672766,
               59.1883729778017
              ]
             ]
            ]
           ],
           "type": "MultiPolygon"
          },
          "properties": {
           "style": {
            "color": "#0000cd",
            "fillColor": "#0000cd",
            "fillOpacity": 1,
            "weight": 6
           }
          },
          "type": "Feature"
         },
         {
          "geometry": {
           "coordinates": [
            [
             [
              [
               17.6464276530379,
               59.1883491785776
              ],
              [
               17.6464286530379,
               59.1883501785776
              ],
              [
               17.6464266530379,
               59.1883501785776
              ],
              [
               17.6464276530379,
               59.1883491785776
              ]
             ]
            ]
           ],
           "type": "MultiPolygon"
          },
          "properties": {
           "style": {
            "color": "#0000cd",
            "fillColor": "#0000cd",
            "fillOpacity": 1,
            "weight": 6
           }
          },
          "type": "Feature"
         },
         {
          "geometry": {
           "coordinates": [
            [
             [
              [
               17.6464676387437,
               59.1883253793416
              ],
              [
               17.646468638743702,
               59.188326379341596
              ],
              [
               17.6464666387437,
               59.188326379341596
              ],
              [
               17.6464676387437,
               59.1883253793416
              ]
             ]
            ]
           ],
           "type": "MultiPolygon"
          },
          "properties": {
           "style": {
            "color": "#0000cd",
            "fillColor": "#0000cd",
            "fillOpacity": 1,
            "weight": 6
           }
          },
          "type": "Feature"
         },
         {
          "geometry": {
           "coordinates": [
            [
             [
              [
               17.6498513644824,
               59.1895011952594
              ],
              [
               17.649852364482403,
               59.1895021952594
              ],
              [
               17.6498503644824,
               59.1895021952594
              ],
              [
               17.6498513644824,
               59.1895011952594
              ]
             ]
            ]
           ],
           "type": "MultiPolygon"
          },
          "properties": {
           "style": {
            "color": "#0000cd",
            "fillColor": "#0000cd",
            "fillOpacity": 1,
            "weight": 6
           }
          },
          "type": "Feature"
         },
         {
          "geometry": {
           "coordinates": [
            [
             [
              [
               17.6498798873953,
               59.189473389101
              ],
              [
               17.6498808873953,
               59.189474389101
              ],
              [
               17.6498788873953,
               59.189474389101
              ],
              [
               17.6498798873953,
               59.189473389101
              ]
             ]
            ]
           ],
           "type": "MultiPolygon"
          },
          "properties": {
           "style": {
            "color": "#0000cd",
            "fillColor": "#0000cd",
            "fillOpacity": 1,
            "weight": 6
           }
          },
          "type": "Feature"
         },
         {
          "geometry": {
           "coordinates": [
            [
             [
              [
               17.6499084102623,
               59.1894455829365
              ],
              [
               17.6499094102623,
               59.1894465829365
              ],
              [
               17.649907410262298,
               59.1894465829365
              ],
              [
               17.6499084102623,
               59.1894455829365
              ]
             ]
            ]
           ],
           "type": "MultiPolygon"
          },
          "properties": {
           "style": {
            "color": "#0000cd",
            "fillColor": "#0000cd",
            "fillOpacity": 1,
            "weight": 6
           }
          },
          "type": "Feature"
         },
         {
          "geometry": {
           "coordinates": [
            [
             [
              [
               17.6537758359758,
               59.1906762528977
              ],
              [
               17.6537768359758,
               59.1906772528977
              ],
              [
               17.6537748359758,
               59.1906772528977
              ],
              [
               17.6537758359758,
               59.1906762528977
              ]
             ]
            ]
           ],
           "type": "MultiPolygon"
          },
          "properties": {
           "style": {
            "color": "#0000cd",
            "fillColor": "#0000cd",
            "fillOpacity": 1,
            "weight": 6
           }
          },
          "type": "Feature"
         },
         {
          "geometry": {
           "coordinates": [
            [
             [
              [
               17.6538121571214,
               59.1906509532333
              ],
              [
               17.6538131571214,
               59.1906519532333
              ],
              [
               17.6538111571214,
               59.1906519532333
              ],
              [
               17.6538121571214,
               59.1906509532333
              ]
             ]
            ]
           ],
           "type": "MultiPolygon"
          },
          "properties": {
           "style": {
            "color": "#0000cd",
            "fillColor": "#0000cd",
            "fillOpacity": 1,
            "weight": 6
           }
          },
          "type": "Feature"
         },
         {
          "geometry": {
           "coordinates": [
            [
             [
              [
               17.6538484782135,
               59.1906256535591
              ],
              [
               17.653849478213502,
               59.1906266535591
              ],
              [
               17.6538474782135,
               59.1906266535591
              ],
              [
               17.6538484782135,
               59.1906256535591
              ]
             ]
            ]
           ],
           "type": "MultiPolygon"
          },
          "properties": {
           "style": {
            "color": "#0000cd",
            "fillColor": "#0000cd",
            "fillOpacity": 1,
            "weight": 6
           }
          },
          "type": "Feature"
         },
         {
          "geometry": {
           "coordinates": [
            [
             [
              [
               17.6563492622714,
               59.1918877948988
              ],
              [
               17.656350262271403,
               59.191888794898794
              ],
              [
               17.6563482622714,
               59.191888794898794
              ],
              [
               17.6563492622714,
               59.1918877948988
              ]
             ]
            ]
           ],
           "type": "MultiPolygon"
          },
          "properties": {
           "style": {
            "color": "#0000cd",
            "fillColor": "#0000cd",
            "fillOpacity": 1,
            "weight": 6
           }
          },
          "type": "Feature"
         },
         {
          "geometry": {
           "coordinates": [
            [
             [
              [
               17.6563963555552,
               59.1918677060757
              ],
              [
               17.6563973555552,
               59.191868706075695
              ],
              [
               17.656395355555198,
               59.191868706075695
              ],
              [
               17.6563963555552,
               59.1918677060757
              ]
             ]
            ]
           ],
           "type": "MultiPolygon"
          },
          "properties": {
           "style": {
            "color": "#0000cd",
            "fillColor": "#0000cd",
            "fillOpacity": 1,
            "weight": 6
           }
          },
          "type": "Feature"
         },
         {
          "geometry": {
           "coordinates": [
            [
             [
              [
               17.6564434487835,
               59.1918476172359
              ],
              [
               17.6564444487835,
               59.1918486172359
              ],
              [
               17.656442448783498,
               59.1918486172359
              ],
              [
               17.6564434487835,
               59.1918476172359
              ]
             ]
            ]
           ],
           "type": "MultiPolygon"
          },
          "properties": {
           "style": {
            "color": "#0000cd",
            "fillColor": "#0000cd",
            "fillOpacity": 1,
            "weight": 6
           }
          },
          "type": "Feature"
         },
         {
          "geometry": {
           "coordinates": [
            [
             [
              [
               17.6591049132987,
               59.1942180539588
              ],
              [
               17.659105913298703,
               59.1942190539588
              ],
              [
               17.6591039132987,
               59.1942190539588
              ],
              [
               17.6591049132987,
               59.1942180539588
              ]
             ]
            ]
           ],
           "type": "MultiPolygon"
          },
          "properties": {
           "style": {
            "color": "#0000cd",
            "fillColor": "#0000cd",
            "fillOpacity": 1,
            "weight": 6
           }
          },
          "type": "Feature"
         },
         {
          "geometry": {
           "coordinates": [
            [
             [
              [
               17.6591619838539,
               59.1942066479074
              ],
              [
               17.6591629838539,
               59.1942076479074
              ],
              [
               17.659160983853898,
               59.1942076479074
              ],
              [
               17.6591619838539,
               59.1942066479074
              ]
             ]
            ]
           ],
           "type": "MultiPolygon"
          },
          "properties": {
           "style": {
            "color": "#0000cd",
            "fillColor": "#0000cd",
            "fillOpacity": 1,
            "weight": 6
           }
          },
          "type": "Feature"
         },
         {
          "geometry": {
           "coordinates": [
            [
             [
              [
               17.6592190543705,
               59.1941952418312
              ],
              [
               17.6592200543705,
               59.1941962418312
              ],
              [
               17.6592180543705,
               59.1941962418312
              ],
              [
               17.6592190543705,
               59.1941952418312
              ]
             ]
            ]
           ],
           "type": "MultiPolygon"
          },
          "properties": {
           "style": {
            "color": "#0000cd",
            "fillColor": "#0000cd",
            "fillOpacity": 1,
            "weight": 6
           }
          },
          "type": "Feature"
         },
         {
          "geometry": {
           "coordinates": [
            [
             [
              [
               17.6602419876232,
               59.1962838104262
              ],
              [
               17.6602429876232,
               59.1962848104262
              ],
              [
               17.660240987623197,
               59.1962848104262
              ],
              [
               17.6602419876232,
               59.1962838104262
              ]
             ]
            ]
           ],
           "type": "MultiPolygon"
          },
          "properties": {
           "style": {
            "color": "#0000cd",
            "fillColor": "#0000cd",
            "fillOpacity": 1,
            "weight": 6
           }
          },
          "type": "Feature"
         },
         {
          "geometry": {
           "coordinates": [
            [
             [
              [
               17.6603012067811,
               59.1962757826851
              ],
              [
               17.6603022067811,
               59.196276782685096
              ],
              [
               17.6603002067811,
               59.196276782685096
              ],
              [
               17.6603012067811,
               59.1962757826851
              ]
             ]
            ]
           ],
           "type": "MultiPolygon"
          },
          "properties": {
           "style": {
            "color": "#0000cd",
            "fillColor": "#0000cd",
            "fillOpacity": 1,
            "weight": 6
           }
          },
          "type": "Feature"
         },
         {
          "geometry": {
           "coordinates": [
            [
             [
              [
               17.6603604259105,
               59.1962677549173
              ],
              [
               17.6603614259105,
               59.1962687549173
              ],
              [
               17.6603594259105,
               59.1962687549173
              ],
              [
               17.6603604259105,
               59.1962677549173
              ]
             ]
            ]
           ],
           "type": "MultiPolygon"
          },
          "properties": {
           "style": {
            "color": "#0000cd",
            "fillColor": "#0000cd",
            "fillOpacity": 1,
            "weight": 6
           }
          },
          "type": "Feature"
         },
         {
          "geometry": {
           "coordinates": [
            [
             [
              [
               17.6616521194962,
               59.1983068810506
              ],
              [
               17.6616531194962,
               59.198307881050596
              ],
              [
               17.6616511194962,
               59.198307881050596
              ],
              [
               17.6616521194962,
               59.1983068810506
              ]
             ]
            ]
           ],
           "type": "MultiPolygon"
          },
          "properties": {
           "style": {
            "color": "#0000cd",
            "fillColor": "#0000cd",
            "fillOpacity": 1,
            "weight": 6
           }
          },
          "type": "Feature"
         },
         {
          "geometry": {
           "coordinates": [
            [
             [
              [
               17.6617095427799,
               59.1982959414563
              ],
              [
               17.6617105427799,
               59.1982969414563
              ],
              [
               17.6617085427799,
               59.1982969414563
              ],
              [
               17.6617095427799,
               59.1982959414563
              ]
             ]
            ]
           ],
           "type": "MultiPolygon"
          },
          "properties": {
           "style": {
            "color": "#0000cd",
            "fillColor": "#0000cd",
            "fillOpacity": 1,
            "weight": 6
           }
          },
          "type": "Feature"
         },
         {
          "geometry": {
           "coordinates": [
            [
             [
              [
               17.6631240481072,
               59.1995123278123
              ],
              [
               17.6631250481072,
               59.1995133278123
              ],
              [
               17.6631230481072,
               59.1995133278123
              ],
              [
               17.6631240481072,
               59.1995123278123
              ]
             ]
            ]
           ],
           "type": "MultiPolygon"
          },
          "properties": {
           "style": {
            "color": "#0000cd",
            "fillColor": "#0000cd",
            "fillOpacity": 1,
            "weight": 6
           }
          },
          "type": "Feature"
         },
         {
          "geometry": {
           "coordinates": [
            [
             [
              [
               17.663165142752,
               59.1994890252082
              ],
              [
               17.663166142752,
               59.1994900252082
              ],
              [
               17.663164142752,
               59.1994900252082
              ],
              [
               17.663165142752,
               59.1994890252082
              ]
             ]
            ]
           ],
           "type": "MultiPolygon"
          },
          "properties": {
           "style": {
            "color": "#0000cd",
            "fillColor": "#0000cd",
            "fillOpacity": 1,
            "weight": 6
           }
          },
          "type": "Feature"
         },
         {
          "geometry": {
           "coordinates": [
            [
             [
              [
               17.6652395475438,
               59.2004530426997
              ],
              [
               17.6652405475438,
               59.2004540426997
              ],
              [
               17.665238547543797,
               59.2004540426997
              ],
              [
               17.6652395475438,
               59.2004530426997
              ]
             ]
            ]
           ],
           "type": "MultiPolygon"
          },
          "properties": {
           "style": {
            "color": "#0000cd",
            "fillColor": "#0000cd",
            "fillOpacity": 1,
            "weight": 6
           }
          },
          "type": "Feature"
         },
         {
          "geometry": {
           "coordinates": [
            [
             [
              [
               17.665277061895,
               59.2004282015067
              ],
              [
               17.665278061895002,
               59.2004292015067
              ],
              [
               17.665276061895,
               59.2004292015067
              ],
              [
               17.665277061895,
               59.2004282015067
              ]
             ]
            ]
           ],
           "type": "MultiPolygon"
          },
          "properties": {
           "style": {
            "color": "#0000cd",
            "fillColor": "#0000cd",
            "fillOpacity": 1,
            "weight": 6
           }
          },
          "type": "Feature"
         },
         {
          "geometry": {
           "coordinates": [
            [
             [
              [
               17.6685352148998,
               59.201467884092
              ],
              [
               17.668536214899802,
               59.201468884091994
              ],
              [
               17.6685342148998,
               59.201468884091994
              ],
              [
               17.6685352148998,
               59.201467884092
              ]
             ]
            ]
           ],
           "type": "MultiPolygon"
          },
          "properties": {
           "style": {
            "color": "#0000cd",
            "fillColor": "#0000cd",
            "fillOpacity": 1,
            "weight": 6
           }
          },
          "type": "Feature"
         },
         {
          "geometry": {
           "coordinates": [
            [
             [
              [
               17.6685630190378,
               59.2014398845639
              ],
              [
               17.668564019037802,
               59.201440884563894
              ],
              [
               17.6685620190378,
               59.201440884563894
              ],
              [
               17.6685630190378,
               59.2014398845639
              ]
             ]
            ]
           ],
           "type": "MultiPolygon"
          },
          "properties": {
           "style": {
            "color": "#0000cd",
            "fillColor": "#0000cd",
            "fillOpacity": 1,
            "weight": 6
           }
          },
          "type": "Feature"
         },
         {
          "geometry": {
           "coordinates": [
            [
             [
              [
               17.6759157784862,
               59.2033166466033
              ],
              [
               17.6759167784862,
               59.203317646603296
              ],
              [
               17.6759147784862,
               59.203317646603296
              ],
              [
               17.6759157784862,
               59.2033166466033
              ]
             ]
            ]
           ],
           "type": "MultiPolygon"
          },
          "properties": {
           "style": {
            "color": "#0000cd",
            "fillColor": "#0000cd",
            "fillOpacity": 1,
            "weight": 6
           }
          },
          "type": "Feature"
         },
         {
          "geometry": {
           "coordinates": [
            [
             [
              [
               17.6759434808554,
               59.2032886202218
              ],
              [
               17.6759444808554,
               59.203289620221796
              ],
              [
               17.675942480855397,
               59.203289620221796
              ],
              [
               17.6759434808554,
               59.2032886202218
              ]
             ]
            ]
           ],
           "type": "MultiPolygon"
          },
          "properties": {
           "style": {
            "color": "#0000cd",
            "fillColor": "#0000cd",
            "fillOpacity": 1,
            "weight": 6
           }
          },
          "type": "Feature"
         },
         {
          "geometry": {
           "coordinates": [
            [
             [
              [
               17.6759711831796,
               59.2032605938347
              ],
              [
               17.6759721831796,
               59.203261593834696
              ],
              [
               17.675970183179597,
               59.203261593834696
              ],
              [
               17.6759711831796,
               59.2032605938347
              ]
             ]
            ]
           ],
           "type": "MultiPolygon"
          },
          "properties": {
           "style": {
            "color": "#0000cd",
            "fillColor": "#0000cd",
            "fillOpacity": 1,
            "weight": 6
           }
          },
          "type": "Feature"
         },
         {
          "geometry": {
           "coordinates": [
            [
             [
              [
               17.6804564898177,
               59.2045743501469
              ],
              [
               17.6804574898177,
               59.2045753501469
              ],
              [
               17.6804554898177,
               59.2045753501469
              ],
              [
               17.6804564898177,
               59.2045743501469
              ]
             ]
            ]
           ],
           "type": "MultiPolygon"
          },
          "properties": {
           "style": {
            "color": "#0000cd",
            "fillColor": "#0000cd",
            "fillOpacity": 1,
            "weight": 6
           }
          },
          "type": "Feature"
         },
         {
          "geometry": {
           "coordinates": [
            [
             [
              [
               17.6804887813678,
               59.2045476468052
              ],
              [
               17.6804897813678,
               59.2045486468052
              ],
              [
               17.6804877813678,
               59.2045486468052
              ],
              [
               17.6804887813678,
               59.2045476468052
              ]
             ]
            ]
           ],
           "type": "MultiPolygon"
          },
          "properties": {
           "style": {
            "color": "#0000cd",
            "fillColor": "#0000cd",
            "fillOpacity": 1,
            "weight": 6
           }
          },
          "type": "Feature"
         },
         {
          "geometry": {
           "coordinates": [
            [
             [
              [
               17.6805210728677,
               59.2045209434557
              ],
              [
               17.6805220728677,
               59.204521943455696
              ],
              [
               17.680520072867697,
               59.204521943455696
              ],
              [
               17.6805210728677,
               59.2045209434557
              ]
             ]
            ]
           ],
           "type": "MultiPolygon"
          },
          "properties": {
           "style": {
            "color": "#0000cd",
            "fillColor": "#0000cd",
            "fillOpacity": 1,
            "weight": 6
           }
          },
          "type": "Feature"
         },
         {
          "geometry": {
           "coordinates": [
            [
             [
              [
               17.6844109306818,
               59.2058151154869
              ],
              [
               17.6844119306818,
               59.2058161154869
              ],
              [
               17.6844099306818,
               59.2058161154869
              ],
              [
               17.6844109306818,
               59.2058151154869
              ]
             ]
            ]
           ],
           "type": "MultiPolygon"
          },
          "properties": {
           "style": {
            "color": "#0000cd",
            "fillColor": "#0000cd",
            "fillOpacity": 1,
            "weight": 6
           }
          },
          "type": "Feature"
         },
         {
          "geometry": {
           "coordinates": [
            [
             [
              [
               17.6844382111468,
               59.2057869800118
              ],
              [
               17.684439211146803,
               59.2057879800118
              ],
              [
               17.6844372111468,
               59.2057879800118
              ],
              [
               17.6844382111468,
               59.2057869800118
              ]
             ]
            ]
           ],
           "type": "MultiPolygon"
          },
          "properties": {
           "style": {
            "color": "#0000cd",
            "fillColor": "#0000cd",
            "fillOpacity": 1,
            "weight": 6
           }
          },
          "type": "Feature"
         },
         {
          "geometry": {
           "coordinates": [
            [
             [
              [
               17.6844654915673,
               59.2057588445312
              ],
              [
               17.6844664915673,
               59.2057598445312
              ],
              [
               17.684464491567297,
               59.2057598445312
              ],
              [
               17.6844654915673,
               59.2057588445312
              ]
             ]
            ]
           ],
           "type": "MultiPolygon"
          },
          "properties": {
           "style": {
            "color": "#0000cd",
            "fillColor": "#0000cd",
            "fillOpacity": 1,
            "weight": 6
           }
          },
          "type": "Feature"
         },
         {
          "geometry": {
           "coordinates": [
            [
             [
              [
               17.6879899518999,
               59.2063912027965
              ],
              [
               17.687990951899902,
               59.2063922027965
              ],
              [
               17.6879889518999,
               59.2063922027965
              ],
              [
               17.6879899518999,
               59.2063912027965
              ]
             ]
            ]
           ],
           "type": "MultiPolygon"
          },
          "properties": {
           "style": {
            "color": "#0000cd",
            "fillColor": "#0000cd",
            "fillOpacity": 1,
            "weight": 6
           }
          },
          "type": "Feature"
         },
         {
          "geometry": {
           "coordinates": [
            [
             [
              [
               17.687999293269,
               59.2063601479733
              ],
              [
               17.688000293269003,
               59.2063611479733
              ],
              [
               17.687998293269,
               59.2063611479733
              ],
              [
               17.687999293269,
               59.2063601479733
              ]
             ]
            ]
           ],
           "type": "MultiPolygon"
          },
          "properties": {
           "style": {
            "color": "#0000cd",
            "fillColor": "#0000cd",
            "fillOpacity": 1,
            "weight": 6
           }
          },
          "type": "Feature"
         },
         {
          "geometry": {
           "coordinates": [
            [
             [
              [
               17.688008634622,
               59.2063290931493
              ],
              [
               17.688009634622002,
               59.2063300931493
              ],
              [
               17.688007634622,
               59.2063300931493
              ],
              [
               17.688008634622,
               59.2063290931493
              ]
             ]
            ]
           ],
           "type": "MultiPolygon"
          },
          "properties": {
           "style": {
            "color": "#0000cd",
            "fillColor": "#0000cd",
            "fillOpacity": 1,
            "weight": 6
           }
          },
          "type": "Feature"
         },
         {
          "geometry": {
           "coordinates": [
            [
             [
              [
               17.6912170832915,
               59.2064766076942
              ],
              [
               17.691218083291503,
               59.2064776076942
              ],
              [
               17.6912160832915,
               59.2064776076942
              ],
              [
               17.6912170832915,
               59.2064766076942
              ]
             ]
            ]
           ],
           "type": "MultiPolygon"
          },
          "properties": {
           "style": {
            "color": "#0000cd",
            "fillColor": "#0000cd",
            "fillOpacity": 1,
            "weight": 6
           }
          },
          "type": "Feature"
         },
         {
          "geometry": {
           "coordinates": [
            [
             [
              [
               17.6912127825821,
               59.2064452630448
              ],
              [
               17.6912137825821,
               59.206446263044796
              ],
              [
               17.691211782582098,
               59.206446263044796
              ],
              [
               17.6912127825821,
               59.2064452630448
              ]
             ]
            ]
           ],
           "type": "MultiPolygon"
          },
          "properties": {
           "style": {
            "color": "#0000cd",
            "fillColor": "#0000cd",
            "fillOpacity": 1,
            "weight": 6
           }
          },
          "type": "Feature"
         },
         {
          "geometry": {
           "coordinates": [
            [
             [
              [
               17.6912084818814,
               59.206413918395
              ],
              [
               17.6912094818814,
               59.206414918395
              ],
              [
               17.6912074818814,
               59.206414918395
              ],
              [
               17.6912084818814,
               59.206413918395
              ]
             ]
            ]
           ],
           "type": "MultiPolygon"
          },
          "properties": {
           "style": {
            "color": "#0000cd",
            "fillColor": "#0000cd",
            "fillOpacity": 1,
            "weight": 6
           }
          },
          "type": "Feature"
         },
         {
          "geometry": {
           "coordinates": [
            [
             [
              [
               17.6954006163313,
               59.2062803157747
              ],
              [
               17.6954016163313,
               59.206281315774696
              ],
              [
               17.695399616331297,
               59.206281315774696
              ],
              [
               17.6954006163313,
               59.2062803157747
              ]
             ]
            ]
           ],
           "type": "MultiPolygon"
          },
          "properties": {
           "style": {
            "color": "#0000cd",
            "fillColor": "#0000cd",
            "fillOpacity": 1,
            "weight": 6
           }
          },
          "type": "Feature"
         },
         {
          "geometry": {
           "coordinates": [
            [
             [
              [
               17.6953963487836,
               59.2062489699616
              ],
              [
               17.6953973487836,
               59.2062499699616
              ],
              [
               17.6953953487836,
               59.2062499699616
              ],
              [
               17.6953963487836,
               59.2062489699616
              ]
             ]
            ]
           ],
           "type": "MultiPolygon"
          },
          "properties": {
           "style": {
            "color": "#0000cd",
            "fillColor": "#0000cd",
            "fillOpacity": 1,
            "weight": 6
           }
          },
          "type": "Feature"
         },
         {
          "geometry": {
           "coordinates": [
            [
             [
              [
               17.6953920812445,
               59.2062176241481
              ],
              [
               17.6953930812445,
               59.2062186241481
              ],
              [
               17.695391081244498,
               59.2062186241481
              ],
              [
               17.6953920812445,
               59.2062176241481
              ]
             ]
            ]
           ],
           "type": "MultiPolygon"
          },
          "properties": {
           "style": {
            "color": "#0000cd",
            "fillColor": "#0000cd",
            "fillOpacity": 1,
            "weight": 6
           }
          },
          "type": "Feature"
         },
         {
          "geometry": {
           "coordinates": [
            [
             [
              [
               17.6998446904593,
               59.2064100202454
              ],
              [
               17.699845690459302,
               59.2064110202454
              ],
              [
               17.6998436904593,
               59.2064110202454
              ],
              [
               17.6998446904593,
               59.2064100202454
              ]
             ]
            ]
           ],
           "type": "MultiPolygon"
          },
          "properties": {
           "style": {
            "color": "#0000cd",
            "fillColor": "#0000cd",
            "fillOpacity": 1,
            "weight": 6
           }
          },
          "type": "Feature"
         },
         {
          "geometry": {
           "coordinates": [
            [
             [
              [
               17.6998551166612,
               59.2063790564476
              ],
              [
               17.699856116661202,
               59.2063800564476
              ],
              [
               17.6998541166612,
               59.2063800564476
              ],
              [
               17.6998551166612,
               59.2063790564476
              ]
             ]
            ]
           ],
           "type": "MultiPolygon"
          },
          "properties": {
           "style": {
            "color": "#0000cd",
            "fillColor": "#0000cd",
            "fillOpacity": 1,
            "weight": 6
           }
          },
          "type": "Feature"
         },
         {
          "geometry": {
           "coordinates": [
            [
             [
              [
               17.699865542845,
               59.206348092649
              ],
              [
               17.699866542845,
               59.206349092649
              ],
              [
               17.699864542845,
               59.206349092649
              ],
              [
               17.699865542845,
               59.206348092649
              ]
             ]
            ]
           ],
           "type": "MultiPolygon"
          },
          "properties": {
           "style": {
            "color": "#0000cd",
            "fillColor": "#0000cd",
            "fillOpacity": 1,
            "weight": 6
           }
          },
          "type": "Feature"
         },
         {
          "geometry": {
           "coordinates": [
            [
             [
              [
               17.705150385474,
               59.207309370043
              ],
              [
               17.705151385474,
               59.207310370043
              ],
              [
               17.705149385473998,
               59.207310370043
              ],
              [
               17.705150385474,
               59.207309370043
              ]
             ]
            ]
           ],
           "type": "MultiPolygon"
          },
          "properties": {
           "style": {
            "color": "#0000cd",
            "fillColor": "#0000cd",
            "fillOpacity": 1,
            "weight": 6
           }
          },
          "type": "Feature"
         },
         {
          "geometry": {
           "coordinates": [
            [
             [
              [
               17.7051736827868,
               59.2072803080895
              ],
              [
               17.7051746827868,
               59.2072813080895
              ],
              [
               17.7051726827868,
               59.2072813080895
              ],
              [
               17.7051736827868,
               59.2072803080895
              ]
             ]
            ]
           ],
           "type": "MultiPolygon"
          },
          "properties": {
           "style": {
            "color": "#0000cd",
            "fillColor": "#0000cd",
            "fillOpacity": 1,
            "weight": 6
           }
          },
          "type": "Feature"
         },
         {
          "geometry": {
           "coordinates": [
            [
             [
              [
               17.7051969800605,
               59.207251246132
              ],
              [
               17.7051979800605,
               59.207252246132
              ],
              [
               17.7051959800605,
               59.207252246132
              ],
              [
               17.7051969800605,
               59.207251246132
              ]
             ]
            ]
           ],
           "type": "MultiPolygon"
          },
          "properties": {
           "style": {
            "color": "#0000cd",
            "fillColor": "#0000cd",
            "fillOpacity": 1,
            "weight": 6
           }
          },
          "type": "Feature"
         },
         {
          "geometry": {
           "coordinates": [
            [
             [
              [
               17.711389331337,
               59.2086170465501
              ],
              [
               17.711390331337,
               59.2086180465501
              ],
              [
               17.711388331336998,
               59.2086180465501
              ],
              [
               17.711389331337,
               59.2086170465501
              ]
             ]
            ]
           ],
           "type": "MultiPolygon"
          },
          "properties": {
           "style": {
            "color": "#0000cd",
            "fillColor": "#0000cd",
            "fillOpacity": 1,
            "weight": 6
           }
          },
          "type": "Feature"
         },
         {
          "geometry": {
           "coordinates": [
            [
             [
              [
               17.7114125149202,
               59.208587960552
              ],
              [
               17.711413514920203,
               59.208588960552
              ],
              [
               17.7114115149202,
               59.208588960552
              ],
              [
               17.7114125149202,
               59.208587960552
              ]
             ]
            ]
           ],
           "type": "MultiPolygon"
          },
          "properties": {
           "style": {
            "color": "#0000cd",
            "fillColor": "#0000cd",
            "fillOpacity": 1,
            "weight": 6
           }
          },
          "type": "Feature"
         },
         {
          "geometry": {
           "coordinates": [
            [
             [
              [
               17.7114356984646,
               59.20855887455
              ],
              [
               17.711436698464603,
               59.20855987455
              ],
              [
               17.7114346984646,
               59.20855987455
              ],
              [
               17.7114356984646,
               59.20855887455
              ]
             ]
            ]
           ],
           "type": "MultiPolygon"
          },
          "properties": {
           "style": {
            "color": "#0000cd",
            "fillColor": "#0000cd",
            "fillOpacity": 1,
            "weight": 6
           }
          },
          "type": "Feature"
         },
         {
          "geometry": {
           "coordinates": [
            [
             [
              [
               17.7172234687454,
               59.209839653128
              ],
              [
               17.7172244687454,
               59.209840653128
              ],
              [
               17.717222468745398,
               59.209840653128
              ],
              [
               17.7172234687454,
               59.209839653128
              ]
             ]
            ]
           ],
           "type": "MultiPolygon"
          },
          "properties": {
           "style": {
            "color": "#0000cd",
            "fillColor": "#0000cd",
            "fillOpacity": 1,
            "weight": 6
           }
          },
          "type": "Feature"
         },
         {
          "geometry": {
           "coordinates": [
            [
             [
              [
               17.7172465410328,
               59.2098105437417
              ],
              [
               17.7172475410328,
               59.2098115437417
              ],
              [
               17.7172455410328,
               59.2098115437417
              ],
              [
               17.7172465410328,
               59.2098105437417
              ]
             ]
            ]
           ],
           "type": "MultiPolygon"
          },
          "properties": {
           "style": {
            "color": "#0000cd",
            "fillColor": "#0000cd",
            "fillOpacity": 1,
            "weight": 6
           }
          },
          "type": "Feature"
         },
         {
          "geometry": {
           "coordinates": [
            [
             [
              [
               17.7172696132814,
               59.2097814343515
              ],
              [
               17.7172706132814,
               59.209782434351496
              ],
              [
               17.717268613281398,
               59.209782434351496
              ],
              [
               17.7172696132814,
               59.2097814343515
              ]
             ]
            ]
           ],
           "type": "MultiPolygon"
          },
          "properties": {
           "style": {
            "color": "#0000cd",
            "fillColor": "#0000cd",
            "fillOpacity": 1,
            "weight": 6
           }
          },
          "type": "Feature"
         },
         {
          "geometry": {
           "coordinates": [
            [
             [
              [
               17.7213945649626,
               59.2106506352817
              ],
              [
               17.721395564962602,
               59.2106516352817
              ],
              [
               17.7213935649626,
               59.2106516352817
              ],
              [
               17.7213945649626,
               59.2106506352817
              ]
             ]
            ]
           ],
           "type": "MultiPolygon"
          },
          "properties": {
           "style": {
            "color": "#0000cd",
            "fillColor": "#0000cd",
            "fillOpacity": 1,
            "weight": 6
           }
          },
          "type": "Feature"
         },
         {
          "geometry": {
           "coordinates": [
            [
             [
              [
               17.7214096595082,
               59.2106201816175
              ],
              [
               17.7214106595082,
               59.2106211816175
              ],
              [
               17.7214086595082,
               59.2106211816175
              ],
              [
               17.7214096595082,
               59.2106201816175
              ]
             ]
            ]
           ],
           "type": "MultiPolygon"
          },
          "properties": {
           "style": {
            "color": "#0000cd",
            "fillColor": "#0000cd",
            "fillOpacity": 1,
            "weight": 6
           }
          },
          "type": "Feature"
         },
         {
          "geometry": {
           "coordinates": [
            [
             [
              [
               17.7214247540276,
               59.2105897279517
              ],
              [
               17.7214257540276,
               59.2105907279517
              ],
              [
               17.721423754027597,
               59.2105907279517
              ],
              [
               17.7214247540276,
               59.2105897279517
              ]
             ]
            ]
           ],
           "type": "MultiPolygon"
          },
          "properties": {
           "style": {
            "color": "#0000cd",
            "fillColor": "#0000cd",
            "fillOpacity": 1,
            "weight": 6
           }
          },
          "type": "Feature"
         },
         {
          "geometry": {
           "coordinates": [
            [
             [
              [
               17.724229380244,
               59.2109265498818
              ],
              [
               17.724230380244002,
               59.210927549881795
              ],
              [
               17.724228380244,
               59.210927549881795
              ],
              [
               17.724229380244,
               59.2109265498818
              ]
             ]
            ]
           ],
           "type": "MultiPolygon"
          },
          "properties": {
           "style": {
            "color": "#0000cd",
            "fillColor": "#0000cd",
            "fillOpacity": 1,
            "weight": 6
           }
          },
          "type": "Feature"
         },
         {
          "geometry": {
           "coordinates": [
            [
             [
              [
               17.7242359493664,
               59.2108953090518
              ],
              [
               17.7242369493664,
               59.2108963090518
              ],
              [
               17.724234949366398,
               59.2108963090518
              ],
              [
               17.7242359493664,
               59.2108953090518
              ]
             ]
            ]
           ],
           "type": "MultiPolygon"
          },
          "properties": {
           "style": {
            "color": "#0000cd",
            "fillColor": "#0000cd",
            "fillOpacity": 1,
            "weight": 6
           }
          },
          "type": "Feature"
         },
         {
          "geometry": {
           "coordinates": [
            [
             [
              [
               17.7242425184777,
               59.2108640682214
              ],
              [
               17.7242435184777,
               59.210865068221395
              ],
              [
               17.724241518477697,
               59.210865068221395
              ],
              [
               17.7242425184777,
               59.2108640682214
              ]
             ]
            ]
           ],
           "type": "MultiPolygon"
          },
          "properties": {
           "style": {
            "color": "#0000cd",
            "fillColor": "#0000cd",
            "fillOpacity": 1,
            "weight": 6
           }
          },
          "type": "Feature"
         },
         {
          "geometry": {
           "coordinates": [
            [
             [
              [
               17.7277247622244,
               59.2109459225563
              ],
              [
               17.727725762224402,
               59.210946922556296
              ],
              [
               17.7277237622244,
               59.210946922556296
              ],
              [
               17.7277247622244,
               59.2109459225563
              ]
             ]
            ]
           ],
           "type": "MultiPolygon"
          },
          "properties": {
           "style": {
            "color": "#0000cd",
            "fillColor": "#0000cd",
            "fillOpacity": 1,
            "weight": 6
           }
          },
          "type": "Feature"
         },
         {
          "geometry": {
           "coordinates": [
            [
             [
              [
               17.7277208471772,
               59.2109145648674
              ],
              [
               17.7277218471772,
               59.2109155648674
              ],
              [
               17.727719847177198,
               59.2109155648674
              ],
              [
               17.7277208471772,
               59.2109145648674
              ]
             ]
            ]
           ],
           "type": "MultiPolygon"
          },
          "properties": {
           "style": {
            "color": "#0000cd",
            "fillColor": "#0000cd",
            "fillOpacity": 1,
            "weight": 6
           }
          },
          "type": "Feature"
         },
         {
          "geometry": {
           "coordinates": [
            [
             [
              [
               17.7277169321379,
               59.2108832071782
              ],
              [
               17.7277179321379,
               59.2108842071782
              ],
              [
               17.727715932137897,
               59.2108842071782
              ],
              [
               17.7277169321379,
               59.2108832071782
              ]
             ]
            ]
           ],
           "type": "MultiPolygon"
          },
          "properties": {
           "style": {
            "color": "#0000cd",
            "fillColor": "#0000cd",
            "fillOpacity": 1,
            "weight": 6
           }
          },
          "type": "Feature"
         },
         {
          "geometry": {
           "coordinates": [
            [
             [
              [
               17.7324443634025,
               59.210813160423
              ],
              [
               17.7324453634025,
               59.210814160423
              ],
              [
               17.7324433634025,
               59.210814160423
              ],
              [
               17.7324443634025,
               59.210813160423
              ]
             ]
            ]
           ],
           "type": "MultiPolygon"
          },
          "properties": {
           "style": {
            "color": "#0000cd",
            "fillColor": "#0000cd",
            "fillOpacity": 1,
            "weight": 6
           }
          },
          "type": "Feature"
         },
         {
          "geometry": {
           "coordinates": [
            [
             [
              [
               17.7324432480966,
               59.2107817437729
              ],
              [
               17.732444248096602,
               59.210782743772896
              ],
              [
               17.7324422480966,
               59.210782743772896
              ],
              [
               17.7324432480966,
               59.2107817437729
              ]
             ]
            ]
           ],
           "type": "MultiPolygon"
          },
          "properties": {
           "style": {
            "color": "#0000cd",
            "fillColor": "#0000cd",
            "fillOpacity": 1,
            "weight": 6
           }
          },
          "type": "Feature"
         },
         {
          "geometry": {
           "coordinates": [
            [
             [
              [
               17.7324421327936,
               59.2107503271226
              ],
              [
               17.732443132793602,
               59.210751327122594
              ],
              [
               17.7324411327936,
               59.210751327122594
              ],
              [
               17.7324421327936,
               59.2107503271226
              ]
             ]
            ]
           ],
           "type": "MultiPolygon"
          },
          "properties": {
           "style": {
            "color": "#0000cd",
            "fillColor": "#0000cd",
            "fillOpacity": 1,
            "weight": 6
           }
          },
          "type": "Feature"
         },
         {
          "geometry": {
           "coordinates": [
            [
             [
              [
               17.7382014593441,
               59.2110103991721
              ],
              [
               17.7382024593441,
               59.2110113991721
              ],
              [
               17.7382004593441,
               59.2110113991721
              ],
              [
               17.7382014593441,
               59.2110103991721
              ]
             ]
            ]
           ],
           "type": "MultiPolygon"
          },
          "properties": {
           "style": {
            "color": "#0000cd",
            "fillColor": "#0000cd",
            "fillOpacity": 1,
            "weight": 6
           }
          },
          "type": "Feature"
         },
         {
          "geometry": {
           "coordinates": [
            [
             [
              [
               17.7382106644355,
               59.2109793339163
              ],
              [
               17.7382116644355,
               59.2109803339163
              ],
              [
               17.738209664435498,
               59.2109803339163
              ],
              [
               17.7382106644355,
               59.2109793339163
              ]
             ]
            ]
           ],
           "type": "MultiPolygon"
          },
          "properties": {
           "style": {
            "color": "#0000cd",
            "fillColor": "#0000cd",
            "fillOpacity": 1,
            "weight": 6
           }
          },
          "type": "Feature"
         },
         {
          "geometry": {
           "coordinates": [
            [
             [
              [
               17.7382198695111,
               59.2109482686599
              ],
              [
               17.7382208695111,
               59.210949268659895
              ],
              [
               17.738218869511098,
               59.210949268659895
              ],
              [
               17.7382198695111,
               59.2109482686599
              ]
             ]
            ]
           ],
           "type": "MultiPolygon"
          },
          "properties": {
           "style": {
            "color": "#0000cd",
            "fillColor": "#0000cd",
            "fillOpacity": 1,
            "weight": 6
           }
          },
          "type": "Feature"
         },
         {
          "geometry": {
           "coordinates": [
            [
             [
              [
               17.7463689329915,
               59.2118113475481
              ],
              [
               17.746369932991502,
               59.2118123475481
              ],
              [
               17.7463679329915,
               59.2118123475481
              ],
              [
               17.7463689329915,
               59.2118113475481
              ]
             ]
            ]
           ],
           "type": "MultiPolygon"
          },
          "properties": {
           "style": {
            "color": "#0000cd",
            "fillColor": "#0000cd",
            "fillOpacity": 1,
            "weight": 6
           }
          },
          "type": "Feature"
         },
         {
          "geometry": {
           "coordinates": [
            [
             [
              [
               17.7463793087244,
               59.211780379493
              ],
              [
               17.7463803087244,
               59.211781379493
              ],
              [
               17.7463783087244,
               59.211781379493
              ],
              [
               17.7463793087244,
               59.211780379493
              ]
             ]
            ]
           ],
           "type": "MultiPolygon"
          },
          "properties": {
           "style": {
            "color": "#0000cd",
            "fillColor": "#0000cd",
            "fillOpacity": 1,
            "weight": 6
           }
          },
          "type": "Feature"
         },
         {
          "geometry": {
           "coordinates": [
            [
             [
              [
               17.7463896844393,
               59.2117494114371
              ],
              [
               17.7463906844393,
               59.211750411437094
              ],
              [
               17.7463886844393,
               59.211750411437094
              ],
              [
               17.7463896844393,
               59.2117494114371
              ]
             ]
            ]
           ],
           "type": "MultiPolygon"
          },
          "properties": {
           "style": {
            "color": "#0000cd",
            "fillColor": "#0000cd",
            "fillOpacity": 1,
            "weight": 6
           }
          },
          "type": "Feature"
         },
         {
          "geometry": {
           "coordinates": [
            [
             [
              [
               17.7526146572314,
               59.2121293589286
              ],
              [
               17.752615657231402,
               59.2121303589286
              ],
              [
               17.7526136572314,
               59.2121303589286
              ],
              [
               17.7526146572314,
               59.2121293589286
              ]
             ]
            ]
           ],
           "type": "MultiPolygon"
          },
          "properties": {
           "style": {
            "color": "#0000cd",
            "fillColor": "#0000cd",
            "fillOpacity": 1,
            "weight": 6
           }
          },
          "type": "Feature"
         },
         {
          "geometry": {
           "coordinates": [
            [
             [
              [
               17.75261975067,
               59.2120980459483
              ],
              [
               17.75262075067,
               59.2120990459483
              ],
              [
               17.75261875067,
               59.2120990459483
              ],
              [
               17.75261975067,
               59.2120980459483
              ]
             ]
            ]
           ],
           "type": "MultiPolygon"
          },
          "properties": {
           "style": {
            "color": "#0000cd",
            "fillColor": "#0000cd",
            "fillOpacity": 1,
            "weight": 6
           }
          },
          "type": "Feature"
         },
         {
          "geometry": {
           "coordinates": [
            [
             [
              [
               17.7526248441001,
               59.2120667329677
              ],
              [
               17.752625844100102,
               59.2120677329677
              ],
              [
               17.7526238441001,
               59.2120677329677
              ],
              [
               17.7526248441001,
               59.2120667329677
              ]
             ]
            ]
           ],
           "type": "MultiPolygon"
          },
          "properties": {
           "style": {
            "color": "#0000cd",
            "fillColor": "#0000cd",
            "fillOpacity": 1,
            "weight": 6
           }
          },
          "type": "Feature"
         },
         {
          "geometry": {
           "coordinates": [
            [
             [
              [
               17.7613395700279,
               59.2124883368405
              ],
              [
               17.7613405700279,
               59.2124893368405
              ],
              [
               17.7613385700279,
               59.2124893368405
              ],
              [
               17.7613395700279,
               59.2124883368405
              ]
             ]
            ]
           ],
           "type": "MultiPolygon"
          },
          "properties": {
           "style": {
            "color": "#0000cd",
            "fillColor": "#0000cd",
            "fillOpacity": 1,
            "weight": 6
           }
          },
          "type": "Feature"
         },
         {
          "geometry": {
           "coordinates": [
            [
             [
              [
               17.7613454112503,
               59.2124570582675
              ],
              [
               17.7613464112503,
               59.2124580582675
              ],
              [
               17.7613444112503,
               59.2124580582675
              ],
              [
               17.7613454112503,
               59.2124570582675
              ]
             ]
            ]
           ],
           "type": "MultiPolygon"
          },
          "properties": {
           "style": {
            "color": "#0000cd",
            "fillColor": "#0000cd",
            "fillOpacity": 1,
            "weight": 6
           }
          },
          "type": "Feature"
         },
         {
          "geometry": {
           "coordinates": [
            [
             [
              [
               17.7613512524627,
               59.2124257796941
              ],
              [
               17.7613522524627,
               59.2124267796941
              ],
              [
               17.761350252462698,
               59.2124267796941
              ],
              [
               17.7613512524627,
               59.2124257796941
              ]
             ]
            ]
           ],
           "type": "MultiPolygon"
          },
          "properties": {
           "style": {
            "color": "#0000cd",
            "fillColor": "#0000cd",
            "fillOpacity": 1,
            "weight": 6
           }
          },
          "type": "Feature"
         },
         {
          "geometry": {
           "coordinates": [
            [
             [
              [
               17.7676952196674,
               59.2128193142293
              ],
              [
               17.7676962196674,
               59.2128203142293
              ],
              [
               17.767694219667398,
               59.2128203142293
              ],
              [
               17.7676952196674,
               59.2128193142293
              ]
             ]
            ]
           ],
           "type": "MultiPolygon"
          },
          "properties": {
           "style": {
            "color": "#0000cd",
            "fillColor": "#0000cd",
            "fillOpacity": 1,
            "weight": 6
           }
          },
          "type": "Feature"
         },
         {
          "geometry": {
           "coordinates": [
            [
             [
              [
               17.7677069228601,
               59.2127884709682
              ],
              [
               17.7677079228601,
               59.2127894709682
              ],
              [
               17.7677059228601,
               59.2127894709682
              ],
              [
               17.7677069228601,
               59.2127884709682
              ]
             ]
            ]
           ],
           "type": "MultiPolygon"
          },
          "properties": {
           "style": {
            "color": "#0000cd",
            "fillColor": "#0000cd",
            "fillOpacity": 1,
            "weight": 6
           }
          },
          "type": "Feature"
         },
         {
          "geometry": {
           "coordinates": [
            [
             [
              [
               17.7677186260324,
               59.2127576277062
              ],
              [
               17.767719626032402,
               59.2127586277062
              ],
              [
               17.7677176260324,
               59.2127586277062
              ],
              [
               17.7677186260324,
               59.2127576277062
              ]
             ]
            ]
           ],
           "type": "MultiPolygon"
          },
          "properties": {
           "style": {
            "color": "#0000cd",
            "fillColor": "#0000cd",
            "fillOpacity": 1,
            "weight": 6
           }
          },
          "type": "Feature"
         },
         {
          "geometry": {
           "coordinates": [
            [
             [
              [
               17.7717929008887,
               59.2134546829348
              ],
              [
               17.7717939008887,
               59.2134556829348
              ],
              [
               17.771791900888697,
               59.2134556829348
              ],
              [
               17.7717929008887,
               59.2134546829348
              ]
             ]
            ]
           ],
           "type": "MultiPolygon"
          },
          "properties": {
           "style": {
            "color": "#0000cd",
            "fillColor": "#0000cd",
            "fillOpacity": 1,
            "weight": 6
           }
          },
          "type": "Feature"
         },
         {
          "geometry": {
           "coordinates": [
            [
             [
              [
               17.7718174226456,
               59.2134258866756
              ],
              [
               17.7718184226456,
               59.2134268866756
              ],
              [
               17.7718164226456,
               59.2134268866756
              ],
              [
               17.7718174226456,
               59.2134258866756
              ]
             ]
            ]
           ],
           "type": "MultiPolygon"
          },
          "properties": {
           "style": {
            "color": "#0000cd",
            "fillColor": "#0000cd",
            "fillOpacity": 1,
            "weight": 6
           }
          },
          "type": "Feature"
         },
         {
          "geometry": {
           "coordinates": [
            [
             [
              [
               17.7718419443618,
               59.213397090412
              ],
              [
               17.7718429443618,
               59.213398090412
              ],
              [
               17.7718409443618,
               59.213398090412
              ],
              [
               17.7718419443618,
               59.213397090412
              ]
             ]
            ]
           ],
           "type": "MultiPolygon"
          },
          "properties": {
           "style": {
            "color": "#0000cd",
            "fillColor": "#0000cd",
            "fillOpacity": 1,
            "weight": 6
           }
          },
          "type": "Feature"
         },
         {
          "geometry": {
           "coordinates": [
            [
             [
              [
               17.7772194499887,
               59.2152397439427
              ],
              [
               17.7772204499887,
               59.2152407439427
              ],
              [
               17.7772184499887,
               59.2152407439427
              ],
              [
               17.7772194499887,
               59.2152397439427
              ]
             ]
            ]
           ],
           "type": "MultiPolygon"
          },
          "properties": {
           "style": {
            "color": "#0000cd",
            "fillColor": "#0000cd",
            "fillOpacity": 1,
            "weight": 6
           }
          },
          "type": "Feature"
         },
         {
          "geometry": {
           "coordinates": [
            [
             [
              [
               17.7772612504965,
               59.2152167659766
              ],
              [
               17.777262250496502,
               59.2152177659766
              ],
              [
               17.7772602504965,
               59.2152177659766
              ],
              [
               17.7772612504965,
               59.2152167659766
              ]
             ]
            ]
           ],
           "type": "MultiPolygon"
          },
          "properties": {
           "style": {
            "color": "#0000cd",
            "fillColor": "#0000cd",
            "fillOpacity": 1,
            "weight": 6
           }
          },
          "type": "Feature"
         },
         {
          "geometry": {
           "coordinates": [
            [
             [
              [
               17.7773030509483,
               59.2151937879974
              ],
              [
               17.777304050948302,
               59.2151947879974
              ],
              [
               17.7773020509483,
               59.2151947879974
              ],
              [
               17.7773030509483,
               59.2151937879974
              ]
             ]
            ]
           ],
           "type": "MultiPolygon"
          },
          "properties": {
           "style": {
            "color": "#0000cd",
            "fillColor": "#0000cd",
            "fillOpacity": 1,
            "weight": 6
           }
          },
          "type": "Feature"
         },
         {
          "geometry": {
           "coordinates": [
            [
             [
              [
               17.7807205565697,
               59.2174131060973
              ],
              [
               17.780721556569702,
               59.217414106097294
              ],
              [
               17.7807195565697,
               59.217414106097294
              ],
              [
               17.7807205565697,
               59.2174131060973
              ]
             ]
            ]
           ],
           "type": "MultiPolygon"
          },
          "properties": {
           "style": {
            "color": "#0000cd",
            "fillColor": "#0000cd",
            "fillOpacity": 1,
            "weight": 6
           }
          },
          "type": "Feature"
         },
         {
          "geometry": {
           "coordinates": [
            [
             [
              [
               17.7807737090631,
               59.2173974625583
              ],
              [
               17.780774709063103,
               59.2173984625583
              ],
              [
               17.7807727090631,
               59.2173984625583
              ],
              [
               17.7807737090631,
               59.2173974625583
              ]
             ]
            ]
           ],
           "type": "MultiPolygon"
          },
          "properties": {
           "style": {
            "color": "#0000cd",
            "fillColor": "#0000cd",
            "fillOpacity": 1,
            "weight": 6
           }
          },
          "type": "Feature"
         },
         {
          "geometry": {
           "coordinates": [
            [
             [
              [
               17.7808268615074,
               59.217381818998
              ],
              [
               17.7808278615074,
               59.217382818998
              ],
              [
               17.7808258615074,
               59.217382818998
              ],
              [
               17.7808268615074,
               59.217381818998
              ]
             ]
            ]
           ],
           "type": "MultiPolygon"
          },
          "properties": {
           "style": {
            "color": "#0000cd",
            "fillColor": "#0000cd",
            "fillOpacity": 1,
            "weight": 6
           }
          },
          "type": "Feature"
         },
         {
          "geometry": {
           "coordinates": [
            [
             [
              [
               17.7831047300282,
               59.2203453313481
              ],
              [
               17.7831057300282,
               59.2203463313481
              ],
              [
               17.7831037300282,
               59.2203463313481
              ],
              [
               17.7831047300282,
               59.2203453313481
              ]
             ]
            ]
           ],
           "type": "MultiPolygon"
          },
          "properties": {
           "style": {
            "color": "#0000cd",
            "fillColor": "#0000cd",
            "fillOpacity": 1,
            "weight": 6
           }
          },
          "type": "Feature"
         },
         {
          "geometry": {
           "coordinates": [
            [
             [
              [
               17.7831633251425,
               59.2203361111963
              ],
              [
               17.7831643251425,
               59.2203371111963
              ],
              [
               17.7831623251425,
               59.2203371111963
              ],
              [
               17.7831633251425,
               59.2203361111963
              ]
             ]
            ]
           ],
           "type": "MultiPolygon"
          },
          "properties": {
           "style": {
            "color": "#0000cd",
            "fillColor": "#0000cd",
            "fillOpacity": 1,
            "weight": 6
           }
          },
          "type": "Feature"
         },
         {
          "geometry": {
           "coordinates": [
            [
             [
              [
               17.7832219202246,
               59.2203268910184
              ],
              [
               17.783222920224603,
               59.2203278910184
              ],
              [
               17.7832209202246,
               59.2203278910184
              ],
              [
               17.7832219202246,
               59.2203268910184
              ]
             ]
            ]
           ],
           "type": "MultiPolygon"
          },
          "properties": {
           "style": {
            "color": "#0000cd",
            "fillColor": "#0000cd",
            "fillOpacity": 1,
            "weight": 6
           }
          },
          "type": "Feature"
         },
         {
          "geometry": {
           "coordinates": [
            [
             [
              [
               17.784631424699,
               59.2229692461715
              ],
              [
               17.784632424699,
               59.2229702461715
              ],
              [
               17.784630424699,
               59.2229702461715
              ],
              [
               17.784631424699,
               59.2229692461715
              ]
             ]
            ]
           ],
           "type": "MultiPolygon"
          },
          "properties": {
           "style": {
            "color": "#0000cd",
            "fillColor": "#0000cd",
            "fillOpacity": 1,
            "weight": 6
           }
          },
          "type": "Feature"
         },
         {
          "geometry": {
           "coordinates": [
            [
             [
              [
               17.7846901207639,
               59.2229601886986
              ],
              [
               17.784691120763902,
               59.2229611886986
              ],
              [
               17.7846891207639,
               59.2229611886986
              ],
              [
               17.7846901207639,
               59.2229601886986
              ]
             ]
            ]
           ],
           "type": "MultiPolygon"
          },
          "properties": {
           "style": {
            "color": "#0000cd",
            "fillColor": "#0000cd",
            "fillOpacity": 1,
            "weight": 6
           }
          },
          "type": "Feature"
         },
         {
          "geometry": {
           "coordinates": [
            [
             [
              [
               17.784748816797,
               59.2229511311994
              ],
              [
               17.784749816797,
               59.2229521311994
              ],
              [
               17.784747816796997,
               59.2229521311994
              ],
              [
               17.784748816797,
               59.2229511311994
              ]
             ]
            ]
           ],
           "type": "MultiPolygon"
          },
          "properties": {
           "style": {
            "color": "#0000cd",
            "fillColor": "#0000cd",
            "fillOpacity": 1,
            "weight": 6
           }
          },
          "type": "Feature"
         },
         {
          "geometry": {
           "coordinates": [
            [
             [
              [
               17.7861898694573,
               59.2250128279646
              ],
              [
               17.7861908694573,
               59.225013827964595
              ],
              [
               17.7861888694573,
               59.225013827964595
              ],
              [
               17.7861898694573,
               59.2250128279646
              ]
             ]
            ]
           ],
           "type": "MultiPolygon"
          },
          "properties": {
           "style": {
            "color": "#0000cd",
            "fillColor": "#0000cd",
            "fillOpacity": 1,
            "weight": 6
           }
          },
          "type": "Feature"
         },
         {
          "geometry": {
           "coordinates": [
            [
             [
              [
               17.7862434471933,
               59.2249975595846
              ],
              [
               17.7862444471933,
               59.2249985595846
              ],
              [
               17.7862424471933,
               59.2249985595846
              ],
              [
               17.7862434471933,
               59.2249975595846
              ]
             ]
            ]
           ],
           "type": "MultiPolygon"
          },
          "properties": {
           "style": {
            "color": "#0000cd",
            "fillColor": "#0000cd",
            "fillOpacity": 1,
            "weight": 6
           }
          },
          "type": "Feature"
         },
         {
          "geometry": {
           "coordinates": [
            [
             [
              [
               17.7862970248809,
               59.2249822911829
              ],
              [
               17.7862980248809,
               59.224983291182895
              ],
              [
               17.786296024880897,
               59.224983291182895
              ],
              [
               17.7862970248809,
               59.2249822911829
              ]
             ]
            ]
           ],
           "type": "MultiPolygon"
          },
          "properties": {
           "style": {
            "color": "#0000cd",
            "fillColor": "#0000cd",
            "fillOpacity": 1,
            "weight": 6
           }
          },
          "type": "Feature"
         },
         {
          "geometry": {
           "coordinates": [
            [
             [
              [
               17.7895793415619,
               59.2272837892018
              ],
              [
               17.7895803415619,
               59.227284789201796
              ],
              [
               17.7895783415619,
               59.227284789201796
              ],
              [
               17.7895793415619,
               59.2272837892018
              ]
             ]
            ]
           ],
           "type": "MultiPolygon"
          },
          "properties": {
           "style": {
            "color": "#0000cd",
            "fillColor": "#0000cd",
            "fillOpacity": 1,
            "weight": 6
           }
          },
          "type": "Feature"
         },
         {
          "geometry": {
           "coordinates": [
            [
             [
              [
               17.7896213832351,
               59.2272609201861
              ],
              [
               17.789622383235102,
               59.227261920186095
              ],
              [
               17.7896203832351,
               59.227261920186095
              ],
              [
               17.7896213832351,
               59.2272609201861
              ]
             ]
            ]
           ],
           "type": "MultiPolygon"
          },
          "properties": {
           "style": {
            "color": "#0000cd",
            "fillColor": "#0000cd",
            "fillOpacity": 1,
            "weight": 6
           }
          },
          "type": "Feature"
         },
         {
          "geometry": {
           "coordinates": [
            [
             [
              [
               17.789663424852,
               59.2272380511573
              ],
              [
               17.789664424852003,
               59.2272390511573
              ],
              [
               17.789662424852,
               59.2272390511573
              ],
              [
               17.789663424852,
               59.2272380511573
              ]
             ]
            ]
           ],
           "type": "MultiPolygon"
          },
          "properties": {
           "style": {
            "color": "#0000cd",
            "fillColor": "#0000cd",
            "fillOpacity": 1,
            "weight": 6
           }
          },
          "type": "Feature"
         },
         {
          "geometry": {
           "coordinates": [
            [
             [
              [
               17.7923381648792,
               59.2283835773858
              ],
              [
               17.792339164879202,
               59.228384577385796
              ],
              [
               17.7923371648792,
               59.228384577385796
              ],
              [
               17.7923381648792,
               59.2283835773858
              ]
             ]
            ]
           ],
           "type": "MultiPolygon"
          },
          "properties": {
           "style": {
            "color": "#0000cd",
            "fillColor": "#0000cd",
            "fillOpacity": 1,
            "weight": 6
           }
          },
          "type": "Feature"
         },
         {
          "geometry": {
           "coordinates": [
            [
             [
              [
               17.7923706423448,
               59.228356927162
              ],
              [
               17.7923716423448,
               59.228357927161994
              ],
              [
               17.7923696423448,
               59.228357927161994
              ],
              [
               17.7923706423448,
               59.228356927162
              ]
             ]
            ]
           ],
           "type": "MultiPolygon"
          },
          "properties": {
           "style": {
            "color": "#0000cd",
            "fillColor": "#0000cd",
            "fillOpacity": 1,
            "weight": 6
           }
          },
          "type": "Feature"
         },
         {
          "geometry": {
           "coordinates": [
            [
             [
              [
               17.7924031197601,
               59.2283302769304
              ],
              [
               17.7924041197601,
               59.2283312769304
              ],
              [
               17.792402119760098,
               59.2283312769304
              ],
              [
               17.7924031197601,
               59.2283302769304
              ]
             ]
            ]
           ],
           "type": "MultiPolygon"
          },
          "properties": {
           "style": {
            "color": "#0000cd",
            "fillColor": "#0000cd",
            "fillOpacity": 1,
            "weight": 6
           }
          },
          "type": "Feature"
         },
         {
          "geometry": {
           "coordinates": [
            [
             [
              [
               17.7954448947494,
               59.2292082833453
              ],
              [
               17.795445894749403,
               59.2292092833453
              ],
              [
               17.7954438947494,
               59.2292092833453
              ],
              [
               17.7954448947494,
               59.2292082833453
              ]
             ]
            ]
           ],
           "type": "MultiPolygon"
          },
          "properties": {
           "style": {
            "color": "#0000cd",
            "fillColor": "#0000cd",
            "fillOpacity": 1,
            "weight": 6
           }
          },
          "type": "Feature"
         },
         {
          "geometry": {
           "coordinates": [
            [
             [
              [
               17.7954706927598,
               59.2291797791731
              ],
              [
               17.7954716927598,
               59.2291807791731
              ],
              [
               17.7954696927598,
               59.2291807791731
              ],
              [
               17.7954706927598,
               59.2291797791731
              ]
             ]
            ]
           ],
           "type": "MultiPolygon"
          },
          "properties": {
           "style": {
            "color": "#0000cd",
            "fillColor": "#0000cd",
            "fillOpacity": 1,
            "weight": 6
           }
          },
          "type": "Feature"
         },
         {
          "geometry": {
           "coordinates": [
            [
             [
              [
               17.7954964907276,
               59.2291512749961
              ],
              [
               17.795497490727602,
               59.229152274996096
              ],
              [
               17.7954954907276,
               59.229152274996096
              ],
              [
               17.7954964907276,
               59.2291512749961
              ]
             ]
            ]
           ],
           "type": "MultiPolygon"
          },
          "properties": {
           "style": {
            "color": "#0000cd",
            "fillColor": "#0000cd",
            "fillOpacity": 1,
            "weight": 6
           }
          },
          "type": "Feature"
         },
         {
          "geometry": {
           "coordinates": [
            [
             [
              [
               17.8029030054684,
               59.2311777701535
              ],
              [
               17.802904005468402,
               59.2311787701535
              ],
              [
               17.8029020054684,
               59.2311787701535
              ],
              [
               17.8029030054684,
               59.2311777701535
              ]
             ]
            ]
           ],
           "type": "MultiPolygon"
          },
          "properties": {
           "style": {
            "color": "#0000cd",
            "fillColor": "#0000cd",
            "fillOpacity": 1,
            "weight": 6
           }
          },
          "type": "Feature"
         },
         {
          "geometry": {
           "coordinates": [
            [
             [
              [
               17.8029399256033,
               59.2311526842638
              ],
              [
               17.802940925603302,
               59.231153684263795
              ],
              [
               17.8029389256033,
               59.231153684263795
              ],
              [
               17.8029399256033,
               59.2311526842638
              ]
             ]
            ]
           ],
           "type": "MultiPolygon"
          },
          "properties": {
           "style": {
            "color": "#0000cd",
            "fillColor": "#0000cd",
            "fillOpacity": 1,
            "weight": 6
           }
          },
          "type": "Feature"
         },
         {
          "geometry": {
           "coordinates": [
            [
             [
              [
               17.8029768456841,
               59.2311275983641
              ],
              [
               17.8029778456841,
               59.231128598364094
              ],
              [
               17.8029758456841,
               59.231128598364094
              ],
              [
               17.8029768456841,
               59.2311275983641
              ]
             ]
            ]
           ],
           "type": "MultiPolygon"
          },
          "properties": {
           "style": {
            "color": "#0000cd",
            "fillColor": "#0000cd",
            "fillOpacity": 1,
            "weight": 6
           }
          },
          "type": "Feature"
         },
         {
          "geometry": {
           "coordinates": [
            [
             [
              [
               17.8050257390125,
               59.2321129505976
              ],
              [
               17.8050267390125,
               59.2321139505976
              ],
              [
               17.8050247390125,
               59.2321139505976
              ],
              [
               17.8050257390125,
               59.2321129505976
              ]
             ]
            ]
           ],
           "type": "MultiPolygon"
          },
          "properties": {
           "style": {
            "color": "#0000cd",
            "fillColor": "#0000cd",
            "fillOpacity": 1,
            "weight": 6
           }
          },
          "type": "Feature"
         },
         {
          "geometry": {
           "coordinates": [
            [
             [
              [
               17.805068514853,
               59.2320904392158
              ],
              [
               17.805069514853002,
               59.2320914392158
              ],
              [
               17.805067514853,
               59.2320914392158
              ],
              [
               17.805068514853,
               59.2320904392158
              ]
             ]
            ]
           ],
           "type": "MultiPolygon"
          },
          "properties": {
           "style": {
            "color": "#0000cd",
            "fillColor": "#0000cd",
            "fillOpacity": 1,
            "weight": 6
           }
          },
          "type": "Feature"
         },
         {
          "geometry": {
           "coordinates": [
            [
             [
              [
               17.8051112906372,
               59.2320679278203
              ],
              [
               17.8051122906372,
               59.2320689278203
              ],
              [
               17.8051102906372,
               59.2320689278203
              ],
              [
               17.8051112906372,
               59.2320679278203
              ]
             ]
            ]
           ],
           "type": "MultiPolygon"
          },
          "properties": {
           "style": {
            "color": "#0000cd",
            "fillColor": "#0000cd",
            "fillOpacity": 1,
            "weight": 6
           }
          },
          "type": "Feature"
         },
         {
          "geometry": {
           "coordinates": [
            [
             [
              [
               17.8080032048208,
               59.2336341961005
              ],
              [
               17.8080042048208,
               59.2336351961005
              ],
              [
               17.8080022048208,
               59.2336351961005
              ],
              [
               17.8080032048208,
               59.2336341961005
              ]
             ]
            ]
           ],
           "type": "MultiPolygon"
          },
          "properties": {
           "style": {
            "color": "#0000cd",
            "fillColor": "#0000cd",
            "fillOpacity": 1,
            "weight": 6
           }
          },
          "type": "Feature"
         },
         {
          "geometry": {
           "coordinates": [
            [
             [
              [
               17.808046448052,
               59.2336119195193
              ],
              [
               17.808047448052,
               59.233612919519295
              ],
              [
               17.808045448052,
               59.233612919519295
              ],
              [
               17.808046448052,
               59.2336119195193
              ]
             ]
            ]
           ],
           "type": "MultiPolygon"
          },
          "properties": {
           "style": {
            "color": "#0000cd",
            "fillColor": "#0000cd",
            "fillOpacity": 1,
            "weight": 6
           }
          },
          "type": "Feature"
         },
         {
          "geometry": {
           "coordinates": [
            [
             [
              [
               17.8080896912269,
               59.2335896429242
              ],
              [
               17.8080906912269,
               59.2335906429242
              ],
              [
               17.8080886912269,
               59.2335906429242
              ],
              [
               17.8080896912269,
               59.2335896429242
              ]
             ]
            ]
           ],
           "type": "MultiPolygon"
          },
          "properties": {
           "style": {
            "color": "#0000cd",
            "fillColor": "#0000cd",
            "fillOpacity": 1,
            "weight": 6
           }
          },
          "type": "Feature"
         },
         {
          "geometry": {
           "coordinates": [
            [
             [
              [
               17.812567507559,
               59.2359286870489
              ],
              [
               17.812568507559,
               59.235929687048895
              ],
              [
               17.812566507558998,
               59.235929687048895
              ],
              [
               17.812567507559,
               59.2359286870489
              ]
             ]
            ]
           ],
           "type": "MultiPolygon"
          },
          "properties": {
           "style": {
            "color": "#0000cd",
            "fillColor": "#0000cd",
            "fillOpacity": 1,
            "weight": 6
           }
          },
          "type": "Feature"
         },
         {
          "geometry": {
           "coordinates": [
            [
             [
              [
               17.8126082170186,
               59.2359051889489
              ],
              [
               17.8126092170186,
               59.235906188948896
              ],
              [
               17.8126072170186,
               59.235906188948896
              ],
              [
               17.8126082170186,
               59.2359051889489
              ]
             ]
            ]
           ],
           "type": "MultiPolygon"
          },
          "properties": {
           "style": {
            "color": "#0000cd",
            "fillColor": "#0000cd",
            "fillOpacity": 1,
            "weight": 6
           }
          },
          "type": "Feature"
         },
         {
          "geometry": {
           "coordinates": [
            [
             [
              [
               17.8126489264223,
               59.2358816908365
              ],
              [
               17.8126499264223,
               59.2358826908365
              ],
              [
               17.812647926422297,
               59.2358826908365
              ],
              [
               17.8126489264223,
               59.2358816908365
              ]
             ]
            ]
           ],
           "type": "MultiPolygon"
          },
          "properties": {
           "style": {
            "color": "#0000cd",
            "fillColor": "#0000cd",
            "fillOpacity": 1,
            "weight": 6
           }
          },
          "type": "Feature"
         },
         {
          "geometry": {
           "coordinates": [
            [
             [
              [
               17.815504182112,
               59.2369813187292
              ],
              [
               17.815505182112002,
               59.2369823187292
              ],
              [
               17.815503182112,
               59.2369823187292
              ],
              [
               17.815504182112,
               59.2369813187292
              ]
             ]
            ]
           ],
           "type": "MultiPolygon"
          },
          "properties": {
           "style": {
            "color": "#0000cd",
            "fillColor": "#0000cd",
            "fillOpacity": 1,
            "weight": 6
           }
          },
          "type": "Feature"
         },
         {
          "geometry": {
           "coordinates": [
            [
             [
              [
               17.8155335579922,
               59.236953737407
              ],
              [
               17.8155345579922,
               59.236954737407
              ],
              [
               17.8155325579922,
               59.236954737407
              ],
              [
               17.8155335579922,
               59.236953737407
              ]
             ]
            ]
           ],
           "type": "MultiPolygon"
          },
          "properties": {
           "style": {
            "color": "#0000cd",
            "fillColor": "#0000cd",
            "fillOpacity": 1,
            "weight": 6
           }
          },
          "type": "Feature"
         },
         {
          "geometry": {
           "coordinates": [
            [
             [
              [
               17.8155629338253,
               59.2369261560786
              ],
              [
               17.815563933825302,
               59.2369271560786
              ],
              [
               17.8155619338253,
               59.2369271560786
              ],
              [
               17.8155629338253,
               59.2369261560786
              ]
             ]
            ]
           ],
           "type": "MultiPolygon"
          },
          "properties": {
           "style": {
            "color": "#0000cd",
            "fillColor": "#0000cd",
            "fillOpacity": 1,
            "weight": 6
           }
          },
          "type": "Feature"
         },
         {
          "geometry": {
           "coordinates": [
            [
             [
              [
               17.818802114208,
               59.2377010310166
              ],
              [
               17.818803114208002,
               59.237702031016596
              ],
              [
               17.818801114208,
               59.237702031016596
              ],
              [
               17.818802114208,
               59.2377010310166
              ]
             ]
            ]
           ],
           "type": "MultiPolygon"
          },
          "properties": {
           "style": {
            "color": "#0000cd",
            "fillColor": "#0000cd",
            "fillOpacity": 1,
            "weight": 6
           }
          },
          "type": "Feature"
         },
         {
          "geometry": {
           "coordinates": [
            [
             [
              [
               17.8188196906752,
               59.2376709281413
              ],
              [
               17.8188206906752,
               59.237671928141296
              ],
              [
               17.818818690675197,
               59.237671928141296
              ],
              [
               17.8188196906752,
               59.2376709281413
              ]
             ]
            ]
           ],
           "type": "MultiPolygon"
          },
          "properties": {
           "style": {
            "color": "#0000cd",
            "fillColor": "#0000cd",
            "fillOpacity": 1,
            "weight": 6
           }
          },
          "type": "Feature"
         },
         {
          "geometry": {
           "coordinates": [
            [
             [
              [
               17.8188372671121,
               59.2376408252637
              ],
              [
               17.818838267112103,
               59.2376418252637
              ],
              [
               17.8188362671121,
               59.2376418252637
              ],
              [
               17.8188372671121,
               59.2376408252637
              ]
             ]
            ]
           ],
           "type": "MultiPolygon"
          },
          "properties": {
           "style": {
            "color": "#0000cd",
            "fillColor": "#0000cd",
            "fillOpacity": 1,
            "weight": 6
           }
          },
          "type": "Feature"
         },
         {
          "geometry": {
           "coordinates": [
            [
             [
              [
               17.8246611665345,
               59.2384613336488
              ],
              [
               17.8246621665345,
               59.2384623336488
              ],
              [
               17.8246601665345,
               59.2384623336488
              ],
              [
               17.8246611665345,
               59.2384613336488
              ]
             ]
            ]
           ],
           "type": "MultiPolygon"
          },
          "properties": {
           "style": {
            "color": "#0000cd",
            "fillColor": "#0000cd",
            "fillOpacity": 1,
            "weight": 6
           }
          },
          "type": "Feature"
         },
         {
          "geometry": {
           "coordinates": [
            [
             [
              [
               17.824676741693,
               59.2384309428391
              ],
              [
               17.824677741693,
               59.2384319428391
              ],
              [
               17.824675741693,
               59.2384319428391
              ],
              [
               17.824676741693,
               59.2384309428391
              ]
             ]
            ]
           ],
           "type": "MultiPolygon"
          },
          "properties": {
           "style": {
            "color": "#0000cd",
            "fillColor": "#0000cd",
            "fillOpacity": 1,
            "weight": 6
           }
          },
          "type": "Feature"
         },
         {
          "geometry": {
           "coordinates": [
            [
             [
              [
               17.8246923168245,
               59.2384005520276
              ],
              [
               17.8246933168245,
               59.2384015520276
              ],
              [
               17.8246913168245,
               59.2384015520276
              ],
              [
               17.8246923168245,
               59.2384005520276
              ]
             ]
            ]
           ],
           "type": "MultiPolygon"
          },
          "properties": {
           "style": {
            "color": "#0000cd",
            "fillColor": "#0000cd",
            "fillOpacity": 1,
            "weight": 6
           }
          },
          "type": "Feature"
         },
         {
          "geometry": {
           "coordinates": [
            [
             [
              [
               17.8300060917522,
               59.2391195597262
              ],
              [
               17.8300070917522,
               59.239120559726196
              ],
              [
               17.8300050917522,
               59.239120559726196
              ],
              [
               17.8300060917522,
               59.2391195597262
              ]
             ]
            ]
           ],
           "type": "MultiPolygon"
          },
          "properties": {
           "style": {
            "color": "#0000cd",
            "fillColor": "#0000cd",
            "fillOpacity": 1,
            "weight": 6
           }
          },
          "type": "Feature"
         },
         {
          "geometry": {
           "coordinates": [
            [
             [
              [
               17.8300241537609,
               59.2390895323716
              ],
              [
               17.8300251537609,
               59.2390905323716
              ],
              [
               17.830023153760898,
               59.2390905323716
              ],
              [
               17.8300241537609,
               59.2390895323716
              ]
             ]
            ]
           ],
           "type": "MultiPolygon"
          },
          "properties": {
           "style": {
            "color": "#0000cd",
            "fillColor": "#0000cd",
            "fillOpacity": 1,
            "weight": 6
           }
          },
          "type": "Feature"
         },
         {
          "geometry": {
           "coordinates": [
            [
             [
              [
               17.8300422157386,
               59.2390595050145
              ],
              [
               17.830043215738602,
               59.2390605050145
              ],
              [
               17.8300412157386,
               59.2390605050145
              ],
              [
               17.8300422157386,
               59.2390595050145
              ]
             ]
            ]
           ],
           "type": "MultiPolygon"
          },
          "properties": {
           "style": {
            "color": "#0000cd",
            "fillColor": "#0000cd",
            "fillOpacity": 1,
            "weight": 6
           }
          },
          "type": "Feature"
         },
         {
          "geometry": {
           "coordinates": [
            [
             [
              [
               17.8340003515995,
               59.2400099157208
              ],
              [
               17.8340013515995,
               59.240010915720795
              ],
              [
               17.8339993515995,
               59.240010915720795
              ],
              [
               17.8340003515995,
               59.2400099157208
              ]
             ]
            ]
           ],
           "type": "MultiPolygon"
          },
          "properties": {
           "style": {
            "color": "#0000cd",
            "fillColor": "#0000cd",
            "fillOpacity": 1,
            "weight": 6
           }
          },
          "type": "Feature"
         },
         {
          "geometry": {
           "coordinates": [
            [
             [
              [
               17.8340358614509,
               59.2399842976621
              ],
              [
               17.8340368614509,
               59.239985297662095
              ],
              [
               17.8340348614509,
               59.239985297662095
              ],
              [
               17.8340358614509,
               59.2399842976621
              ]
             ]
            ]
           ],
           "type": "MultiPolygon"
          },
          "properties": {
           "style": {
            "color": "#0000cd",
            "fillColor": "#0000cd",
            "fillOpacity": 1,
            "weight": 6
           }
          },
          "type": "Feature"
         },
         {
          "geometry": {
           "coordinates": [
            [
             [
              [
               17.8361263362871,
               59.2410067357332
              ],
              [
               17.836127336287102,
               59.2410077357332
              ],
              [
               17.8361253362871,
               59.2410077357332
              ],
              [
               17.8361263362871,
               59.2410067357332
              ]
             ]
            ]
           ],
           "type": "MultiPolygon"
          },
          "properties": {
           "style": {
            "color": "#0000cd",
            "fillColor": "#0000cd",
            "fillOpacity": 1,
            "weight": 6
           }
          },
          "type": "Feature"
         },
         {
          "geometry": {
           "coordinates": [
            [
             [
              [
               17.8361751404208,
               59.2409877070946
              ],
              [
               17.8361761404208,
               59.240988707094594
              ],
              [
               17.8361741404208,
               59.240988707094594
              ],
              [
               17.8361751404208,
               59.2409877070946
              ]
             ]
            ]
           ],
           "type": "MultiPolygon"
          },
          "properties": {
           "style": {
            "color": "#0000cd",
            "fillColor": "#0000cd",
            "fillOpacity": 1,
            "weight": 6
           }
          },
          "type": "Feature"
         },
         {
          "geometry": {
           "coordinates": [
            [
             [
              [
               17.8381139944557,
               59.2430380724046
              ],
              [
               17.8381149944557,
               59.2430390724046
              ],
              [
               17.8381129944557,
               59.2430390724046
              ],
              [
               17.8381139944557,
               59.2430380724046
              ]
             ]
            ]
           ],
           "type": "MultiPolygon"
          },
          "properties": {
           "style": {
            "color": "#0000cd",
            "fillColor": "#0000cd",
            "fillOpacity": 1,
            "weight": 6
           }
          },
          "type": "Feature"
         },
         {
          "geometry": {
           "coordinates": [
            [
             [
              [
               17.8381727166667,
               59.2430290020492
              ],
              [
               17.838173716666702,
               59.243030002049196
              ],
              [
               17.8381717166667,
               59.243030002049196
              ],
              [
               17.8381727166667,
               59.2430290020492
              ]
             ]
            ]
           ],
           "type": "MultiPolygon"
          },
          "properties": {
           "style": {
            "color": "#0000cd",
            "fillColor": "#0000cd",
            "fillOpacity": 1,
            "weight": 6
           }
          },
          "type": "Feature"
         },
         {
          "geometry": {
           "coordinates": [
            [
             [
              [
               17.8400460808574,
               59.2454350316718
              ],
              [
               17.840047080857403,
               59.2454360316718
              ],
              [
               17.8400450808574,
               59.2454360316718
              ],
              [
               17.8400460808574,
               59.2454350316718
              ]
             ]
            ]
           ],
           "type": "MultiPolygon"
          },
          "properties": {
           "style": {
            "color": "#0000cd",
            "fillColor": "#0000cd",
            "fillOpacity": 1,
            "weight": 6
           }
          },
          "type": "Feature"
         },
         {
          "geometry": {
           "coordinates": [
            [
             [
              [
               17.8400988276358,
               59.2454189947036
              ],
              [
               17.8400998276358,
               59.245419994703596
              ],
              [
               17.840097827635798,
               59.245419994703596
              ],
              [
               17.8400988276358,
               59.2454189947036
              ]
             ]
            ]
           ],
           "type": "MultiPolygon"
          },
          "properties": {
           "style": {
            "color": "#0000cd",
            "fillColor": "#0000cd",
            "fillOpacity": 1,
            "weight": 6
           }
          },
          "type": "Feature"
         },
         {
          "geometry": {
           "coordinates": [
            [
             [
              [
               17.8434220730359,
               59.2472983600758
              ],
              [
               17.8434230730359,
               59.2472993600758
              ],
              [
               17.8434210730359,
               59.2472993600758
              ],
              [
               17.8434220730359,
               59.2472983600758
              ]
             ]
            ]
           ],
           "type": "MultiPolygon"
          },
          "properties": {
           "style": {
            "color": "#0000cd",
            "fillColor": "#0000cd",
            "fillOpacity": 1,
            "weight": 6
           }
          },
          "type": "Feature"
         },
         {
          "geometry": {
           "coordinates": [
            [
             [
              [
               17.8434582776598,
               59.2472729957826
              ],
              [
               17.8434592776598,
               59.2472739957826
              ],
              [
               17.843457277659798,
               59.2472739957826
              ],
              [
               17.8434582776598,
               59.2472729957826
              ]
             ]
            ]
           ],
           "type": "MultiPolygon"
          },
          "properties": {
           "style": {
            "color": "#0000cd",
            "fillColor": "#0000cd",
            "fillOpacity": 1,
            "weight": 6
           }
          },
          "type": "Feature"
         },
         {
          "geometry": {
           "coordinates": [
            [
             [
              [
               17.8434944822301,
               59.2472476314796
              ],
              [
               17.8434954822301,
               59.2472486314796
              ],
              [
               17.843493482230098,
               59.2472486314796
              ],
              [
               17.8434944822301,
               59.2472476314796
              ]
             ]
            ]
           ],
           "type": "MultiPolygon"
          },
          "properties": {
           "style": {
            "color": "#0000cd",
            "fillColor": "#0000cd",
            "fillOpacity": 1,
            "weight": 6
           }
          },
          "type": "Feature"
         },
         {
          "geometry": {
           "coordinates": [
            [
             [
              [
               17.8485296176747,
               59.2491957520239
              ],
              [
               17.8485306176747,
               59.2491967520239
              ],
              [
               17.8485286176747,
               59.2491967520239
              ],
              [
               17.8485296176747,
               59.2491957520239
              ]
             ]
            ]
           ],
           "type": "MultiPolygon"
          },
          "properties": {
           "style": {
            "color": "#0000cd",
            "fillColor": "#0000cd",
            "fillOpacity": 1,
            "weight": 6
           }
          },
          "type": "Feature"
         },
         {
          "geometry": {
           "coordinates": [
            [
             [
              [
               17.8485651901802,
               59.24917015346
              ],
              [
               17.8485661901802,
               59.24917115346
              ],
              [
               17.8485641901802,
               59.24917115346
              ],
              [
               17.8485651901802,
               59.24917015346
              ]
             ]
            ]
           ],
           "type": "MultiPolygon"
          },
          "properties": {
           "style": {
            "color": "#0000cd",
            "fillColor": "#0000cd",
            "fillOpacity": 1,
            "weight": 6
           }
          },
          "type": "Feature"
         },
         {
          "geometry": {
           "coordinates": [
            [
             [
              [
               17.8486007626326,
               59.2491445548866
              ],
              [
               17.8486017626326,
               59.249145554886596
              ],
              [
               17.8485997626326,
               59.249145554886596
              ],
              [
               17.8486007626326,
               59.2491445548866
              ]
             ]
            ]
           ],
           "type": "MultiPolygon"
          },
          "properties": {
           "style": {
            "color": "#0000cd",
            "fillColor": "#0000cd",
            "fillOpacity": 1,
            "weight": 6
           }
          },
          "type": "Feature"
         },
         {
          "geometry": {
           "coordinates": [
            [
             [
              [
               17.8577808905413,
               59.252599724752
              ],
              [
               17.8577818905413,
               59.252600724752
              ],
              [
               17.8577798905413,
               59.252600724752
              ],
              [
               17.8577808905413,
               59.252599724752
              ]
             ]
            ]
           ],
           "type": "MultiPolygon"
          },
          "properties": {
           "style": {
            "color": "#0000cd",
            "fillColor": "#0000cd",
            "fillOpacity": 1,
            "weight": 6
           }
          },
          "type": "Feature"
         },
         {
          "geometry": {
           "coordinates": [
            [
             [
              [
               17.8578167554059,
               59.2525742322108
              ],
              [
               17.8578177554059,
               59.252575232210795
              ],
              [
               17.8578157554059,
               59.252575232210795
              ],
              [
               17.8578167554059,
               59.2525742322108
              ]
             ]
            ]
           ],
           "type": "MultiPolygon"
          },
          "properties": {
           "style": {
            "color": "#0000cd",
            "fillColor": "#0000cd",
            "fillOpacity": 1,
            "weight": 6
           }
          },
          "type": "Feature"
         },
         {
          "geometry": {
           "coordinates": [
            [
             [
              [
               17.8578526202172,
               59.25254873966
              ],
              [
               17.857853620217202,
               59.25254973966
              ],
              [
               17.8578516202172,
               59.25254973966
              ],
              [
               17.8578526202172,
               59.25254873966
              ]
             ]
            ]
           ],
           "type": "MultiPolygon"
          },
          "properties": {
           "style": {
            "color": "#0000cd",
            "fillColor": "#0000cd",
            "fillOpacity": 1,
            "weight": 6
           }
          },
          "type": "Feature"
         },
         {
          "geometry": {
           "coordinates": [
            [
             [
              [
               17.8578884849752,
               59.2525232470997
              ],
              [
               17.8578894849752,
               59.2525242470997
              ],
              [
               17.857887484975198,
               59.2525242470997
              ],
              [
               17.8578884849752,
               59.2525232470997
              ]
             ]
            ]
           ],
           "type": "MultiPolygon"
          },
          "properties": {
           "style": {
            "color": "#0000cd",
            "fillColor": "#0000cd",
            "fillOpacity": 1,
            "weight": 6
           }
          },
          "type": "Feature"
         },
         {
          "geometry": {
           "coordinates": [
            [
             [
              [
               17.8624973946044,
               59.2542224607492
              ],
              [
               17.8624983946044,
               59.254223460749195
              ],
              [
               17.8624963946044,
               59.254223460749195
              ],
              [
               17.8624973946044,
               59.2542224607492
              ]
             ]
            ]
           ],
           "type": "MultiPolygon"
          },
          "properties": {
           "style": {
            "color": "#0000cd",
            "fillColor": "#0000cd",
            "fillOpacity": 1,
            "weight": 6
           }
          },
          "type": "Feature"
         },
         {
          "geometry": {
           "coordinates": [
            [
             [
              [
               17.8625220957003,
               59.2541936990241
              ],
              [
               17.8625230957003,
               59.2541946990241
              ],
              [
               17.8625210957003,
               59.2541946990241
              ],
              [
               17.8625220957003,
               59.2541936990241
              ]
             ]
            ]
           ],
           "type": "MultiPolygon"
          },
          "properties": {
           "style": {
            "color": "#0000cd",
            "fillColor": "#0000cd",
            "fillOpacity": 1,
            "weight": 6
           }
          },
          "type": "Feature"
         },
         {
          "geometry": {
           "coordinates": [
            [
             [
              [
               17.8625467967551,
               59.2541649372945
              ],
              [
               17.862547796755102,
               59.254165937294495
              ],
              [
               17.8625457967551,
               59.254165937294495
              ],
              [
               17.8625467967551,
               59.2541649372945
              ]
             ]
            ]
           ],
           "type": "MultiPolygon"
          },
          "properties": {
           "style": {
            "color": "#0000cd",
            "fillColor": "#0000cd",
            "fillOpacity": 1,
            "weight": 6
           }
          },
          "type": "Feature"
         },
         {
          "geometry": {
           "coordinates": [
            [
             [
              [
               17.8625714977688,
               59.2541361755603
              ],
              [
               17.862572497768802,
               59.254137175560295
              ],
              [
               17.8625704977688,
               59.254137175560295
              ],
              [
               17.8625714977688,
               59.2541361755603
              ]
             ]
            ]
           ],
           "type": "MultiPolygon"
          },
          "properties": {
           "style": {
            "color": "#0000cd",
            "fillColor": "#0000cd",
            "fillOpacity": 1,
            "weight": 6
           }
          },
          "type": "Feature"
         },
         {
          "geometry": {
           "coordinates": [
            [
             [
              [
               17.8655026832897,
               59.2546924406106
              ],
              [
               17.865503683289703,
               59.254693440610595
              ],
              [
               17.8655016832897,
               59.254693440610595
              ],
              [
               17.8655026832897,
               59.2546924406106
              ]
             ]
            ]
           ],
           "type": "MultiPolygon"
          },
          "properties": {
           "style": {
            "color": "#0000cd",
            "fillColor": "#0000cd",
            "fillOpacity": 1,
            "weight": 6
           }
          },
          "type": "Feature"
         },
         {
          "geometry": {
           "coordinates": [
            [
             [
              [
               17.8655098232584,
               59.254661233365
              ],
              [
               17.8655108232584,
               59.254662233364996
              ],
              [
               17.8655088232584,
               59.254662233364996
              ],
              [
               17.8655098232584,
               59.254661233365
              ]
             ]
            ]
           ],
           "type": "MultiPolygon"
          },
          "properties": {
           "style": {
            "color": "#0000cd",
            "fillColor": "#0000cd",
            "fillOpacity": 1,
            "weight": 6
           }
          },
          "type": "Feature"
         },
         {
          "geometry": {
           "coordinates": [
            [
             [
              [
               17.865516963215,
               59.254630026119
              ],
              [
               17.865517963215,
               59.254631026119
              ],
              [
               17.865515963215,
               59.254631026119
              ],
              [
               17.865516963215,
               59.254630026119
              ]
             ]
            ]
           ],
           "type": "MultiPolygon"
          },
          "properties": {
           "style": {
            "color": "#0000cd",
            "fillColor": "#0000cd",
            "fillOpacity": 1,
            "weight": 6
           }
          },
          "type": "Feature"
         },
         {
          "geometry": {
           "coordinates": [
            [
             [
              [
               17.8691588604811,
               59.2546292919093
              ],
              [
               17.8691598604811,
               59.2546302919093
              ],
              [
               17.8691578604811,
               59.2546302919093
              ],
              [
               17.8691588604811,
               59.2546292919093
              ]
             ]
            ]
           ],
           "type": "MultiPolygon"
          },
          "properties": {
           "style": {
            "color": "#0000cd",
            "fillColor": "#0000cd",
            "fillOpacity": 1,
            "weight": 6
           }
          },
          "type": "Feature"
         },
         {
          "geometry": {
           "coordinates": [
            [
             [
              [
               17.8691468226341,
               59.254598481924
              ],
              [
               17.8691478226341,
               59.254599481924
              ],
              [
               17.8691458226341,
               59.254599481924
              ],
              [
               17.8691468226341,
               59.254598481924
              ]
             ]
            ]
           ],
           "type": "MultiPolygon"
          },
          "properties": {
           "style": {
            "color": "#0000cd",
            "fillColor": "#0000cd",
            "fillOpacity": 1,
            "weight": 6
           }
          },
          "type": "Feature"
         },
         {
          "geometry": {
           "coordinates": [
            [
             [
              [
               17.8691347848096,
               59.2545676719373
              ],
              [
               17.8691357848096,
               59.2545686719373
              ],
              [
               17.8691337848096,
               59.2545686719373
              ],
              [
               17.8691347848096,
               59.2545676719373
              ]
             ]
            ]
           ],
           "type": "MultiPolygon"
          },
          "properties": {
           "style": {
            "color": "#0000cd",
            "fillColor": "#0000cd",
            "fillOpacity": 1,
            "weight": 6
           }
          },
          "type": "Feature"
         },
         {
          "geometry": {
           "coordinates": [
            [
             [
              [
               17.9592924203136,
               59.2891335537797
              ],
              [
               17.9592934203136,
               59.2891345537797
              ],
              [
               17.959291420313598,
               59.2891345537797
              ],
              [
               17.9592924203136,
               59.2891335537797
              ]
             ]
            ]
           ],
           "type": "MultiPolygon"
          },
          "properties": {
           "style": {
            "color": "#0000cd",
            "fillColor": "#0000cd",
            "fillOpacity": 1,
            "weight": 6
           }
          },
          "type": "Feature"
         },
         {
          "geometry": {
           "coordinates": [
            [
             [
              [
               17.9592964712369,
               59.2891022023
              ],
              [
               17.9592974712369,
               59.2891032023
              ],
              [
               17.9592954712369,
               59.2891032023
              ],
              [
               17.9592964712369,
               59.2891022023
              ]
             ]
            ]
           ],
           "type": "MultiPolygon"
          },
          "properties": {
           "style": {
            "color": "#0000cd",
            "fillColor": "#0000cd",
            "fillOpacity": 1,
            "weight": 6
           }
          },
          "type": "Feature"
         },
         {
          "geometry": {
           "coordinates": [
            [
             [
              [
               17.9593005221537,
               59.2890708508201
              ],
              [
               17.9593015221537,
               59.2890718508201
              ],
              [
               17.9592995221537,
               59.2890718508201
              ],
              [
               17.9593005221537,
               59.2890708508201
              ]
             ]
            ]
           ],
           "type": "MultiPolygon"
          },
          "properties": {
           "style": {
            "color": "#0000cd",
            "fillColor": "#0000cd",
            "fillOpacity": 1,
            "weight": 6
           }
          },
          "type": "Feature"
         },
         {
          "geometry": {
           "coordinates": [
            [
             [
              [
               17.9651673115826,
               59.2891088510692
              ],
              [
               17.9651683115826,
               59.2891098510692
              ],
              [
               17.9651663115826,
               59.2891098510692
              ],
              [
               17.9651673115826,
               59.2891088510692
              ]
             ]
            ]
           ],
           "type": "MultiPolygon"
          },
          "properties": {
           "style": {
            "color": "#0000cd",
            "fillColor": "#0000cd",
            "fillOpacity": 1,
            "weight": 6
           }
          },
          "type": "Feature"
         },
         {
          "geometry": {
           "coordinates": [
            [
             [
              [
               17.9651657210937,
               59.2890774417462
              ],
              [
               17.965166721093702,
               59.2890784417462
              ],
              [
               17.9651647210937,
               59.2890784417462
              ],
              [
               17.9651657210937,
               59.2890774417462
              ]
             ]
            ]
           ],
           "type": "MultiPolygon"
          },
          "properties": {
           "style": {
            "color": "#0000cd",
            "fillColor": "#0000cd",
            "fillOpacity": 1,
            "weight": 6
           }
          },
          "type": "Feature"
         },
         {
          "geometry": {
           "coordinates": [
            [
             [
              [
               17.9651641306086,
               59.289046032423
              ],
              [
               17.9651651306086,
               59.289047032423
              ],
              [
               17.965163130608598,
               59.289047032423
              ],
              [
               17.9651641306086,
               59.289046032423
              ]
             ]
            ]
           ],
           "type": "MultiPolygon"
          },
          "properties": {
           "style": {
            "color": "#0000cd",
            "fillColor": "#0000cd",
            "fillOpacity": 1,
            "weight": 6
           }
          },
          "type": "Feature"
         },
         {
          "geometry": {
           "coordinates": [
            [
             [
              [
               17.9737613453666,
               59.2889773765447
              ],
              [
               17.973762345366602,
               59.2889783765447
              ],
              [
               17.9737603453666,
               59.2889783765447
              ],
              [
               17.9737613453666,
               59.2889773765447
              ]
             ]
            ]
           ],
           "type": "MultiPolygon"
          },
          "properties": {
           "style": {
            "color": "#0000cd",
            "fillColor": "#0000cd",
            "fillOpacity": 1,
            "weight": 6
           }
          },
          "type": "Feature"
         },
         {
          "geometry": {
           "coordinates": [
            [
             [
              [
               17.9737596680555,
               59.2889459684672
              ],
              [
               17.9737606680555,
               59.2889469684672
              ],
              [
               17.9737586680555,
               59.2889469684672
              ],
              [
               17.9737596680555,
               59.2889459684672
              ]
             ]
            ]
           ],
           "type": "MultiPolygon"
          },
          "properties": {
           "style": {
            "color": "#0000cd",
            "fillColor": "#0000cd",
            "fillOpacity": 1,
            "weight": 6
           }
          },
          "type": "Feature"
         },
         {
          "geometry": {
           "coordinates": [
            [
             [
              [
               17.9737579907484,
               59.2889145603894
              ],
              [
               17.9737589907484,
               59.2889155603894
              ],
              [
               17.9737569907484,
               59.2889155603894
              ],
              [
               17.9737579907484,
               59.2889145603894
              ]
             ]
            ]
           ],
           "type": "MultiPolygon"
          },
          "properties": {
           "style": {
            "color": "#0000cd",
            "fillColor": "#0000cd",
            "fillOpacity": 1,
            "weight": 6
           }
          },
          "type": "Feature"
         },
         {
          "geometry": {
           "coordinates": [
            [
             [
              [
               17.9795488107377,
               59.2888945638116
              ],
              [
               17.9795498107377,
               59.2888955638116
              ],
              [
               17.9795478107377,
               59.2888955638116
              ],
              [
               17.9795488107377,
               59.2888945638116
              ]
             ]
            ]
           ],
           "type": "MultiPolygon"
          },
          "properties": {
           "style": {
            "color": "#0000cd",
            "fillColor": "#0000cd",
            "fillOpacity": 1,
            "weight": 6
           }
          },
          "type": "Feature"
         },
         {
          "geometry": {
           "coordinates": [
            [
             [
              [
               17.9795474427434,
               59.2888631518521
              ],
              [
               17.9795484427434,
               59.288864151852096
              ],
              [
               17.9795464427434,
               59.288864151852096
              ],
              [
               17.9795474427434,
               59.2888631518521
              ]
             ]
            ]
           ],
           "type": "MultiPolygon"
          },
          "properties": {
           "style": {
            "color": "#0000cd",
            "fillColor": "#0000cd",
            "fillOpacity": 1,
            "weight": 6
           }
          },
          "type": "Feature"
         },
         {
          "geometry": {
           "coordinates": [
            [
             [
              [
               17.9795460747526,
               59.2888317398924
              ],
              [
               17.979547074752602,
               59.2888327398924
              ],
              [
               17.9795450747526,
               59.2888327398924
              ],
              [
               17.9795460747526,
               59.2888317398924
              ]
             ]
            ]
           ],
           "type": "MultiPolygon"
          },
          "properties": {
           "style": {
            "color": "#0000cd",
            "fillColor": "#0000cd",
            "fillOpacity": 1,
            "weight": 6
           }
          },
          "type": "Feature"
         },
         {
          "geometry": {
           "coordinates": [
            [
             [
              [
               17.9850741702308,
               59.2888240305224
              ],
              [
               17.9850751702308,
               59.288825030522396
              ],
              [
               17.985073170230798,
               59.288825030522396
              ],
              [
               17.9850741702308,
               59.2888240305224
              ]
             ]
            ]
           ],
           "type": "MultiPolygon"
          },
          "properties": {
           "style": {
            "color": "#0000cd",
            "fillColor": "#0000cd",
            "fillOpacity": 1,
            "weight": 6
           }
          },
          "type": "Feature"
         },
         {
          "geometry": {
           "coordinates": [
            [
             [
              [
               17.9850742914022,
               59.288792610869
              ],
              [
               17.9850752914022,
               59.288793610869
              ],
              [
               17.9850732914022,
               59.288793610869
              ],
              [
               17.9850742914022,
               59.288792610869
              ]
             ]
            ]
           ],
           "type": "MultiPolygon"
          },
          "properties": {
           "style": {
            "color": "#0000cd",
            "fillColor": "#0000cd",
            "fillOpacity": 1,
            "weight": 6
           }
          },
          "type": "Feature"
         },
         {
          "geometry": {
           "coordinates": [
            [
             [
              [
               17.9850744125742,
               59.2887611912155
              ],
              [
               17.9850754125742,
               59.2887621912155
              ],
              [
               17.9850734125742,
               59.2887621912155
              ],
              [
               17.9850744125742,
               59.2887611912155
              ]
             ]
            ]
           ],
           "type": "MultiPolygon"
          },
          "properties": {
           "style": {
            "color": "#0000cd",
            "fillColor": "#0000cd",
            "fillOpacity": 1,
            "weight": 6
           }
          },
          "type": "Feature"
         },
         {
          "geometry": {
           "coordinates": [
            [
             [
              [
               17.9922865893711,
               59.290003097021
              ],
              [
               17.992287589371102,
               59.290004097021
              ],
              [
               17.9922855893711,
               59.290004097021
              ],
              [
               17.9922865893711,
               59.290003097021
              ]
             ]
            ]
           ],
           "type": "MultiPolygon"
          },
          "properties": {
           "style": {
            "color": "#0000cd",
            "fillColor": "#0000cd",
            "fillOpacity": 1,
            "weight": 6
           }
          },
          "type": "Feature"
         },
         {
          "geometry": {
           "coordinates": [
            [
             [
              [
               17.9923111650737,
               59.2899743025444
              ],
              [
               17.992312165073702,
               59.2899753025444
              ],
              [
               17.9923101650737,
               59.2899753025444
              ],
              [
               17.9923111650737,
               59.2899743025444
              ]
             ]
            ]
           ],
           "type": "MultiPolygon"
          },
          "properties": {
           "style": {
            "color": "#0000cd",
            "fillColor": "#0000cd",
            "fillOpacity": 1,
            "weight": 6
           }
          },
          "type": "Feature"
         },
         {
          "geometry": {
           "coordinates": [
            [
             [
              [
               17.9923357407352,
               59.2899455080633
              ],
              [
               17.9923367407352,
               59.289946508063295
              ],
              [
               17.9923347407352,
               59.289946508063295
              ],
              [
               17.9923357407352,
               59.2899455080633
              ]
             ]
            ]
           ],
           "type": "MultiPolygon"
          },
          "properties": {
           "style": {
            "color": "#0000cd",
            "fillColor": "#0000cd",
            "fillOpacity": 1,
            "weight": 6
           }
          },
          "type": "Feature"
         },
         {
          "geometry": {
           "coordinates": [
            [
             [
              [
               17.9979184725011,
               59.2920523513085
              ],
              [
               17.997919472501103,
               59.292053351308496
              ],
              [
               17.9979174725011,
               59.292053351308496
              ],
              [
               17.9979184725011,
               59.2920523513085
              ]
             ]
            ]
           ],
           "type": "MultiPolygon"
          },
          "properties": {
           "style": {
            "color": "#0000cd",
            "fillColor": "#0000cd",
            "fillOpacity": 1,
            "weight": 6
           }
          },
          "type": "Feature"
         },
         {
          "geometry": {
           "coordinates": [
            [
             [
              [
               17.9979670990734,
               59.2920331574029
              ],
              [
               17.9979680990734,
               59.292034157402895
              ],
              [
               17.9979660990734,
               59.292034157402895
              ],
              [
               17.9979670990734,
               59.2920331574029
              ]
             ]
            ]
           ],
           "type": "MultiPolygon"
          },
          "properties": {
           "style": {
            "color": "#0000cd",
            "fillColor": "#0000cd",
            "fillOpacity": 1,
            "weight": 6
           }
          },
          "type": "Feature"
         },
         {
          "geometry": {
           "coordinates": [
            [
             [
              [
               17.9980157255908,
               59.2920139634795
              ],
              [
               17.9980167255908,
               59.292014963479495
              ],
              [
               17.9980147255908,
               59.292014963479495
              ],
              [
               17.9980157255908,
               59.2920139634795
              ]
             ]
            ]
           ],
           "type": "MultiPolygon"
          },
          "properties": {
           "style": {
            "color": "#0000cd",
            "fillColor": "#0000cd",
            "fillOpacity": 1,
            "weight": 6
           }
          },
          "type": "Feature"
         },
         {
          "geometry": {
           "coordinates": [
            [
             [
              [
               18.0020588921619,
               59.2948461061738
              ],
              [
               18.002059892161903,
               59.2948471061738
              ],
              [
               18.0020578921619,
               59.2948471061738
              ],
              [
               18.0020588921619,
               59.2948461061738
              ]
             ]
            ]
           ],
           "type": "MultiPolygon"
          },
          "properties": {
           "style": {
            "color": "#0000cd",
            "fillColor": "#0000cd",
            "fillOpacity": 1,
            "weight": 6
           }
          },
          "type": "Feature"
         },
         {
          "geometry": {
           "coordinates": [
            [
             [
              [
               18.0021075595463,
               59.2948269367625
              ],
              [
               18.0021085595463,
               59.294827936762495
              ],
              [
               18.0021065595463,
               59.294827936762495
              ],
              [
               18.0021075595463,
               59.2948269367625
              ]
             ]
            ]
           ],
           "type": "MultiPolygon"
          },
          "properties": {
           "style": {
            "color": "#0000cd",
            "fillColor": "#0000cd",
            "fillOpacity": 1,
            "weight": 6
           }
          },
          "type": "Feature"
         },
         {
          "geometry": {
           "coordinates": [
            [
             [
              [
               18.0021562268757,
               59.2948077673334
              ],
              [
               18.002157226875703,
               59.2948087673334
              ],
              [
               18.0021552268757,
               59.2948087673334
              ],
              [
               18.0021562268757,
               59.2948077673334
              ]
             ]
            ]
           ],
           "type": "MultiPolygon"
          },
          "properties": {
           "style": {
            "color": "#0000cd",
            "fillColor": "#0000cd",
            "fillOpacity": 1,
            "weight": 6
           }
          },
          "type": "Feature"
         },
         {
          "geometry": {
           "coordinates": [
            [
             [
              [
               18.0045162676864,
               59.2964840170683
              ],
              [
               18.004517267686403,
               59.2964850170683
              ],
              [
               18.0045152676864,
               59.2964850170683
              ],
              [
               18.0045162676864,
               59.2964840170683
              ]
             ]
            ]
           ],
           "type": "MultiPolygon"
          },
          "properties": {
           "style": {
            "color": "#0000cd",
            "fillColor": "#0000cd",
            "fillOpacity": 1,
            "weight": 6
           }
          },
          "type": "Feature"
         },
         {
          "geometry": {
           "coordinates": [
            [
             [
              [
               18.0045653546653,
               59.2964651280904
              ],
              [
               18.0045663546653,
               59.296466128090394
              ],
              [
               18.0045643546653,
               59.296466128090394
              ],
              [
               18.0045653546653,
               59.2964651280904
              ]
             ]
            ]
           ],
           "type": "MultiPolygon"
          },
          "properties": {
           "style": {
            "color": "#0000cd",
            "fillColor": "#0000cd",
            "fillOpacity": 1,
            "weight": 6
           }
          },
          "type": "Feature"
         },
         {
          "geometry": {
           "coordinates": [
            [
             [
              [
               18.0046144415895,
               59.2964462390943
              ],
              [
               18.0046154415895,
               59.2964472390943
              ],
              [
               18.0046134415895,
               59.2964472390943
              ],
              [
               18.0046144415895,
               59.2964462390943
              ]
             ]
            ]
           ],
           "type": "MultiPolygon"
          },
          "properties": {
           "style": {
            "color": "#0000cd",
            "fillColor": "#0000cd",
            "fillOpacity": 1,
            "weight": 6
           }
          },
          "type": "Feature"
         },
         {
          "geometry": {
           "coordinates": [
            [
             [
              [
               18.0064067676065,
               59.297673080827
              ],
              [
               18.0064077676065,
               59.297674080827
              ],
              [
               18.0064057676065,
               59.297674080827
              ],
              [
               18.0064067676065,
               59.297673080827
              ]
             ]
            ]
           ],
           "type": "MultiPolygon"
          },
          "properties": {
           "style": {
            "color": "#0000cd",
            "fillColor": "#0000cd",
            "fillOpacity": 1,
            "weight": 6
           }
          },
          "type": "Feature"
         },
         {
          "geometry": {
           "coordinates": [
            [
             [
              [
               18.0064490497894,
               59.2976502885032
              ],
              [
               18.0064500497894,
               59.2976512885032
              ],
              [
               18.006448049789398,
               59.2976512885032
              ],
              [
               18.0064490497894,
               59.2976502885032
              ]
             ]
            ]
           ],
           "type": "MultiPolygon"
          },
          "properties": {
           "style": {
            "color": "#0000cd",
            "fillColor": "#0000cd",
            "fillOpacity": 1,
            "weight": 6
           }
          },
          "type": "Feature"
         },
         {
          "geometry": {
           "coordinates": [
            [
             [
              [
               18.0064913319156,
               59.297627496166
              ],
              [
               18.006492331915602,
               59.297628496166
              ],
              [
               18.0064903319156,
               59.297628496166
              ],
              [
               18.0064913319156,
               59.297627496166
              ]
             ]
            ]
           ],
           "type": "MultiPolygon"
          },
          "properties": {
           "style": {
            "color": "#0000cd",
            "fillColor": "#0000cd",
            "fillOpacity": 1,
            "weight": 6
           }
          },
          "type": "Feature"
         },
         {
          "geometry": {
           "coordinates": [
            [
             [
              [
               18.011211551569,
               59.2991290016183
              ],
              [
               18.011212551569002,
               59.299130001618295
              ],
              [
               18.011210551569,
               59.299130001618295
              ],
              [
               18.011211551569,
               59.2991290016183
              ]
             ]
            ]
           ],
           "type": "MultiPolygon"
          },
          "properties": {
           "style": {
            "color": "#0000cd",
            "fillColor": "#0000cd",
            "fillOpacity": 1,
            "weight": 6
           }
          },
          "type": "Feature"
         },
         {
          "geometry": {
           "coordinates": [
            [
             [
              [
               18.0112337205448,
               59.2990996993266
              ],
              [
               18.011234720544802,
               59.299100699326594
              ],
              [
               18.0112327205448,
               59.299100699326594
              ],
              [
               18.0112337205448,
               59.2990996993266
              ]
             ]
            ]
           ],
           "type": "MultiPolygon"
          },
          "properties": {
           "style": {
            "color": "#0000cd",
            "fillColor": "#0000cd",
            "fillOpacity": 1,
            "weight": 6
           }
          },
          "type": "Feature"
         },
         {
          "geometry": {
           "coordinates": [
            [
             [
              [
               18.0112558894831,
               59.2990703970313
              ],
              [
               18.0112568894831,
               59.2990713970313
              ],
              [
               18.011254889483098,
               59.2990713970313
              ],
              [
               18.0112558894831,
               59.2990703970313
              ]
             ]
            ]
           ],
           "type": "MultiPolygon"
          },
          "properties": {
           "style": {
            "color": "#0000cd",
            "fillColor": "#0000cd",
            "fillOpacity": 1,
            "weight": 6
           }
          },
          "type": "Feature"
         },
         {
          "geometry": {
           "coordinates": [
            [
             [
              [
               18.0142055168507,
               59.2996406563457
              ],
              [
               18.014206516850702,
               59.2996416563457
              ],
              [
               18.0142045168507,
               59.2996416563457
              ],
              [
               18.0142055168507,
               59.2996406563457
              ]
             ]
            ]
           ],
           "type": "MultiPolygon"
          },
          "properties": {
           "style": {
            "color": "#0000cd",
            "fillColor": "#0000cd",
            "fillOpacity": 1,
            "weight": 6
           }
          },
          "type": "Feature"
         },
         {
          "geometry": {
           "coordinates": [
            [
             [
              [
               18.0142231249023,
               59.2996105551526
              ],
              [
               18.014224124902302,
               59.299611555152595
              ],
              [
               18.0142221249023,
               59.299611555152595
              ],
              [
               18.0142231249023,
               59.2996105551526
              ]
             ]
            ]
           ],
           "type": "MultiPolygon"
          },
          "properties": {
           "style": {
            "color": "#0000cd",
            "fillColor": "#0000cd",
            "fillOpacity": 1,
            "weight": 6
           }
          },
          "type": "Feature"
         },
         {
          "geometry": {
           "coordinates": [
            [
             [
              [
               18.0189095912159,
               59.3004834308655
              ],
              [
               18.0189105912159,
               59.300484430865495
              ],
              [
               18.018908591215897,
               59.300484430865495
              ],
              [
               18.0189095912159,
               59.3004834308655
              ]
             ]
            ]
           ],
           "type": "MultiPolygon"
          },
          "properties": {
           "style": {
            "color": "#0000cd",
            "fillColor": "#0000cd",
            "fillOpacity": 1,
            "weight": 6
           }
          },
          "type": "Feature"
         },
         {
          "geometry": {
           "coordinates": [
            [
             [
              [
               18.0189431145449,
               59.3004571015862
              ],
              [
               18.0189441145449,
               59.300458101586194
              ],
              [
               18.0189421145449,
               59.300458101586194
              ],
              [
               18.0189431145449,
               59.3004571015862
              ]
             ]
            ]
           ],
           "type": "MultiPolygon"
          },
          "properties": {
           "style": {
            "color": "#0000cd",
            "fillColor": "#0000cd",
            "fillOpacity": 1,
            "weight": 6
           }
          },
          "type": "Feature"
         },
         {
          "geometry": {
           "coordinates": [
            [
             [
              [
               18.020900755313,
               59.3022370086458
              ],
              [
               18.020901755313,
               59.302238008645794
              ],
              [
               18.020899755313,
               59.302238008645794
              ],
              [
               18.020900755313,
               59.3022370086458
              ]
             ]
            ]
           ],
           "type": "MultiPolygon"
          },
          "properties": {
           "style": {
            "color": "#0000cd",
            "fillColor": "#0000cd",
            "fillOpacity": 1,
            "weight": 6
           }
          },
          "type": "Feature"
         },
         {
          "geometry": {
           "coordinates": [
            [
             [
              [
               18.020962088859,
               59.3022351837184
              ],
              [
               18.020963088859002,
               59.3022361837184
              ],
              [
               18.020961088859,
               59.3022361837184
              ],
              [
               18.020962088859,
               59.3022351837184
              ]
             ]
            ]
           ],
           "type": "MultiPolygon"
          },
          "properties": {
           "style": {
            "color": "#0000cd",
            "fillColor": "#0000cd",
            "fillOpacity": 1,
            "weight": 6
           }
          },
          "type": "Feature"
         },
         {
          "geometry": {
           "coordinates": [
            [
             [
              [
               18.0189930429116,
               59.304314067068
              ],
              [
               18.0189940429116,
               59.304315067067996
              ],
              [
               18.0189920429116,
               59.304315067067996
              ],
              [
               18.0189930429116,
               59.304314067068
              ]
             ]
            ]
           ],
           "type": "MultiPolygon"
          },
          "properties": {
           "style": {
            "color": "#0000cd",
            "fillColor": "#0000cd",
            "fillOpacity": 1,
            "weight": 6
           }
          },
          "type": "Feature"
         },
         {
          "geometry": {
           "coordinates": [
            [
             [
              [
               18.0190367285118,
               59.3043361604165
              ],
              [
               18.0190377285118,
               59.304337160416495
              ],
              [
               18.0190357285118,
               59.304337160416495
              ],
              [
               18.0190367285118,
               59.3043361604165
              ]
             ]
            ]
           ],
           "type": "MultiPolygon"
          },
          "properties": {
           "style": {
            "color": "#0000cd",
            "fillColor": "#0000cd",
            "fillOpacity": 1,
            "weight": 6
           }
          },
          "type": "Feature"
         },
         {
          "geometry": {
           "coordinates": [
            [
             [
              [
               18.0144854785444,
               59.3060951878408
              ],
              [
               18.014486478544402,
               59.3060961878408
              ],
              [
               18.0144844785444,
               59.3060961878408
              ],
              [
               18.0144854785444,
               59.3060951878408
              ]
             ]
            ]
           ],
           "type": "MultiPolygon"
          },
          "properties": {
           "style": {
            "color": "#0000cd",
            "fillColor": "#0000cd",
            "fillOpacity": 1,
            "weight": 6
           }
          },
          "type": "Feature"
         },
         {
          "geometry": {
           "coordinates": [
            [
             [
              [
               18.0145215127417,
               59.3061206370553
              ],
              [
               18.014522512741703,
               59.3061216370553
              ],
              [
               18.0145205127417,
               59.3061216370553
              ],
              [
               18.0145215127417,
               59.3061206370553
              ]
             ]
            ]
           ],
           "type": "MultiPolygon"
          },
          "properties": {
           "style": {
            "color": "#0000cd",
            "fillColor": "#0000cd",
            "fillOpacity": 1,
            "weight": 6
           }
          },
          "type": "Feature"
         },
         {
          "geometry": {
           "coordinates": [
            [
             [
              [
               18.0145575469932,
               59.3061460862594
              ],
              [
               18.0145585469932,
               59.3061470862594
              ],
              [
               18.014556546993198,
               59.3061470862594
              ],
              [
               18.0145575469932,
               59.3061460862594
              ]
             ]
            ]
           ],
           "type": "MultiPolygon"
          },
          "properties": {
           "style": {
            "color": "#0000cd",
            "fillColor": "#0000cd",
            "fillOpacity": 1,
            "weight": 6
           }
          },
          "type": "Feature"
         },
         {
          "geometry": {
           "coordinates": [
            [
             [
              [
               18.0145935812988,
               59.3061715354529
              ],
              [
               18.0145945812988,
               59.306172535452895
              ],
              [
               18.0145925812988,
               59.306172535452895
              ],
              [
               18.0145935812988,
               59.3061715354529
              ]
             ]
            ]
           ],
           "type": "MultiPolygon"
          },
          "properties": {
           "style": {
            "color": "#0000cd",
            "fillColor": "#0000cd",
            "fillOpacity": 1,
            "weight": 6
           }
          },
          "type": "Feature"
         },
         {
          "geometry": {
           "coordinates": [
            [
             [
              [
               18.0102795546893,
               59.3079192940342
              ],
              [
               18.010280554689302,
               59.3079202940342
              ],
              [
               18.0102785546893,
               59.3079202940342
              ],
              [
               18.0102795546893,
               59.3079192940342
              ]
             ]
            ]
           ],
           "type": "MultiPolygon"
          },
          "properties": {
           "style": {
            "color": "#0000cd",
            "fillColor": "#0000cd",
            "fillOpacity": 1,
            "weight": 6
           }
          },
          "type": "Feature"
         },
         {
          "geometry": {
           "coordinates": [
            [
             [
              [
               18.0103250390766,
               59.3079404196023
              ],
              [
               18.010326039076602,
               59.3079414196023
              ],
              [
               18.0103240390766,
               59.3079414196023
              ],
              [
               18.0103250390766,
               59.3079404196023
              ]
             ]
            ]
           ],
           "type": "MultiPolygon"
          },
          "properties": {
           "style": {
            "color": "#0000cd",
            "fillColor": "#0000cd",
            "fillOpacity": 1,
            "weight": 6
           }
          },
          "type": "Feature"
         },
         {
          "geometry": {
           "coordinates": [
            [
             [
              [
               18.0103705235202,
               59.3079615451541
              ],
              [
               18.010371523520202,
               59.3079625451541
              ],
              [
               18.0103695235202,
               59.3079625451541
              ],
              [
               18.0103705235202,
               59.3079615451541
              ]
             ]
            ]
           ],
           "type": "MultiPolygon"
          },
          "properties": {
           "style": {
            "color": "#0000cd",
            "fillColor": "#0000cd",
            "fillOpacity": 1,
            "weight": 6
           }
          },
          "type": "Feature"
         },
         {
          "geometry": {
           "coordinates": [
            [
             [
              [
               18.0104160080202,
               59.3079826706894
              ],
              [
               18.0104170080202,
               59.307983670689396
              ],
              [
               18.0104150080202,
               59.307983670689396
              ],
              [
               18.0104160080202,
               59.3079826706894
              ]
             ]
            ]
           ],
           "type": "MultiPolygon"
          },
          "properties": {
           "style": {
            "color": "#0000cd",
            "fillColor": "#0000cd",
            "fillOpacity": 1,
            "weight": 6
           }
          },
          "type": "Feature"
         },
         {
          "geometry": {
           "coordinates": [
            [
             [
              [
               18.0081958293276,
               59.3094698546781
              ],
              [
               18.008196829327602,
               59.309470854678096
              ],
              [
               18.0081948293276,
               59.309470854678096
              ],
              [
               18.0081958293276,
               59.3094698546781
              ]
             ]
            ]
           ],
           "type": "MultiPolygon"
          },
          "properties": {
           "style": {
            "color": "#0000cd",
            "fillColor": "#0000cd",
            "fillOpacity": 1,
            "weight": 6
           }
          },
          "type": "Feature"
         },
         {
          "geometry": {
           "coordinates": [
            [
             [
              [
               18.0082506249185,
               59.3094840758059
              ],
              [
               18.0082516249185,
               59.309485075805895
              ],
              [
               18.0082496249185,
               59.309485075805895
              ],
              [
               18.0082506249185,
               59.3094840758059
              ]
             ]
            ]
           ],
           "type": "MultiPolygon"
          },
          "properties": {
           "style": {
            "color": "#0000cd",
            "fillColor": "#0000cd",
            "fillOpacity": 1,
            "weight": 6
           }
          },
          "type": "Feature"
         },
         {
          "geometry": {
           "coordinates": [
            [
             [
              [
               18.0083054205546,
               59.3094982969102
              ],
              [
               18.0083064205546,
               59.3094992969102
              ],
              [
               18.008304420554598,
               59.3094992969102
              ],
              [
               18.0083054205546,
               59.3094982969102
              ]
             ]
            ]
           ],
           "type": "MultiPolygon"
          },
          "properties": {
           "style": {
            "color": "#0000cd",
            "fillColor": "#0000cd",
            "fillOpacity": 1,
            "weight": 6
           }
          },
          "type": "Feature"
         },
         {
          "geometry": {
           "coordinates": [
            [
             [
              [
               18.008360216236,
               59.3095125179911
              ],
              [
               18.008361216236,
               59.3095135179911
              ],
              [
               18.008359216236,
               59.3095135179911
              ],
              [
               18.008360216236,
               59.3095125179911
              ]
             ]
            ]
           ],
           "type": "MultiPolygon"
          },
          "properties": {
           "style": {
            "color": "#0000cd",
            "fillColor": "#0000cd",
            "fillOpacity": 1,
            "weight": 6
           }
          },
          "type": "Feature"
         },
         {
          "geometry": {
           "coordinates": [
            [
             [
              [
               18.0054078526642,
               59.3125184625141
              ],
              [
               18.0054088526642,
               59.312519462514096
              ],
              [
               18.005406852664198,
               59.312519462514096
              ],
              [
               18.0054078526642,
               59.3125184625141
              ]
             ]
            ]
           ],
           "type": "MultiPolygon"
          },
          "properties": {
           "style": {
            "color": "#0000cd",
            "fillColor": "#0000cd",
            "fillOpacity": 1,
            "weight": 6
           }
          },
          "type": "Feature"
         },
         {
          "geometry": {
           "coordinates": [
            [
             [
              [
               18.0054636822269,
               59.3125315958678
              ],
              [
               18.0054646822269,
               59.3125325958678
              ],
              [
               18.0054626822269,
               59.3125325958678
              ],
              [
               18.0054636822269,
               59.3125315958678
              ]
             ]
            ]
           ],
           "type": "MultiPolygon"
          },
          "properties": {
           "style": {
            "color": "#0000cd",
            "fillColor": "#0000cd",
            "fillOpacity": 1,
            "weight": 6
           }
          },
          "type": "Feature"
         },
         {
          "geometry": {
           "coordinates": [
            [
             [
              [
               18.005519511832,
               59.3125447291972
              ],
              [
               18.005520511832,
               59.3125457291972
              ],
              [
               18.005518511831998,
               59.3125457291972
              ],
              [
               18.005519511832,
               59.3125447291972
              ]
             ]
            ]
           ],
           "type": "MultiPolygon"
          },
          "properties": {
           "style": {
            "color": "#0000cd",
            "fillColor": "#0000cd",
            "fillOpacity": 1,
            "weight": 6
           }
          },
          "type": "Feature"
         },
         {
          "geometry": {
           "coordinates": [
            [
             [
              [
               18.0055753414796,
               59.3125578625023
              ],
              [
               18.0055763414796,
               59.3125588625023
              ],
              [
               18.005574341479598,
               59.3125588625023
              ],
              [
               18.0055753414796,
               59.3125578625023
              ]
             ]
            ]
           ],
           "type": "MultiPolygon"
          },
          "properties": {
           "style": {
            "color": "#0000cd",
            "fillColor": "#0000cd",
            "fillOpacity": 1,
            "weight": 6
           }
          },
          "type": "Feature"
         },
         {
          "geometry": {
           "coordinates": [
            [
             [
              [
               18.0016847243582,
               59.3162777968158
              ],
              [
               18.0016857243582,
               59.316278796815794
              ],
              [
               18.001683724358198,
               59.316278796815794
              ],
              [
               18.0016847243582,
               59.3162777968158
              ]
             ]
            ]
           ],
           "type": "MultiPolygon"
          },
          "properties": {
           "style": {
            "color": "#0000cd",
            "fillColor": "#0000cd",
            "fillOpacity": 1,
            "weight": 6
           }
          },
          "type": "Feature"
         },
         {
          "geometry": {
           "coordinates": [
            [
             [
              [
               18.0017356998156,
               59.3162953508968
              ],
              [
               18.001736699815602,
               59.3162963508968
              ],
              [
               18.0017346998156,
               59.3162963508968
              ],
              [
               18.0017356998156,
               59.3162953508968
              ]
             ]
            ]
           ],
           "type": "MultiPolygon"
          },
          "properties": {
           "style": {
            "color": "#0000cd",
            "fillColor": "#0000cd",
            "fillOpacity": 1,
            "weight": 6
           }
          },
          "type": "Feature"
         },
         {
          "geometry": {
           "coordinates": [
            [
             [
              [
               18.0017866753252,
               59.3163129049574
              ],
              [
               18.0017876753252,
               59.3163139049574
              ],
              [
               18.0017856753252,
               59.3163139049574
              ],
              [
               18.0017866753252,
               59.3163129049574
              ]
             ]
            ]
           ],
           "type": "MultiPolygon"
          },
          "properties": {
           "style": {
            "color": "#0000cd",
            "fillColor": "#0000cd",
            "fillOpacity": 1,
            "weight": 6
           }
          },
          "type": "Feature"
         },
         {
          "geometry": {
           "coordinates": [
            [
             [
              [
               18.0018376508871,
               59.3163304589976
              ],
              [
               18.001838650887102,
               59.316331458997595
              ],
              [
               18.0018366508871,
               59.316331458997595
              ],
              [
               18.0018376508871,
               59.3163304589976
              ]
             ]
            ]
           ],
           "type": "MultiPolygon"
          },
          "properties": {
           "style": {
            "color": "#0000cd",
            "fillColor": "#0000cd",
            "fillOpacity": 1,
            "weight": 6
           }
          },
          "type": "Feature"
         },
         {
          "geometry": {
           "coordinates": [
            [
             [
              [
               17.998066561523,
               59.3189808751875
              ],
              [
               17.998067561523,
               59.3189818751875
              ],
              [
               17.998065561523,
               59.3189818751875
              ],
              [
               17.998066561523,
               59.3189808751875
              ]
             ]
            ]
           ],
           "type": "MultiPolygon"
          },
          "properties": {
           "style": {
            "color": "#0000cd",
            "fillColor": "#0000cd",
            "fillOpacity": 1,
            "weight": 6
           }
          },
          "type": "Feature"
         },
         {
          "geometry": {
           "coordinates": [
            [
             [
              [
               17.9981172917388,
               59.3189986170029
              ],
              [
               17.998118291738802,
               59.318999617002895
              ],
              [
               17.9981162917388,
               59.318999617002895
              ],
              [
               17.9981172917388,
               59.3189986170029
              ]
             ]
            ]
           ],
           "type": "MultiPolygon"
          },
          "properties": {
           "style": {
            "color": "#0000cd",
            "fillColor": "#0000cd",
            "fillOpacity": 1,
            "weight": 6
           }
          },
          "type": "Feature"
         },
         {
          "geometry": {
           "coordinates": [
            [
             [
              [
               17.9981680220072,
               59.319016358798
              ],
              [
               17.9981690220072,
               59.319017358798
              ],
              [
               17.9981670220072,
               59.319017358798
              ],
              [
               17.9981680220072,
               59.319016358798
              ]
             ]
            ]
           ],
           "type": "MultiPolygon"
          },
          "properties": {
           "style": {
            "color": "#0000cd",
            "fillColor": "#0000cd",
            "fillOpacity": 1,
            "weight": 6
           }
          },
          "type": "Feature"
         },
         {
          "geometry": {
           "coordinates": [
            [
             [
              [
               17.9982187523281,
               59.319034100573
              ],
              [
               17.9982197523281,
               59.319035100573
              ],
              [
               17.9982177523281,
               59.319035100573
              ],
              [
               17.9982187523281,
               59.319034100573
              ]
             ]
            ]
           ],
           "type": "MultiPolygon"
          },
          "properties": {
           "style": {
            "color": "#0000cd",
            "fillColor": "#0000cd",
            "fillOpacity": 1,
            "weight": 6
           }
          },
          "type": "Feature"
         },
         {
          "geometry": {
           "coordinates": [
            [
             [
              [
               17.9967731138652,
               59.3212488217615
              ],
              [
               17.9967741138652,
               59.3212498217615
              ],
              [
               17.996772113865198,
               59.3212498217615
              ],
              [
               17.9967731138652,
               59.3212488217615
              ]
             ]
            ]
           ],
           "type": "MultiPolygon"
          },
          "properties": {
           "style": {
            "color": "#0000cd",
            "fillColor": "#0000cd",
            "fillOpacity": 1,
            "weight": 6
           }
          },
          "type": "Feature"
         },
         {
          "geometry": {
           "coordinates": [
            [
             [
              [
               17.996834294481,
               59.3212457664768
              ],
              [
               17.996835294481002,
               59.3212467664768
              ],
              [
               17.996833294481,
               59.3212467664768
              ],
              [
               17.996834294481,
               59.3212457664768
              ]
             ]
            ]
           ],
           "type": "MultiPolygon"
          },
          "properties": {
           "style": {
            "color": "#0000cd",
            "fillColor": "#0000cd",
            "fillOpacity": 1,
            "weight": 6
           }
          },
          "type": "Feature"
         },
         {
          "geometry": {
           "coordinates": [
            [
             [
              [
               17.9968954750849,
               59.3212427111636
              ],
              [
               17.996896475084903,
               59.321243711163596
              ],
              [
               17.9968944750849,
               59.321243711163596
              ],
              [
               17.9968954750849,
               59.3212427111636
              ]
             ]
            ]
           ],
           "type": "MultiPolygon"
          },
          "properties": {
           "style": {
            "color": "#0000cd",
            "fillColor": "#0000cd",
            "fillOpacity": 1,
            "weight": 6
           }
          },
          "type": "Feature"
         },
         {
          "geometry": {
           "coordinates": [
            [
             [
              [
               17.996956655677,
               59.3212396558217
              ],
              [
               17.996957655677,
               59.3212406558217
              ],
              [
               17.996955655677,
               59.3212406558217
              ],
              [
               17.996956655677,
               59.3212396558217
              ]
             ]
            ]
           ],
           "type": "MultiPolygon"
          },
          "properties": {
           "style": {
            "color": "#0000cd",
            "fillColor": "#0000cd",
            "fillOpacity": 1,
            "weight": 6
           }
          },
          "type": "Feature"
         },
         {
          "geometry": {
           "coordinates": [
            [
             [
              [
               18.0004959717498,
               59.3242677465491
              ],
              [
               18.0004969717498,
               59.324268746549095
              ],
              [
               18.0004949717498,
               59.324268746549095
              ],
              [
               18.0004959717498,
               59.3242677465491
              ]
             ]
            ]
           ],
           "type": "MultiPolygon"
          },
          "properties": {
           "style": {
            "color": "#0000cd",
            "fillColor": "#0000cd",
            "fillOpacity": 1,
            "weight": 6
           }
          },
          "type": "Feature"
         },
         {
          "geometry": {
           "coordinates": [
            [
             [
              [
               18.0005399787086,
               59.3242458069585
              ],
              [
               18.0005409787086,
               59.3242468069585
              ],
              [
               18.000538978708597,
               59.3242468069585
              ],
              [
               18.0005399787086,
               59.3242458069585
              ]
             ]
            ]
           ],
           "type": "MultiPolygon"
          },
          "properties": {
           "style": {
            "color": "#0000cd",
            "fillColor": "#0000cd",
            "fillOpacity": 1,
            "weight": 6
           }
          },
          "type": "Feature"
         },
         {
          "geometry": {
           "coordinates": [
            [
             [
              [
               18.0005839856107,
               59.3242238673535
              ],
              [
               18.0005849856107,
               59.3242248673535
              ],
              [
               18.0005829856107,
               59.3242248673535
              ],
              [
               18.0005839856107,
               59.3242238673535
              ]
             ]
            ]
           ],
           "type": "MultiPolygon"
          },
          "properties": {
           "style": {
            "color": "#0000cd",
            "fillColor": "#0000cd",
            "fillOpacity": 1,
            "weight": 6
           }
          },
          "type": "Feature"
         },
         {
          "geometry": {
           "coordinates": [
            [
             [
              [
               18.000627992456,
               59.3242019277339
              ],
              [
               18.000628992456,
               59.3242029277339
              ],
              [
               18.000626992456,
               59.3242029277339
              ],
              [
               18.000627992456,
               59.3242019277339
              ]
             ]
            ]
           ],
           "type": "MultiPolygon"
          },
          "properties": {
           "style": {
            "color": "#0000cd",
            "fillColor": "#0000cd",
            "fillOpacity": 1,
            "weight": 6
           }
          },
          "type": "Feature"
         },
         {
          "geometry": {
           "coordinates": [
            [
             [
              [
               18.0061955210532,
               59.32632331377
              ],
              [
               18.0061965210532,
               59.326324313769994
              ],
              [
               18.0061945210532,
               59.326324313769994
              ],
              [
               18.0061955210532,
               59.32632331377
              ]
             ]
            ]
           ],
           "type": "MultiPolygon"
          },
          "properties": {
           "style": {
            "color": "#0000cd",
            "fillColor": "#0000cd",
            "fillOpacity": 1,
            "weight": 6
           }
          },
          "type": "Feature"
         },
         {
          "geometry": {
           "coordinates": [
            [
             [
              [
               18.0062296219418,
               59.326297170361
              ],
              [
               18.0062306219418,
               59.326298170361
              ],
              [
               18.006228621941798,
               59.326298170361
              ],
              [
               18.0062296219418,
               59.326297170361
              ]
             ]
            ]
           ],
           "type": "MultiPolygon"
          },
          "properties": {
           "style": {
            "color": "#0000cd",
            "fillColor": "#0000cd",
            "fillOpacity": 1,
            "weight": 6
           }
          },
          "type": "Feature"
         },
         {
          "geometry": {
           "coordinates": [
            [
             [
              [
               18.0062637227783,
               59.3262710269433
              ],
              [
               18.0062647227783,
               59.3262720269433
              ],
              [
               18.0062627227783,
               59.3262720269433
              ],
              [
               18.0062637227783,
               59.3262710269433
              ]
             ]
            ]
           ],
           "type": "MultiPolygon"
          },
          "properties": {
           "style": {
            "color": "#0000cd",
            "fillColor": "#0000cd",
            "fillOpacity": 1,
            "weight": 6
           }
          },
          "type": "Feature"
         },
         {
          "geometry": {
           "coordinates": [
            [
             [
              [
               18.0062978235627,
               59.3262448835171
              ],
              [
               18.0062988235627,
               59.326245883517096
              ],
              [
               18.0062968235627,
               59.326245883517096
              ],
              [
               18.0062978235627,
               59.3262448835171
              ]
             ]
            ]
           ],
           "type": "MultiPolygon"
          },
          "properties": {
           "style": {
            "color": "#0000cd",
            "fillColor": "#0000cd",
            "fillOpacity": 1,
            "weight": 6
           }
          },
          "type": "Feature"
         },
         {
          "geometry": {
           "coordinates": [
            [
             [
              [
               18.0080151298459,
               59.3273265987358
              ],
              [
               18.008016129845902,
               59.3273275987358
              ],
              [
               18.0080141298459,
               59.3273275987358
              ],
              [
               18.0080151298459,
               59.3273265987358
              ]
             ]
            ]
           ],
           "type": "MultiPolygon"
          },
          "properties": {
           "style": {
            "color": "#0000cd",
            "fillColor": "#0000cd",
            "fillOpacity": 1,
            "weight": 6
           }
          },
          "type": "Feature"
         },
         {
          "geometry": {
           "coordinates": [
            [
             [
              [
               18.0080681681472,
               59.3273107069517
              ],
              [
               18.008069168147202,
               59.3273117069517
              ],
              [
               18.0080671681472,
               59.3273117069517
              ],
              [
               18.0080681681472,
               59.3273107069517
              ]
             ]
            ]
           ],
           "type": "MultiPolygon"
          },
          "properties": {
           "style": {
            "color": "#0000cd",
            "fillColor": "#0000cd",
            "fillOpacity": 1,
            "weight": 6
           }
          },
          "type": "Feature"
         },
         {
          "geometry": {
           "coordinates": [
            [
             [
              [
               18.0081212063986,
               59.3272948151463
              ],
              [
               18.0081222063986,
               59.3272958151463
              ],
              [
               18.008120206398598,
               59.3272958151463
              ],
              [
               18.0081212063986,
               59.3272948151463
              ]
             ]
            ]
           ],
           "type": "MultiPolygon"
          },
          "properties": {
           "style": {
            "color": "#0000cd",
            "fillColor": "#0000cd",
            "fillOpacity": 1,
            "weight": 6
           }
          },
          "type": "Feature"
         },
         {
          "geometry": {
           "coordinates": [
            [
             [
              [
               18.0081742446,
               59.3272789233197
              ],
              [
               18.0081752446,
               59.3272799233197
              ],
              [
               18.0081732446,
               59.3272799233197
              ],
              [
               18.0081742446,
               59.3272789233197
              ]
             ]
            ]
           ],
           "type": "MultiPolygon"
          },
          "properties": {
           "style": {
            "color": "#0000cd",
            "fillColor": "#0000cd",
            "fillOpacity": 1,
            "weight": 6
           }
          },
          "type": "Feature"
         },
         {
          "geometry": {
           "coordinates": [
            [
             [
              [
               18.0089598850726,
               59.3285323176602
              ],
              [
               18.0089608850726,
               59.328533317660195
              ],
              [
               18.008958885072598,
               59.328533317660195
              ],
              [
               18.0089598850726,
               59.3285323176602
              ]
             ]
            ]
           ],
           "type": "MultiPolygon"
          },
          "properties": {
           "style": {
            "color": "#0000cd",
            "fillColor": "#0000cd",
            "fillOpacity": 1,
            "weight": 6
           }
          },
          "type": "Feature"
         },
         {
          "geometry": {
           "coordinates": [
            [
             [
              [
               18.0090180325934,
               59.3285221069147
              ],
              [
               18.0090190325934,
               59.328523106914695
              ],
              [
               18.0090170325934,
               59.328523106914695
              ],
              [
               18.0090180325934,
               59.3285221069147
              ]
             ]
            ]
           ],
           "type": "MultiPolygon"
          },
          "properties": {
           "style": {
            "color": "#0000cd",
            "fillColor": "#0000cd",
            "fillOpacity": 1,
            "weight": 6
           }
          },
          "type": "Feature"
         },
         {
          "geometry": {
           "coordinates": [
            [
             [
              [
               18.0090761800786,
               59.3285118961436
              ],
              [
               18.009077180078602,
               59.3285128961436
              ],
              [
               18.0090751800786,
               59.3285128961436
              ],
              [
               18.0090761800786,
               59.3285118961436
              ]
             ]
            ]
           ],
           "type": "MultiPolygon"
          },
          "properties": {
           "style": {
            "color": "#0000cd",
            "fillColor": "#0000cd",
            "fillOpacity": 1,
            "weight": 6
           }
          },
          "type": "Feature"
         },
         {
          "geometry": {
           "coordinates": [
            [
             [
              [
               18.0091343275281,
               59.3285016853468
              ],
              [
               18.0091353275281,
               59.3285026853468
              ],
              [
               18.009133327528097,
               59.3285026853468
              ],
              [
               18.0091343275281,
               59.3285016853468
              ]
             ]
            ]
           ],
           "type": "MultiPolygon"
          },
          "properties": {
           "style": {
            "color": "#0000cd",
            "fillColor": "#0000cd",
            "fillOpacity": 1,
            "weight": 6
           }
          },
          "type": "Feature"
         },
         {
          "geometry": {
           "coordinates": [
            [
             [
              [
               18.009892045745,
               59.3300132033858
              ],
              [
               18.009893045745002,
               59.3300142033858
              ],
              [
               18.009891045745,
               59.3300142033858
              ],
              [
               18.009892045745,
               59.3300132033858
              ]
             ]
            ]
           ],
           "type": "MultiPolygon"
          },
          "properties": {
           "style": {
            "color": "#0000cd",
            "fillColor": "#0000cd",
            "fillOpacity": 1,
            "weight": 6
           }
          },
          "type": "Feature"
         },
         {
          "geometry": {
           "coordinates": [
            [
             [
              [
               18.0099515829534,
               59.3300053527223
              ],
              [
               18.0099525829534,
               59.3300063527223
              ],
              [
               18.009950582953397,
               59.3300063527223
              ],
              [
               18.0099515829534,
               59.3300053527223
              ]
             ]
            ]
           ],
           "type": "MultiPolygon"
          },
          "properties": {
           "style": {
            "color": "#0000cd",
            "fillColor": "#0000cd",
            "fillOpacity": 1,
            "weight": 6
           }
          },
          "type": "Feature"
         },
         {
          "geometry": {
           "coordinates": [
            [
             [
              [
               18.0100111201335,
               59.3299975020319
              ],
              [
               18.0100121201335,
               59.3299985020319
              ],
              [
               18.010010120133497,
               59.3299985020319
              ],
              [
               18.0100111201335,
               59.3299975020319
              ]
             ]
            ]
           ],
           "type": "MultiPolygon"
          },
          "properties": {
           "style": {
            "color": "#0000cd",
            "fillColor": "#0000cd",
            "fillOpacity": 1,
            "weight": 6
           }
          },
          "type": "Feature"
         },
         {
          "geometry": {
           "coordinates": [
            [
             [
              [
               18.0100706572853,
               59.3299896513145
              ],
              [
               18.0100716572853,
               59.329990651314496
              ],
              [
               18.0100696572853,
               59.329990651314496
              ],
              [
               18.0100706572853,
               59.3299896513145
              ]
             ]
            ]
           ],
           "type": "MultiPolygon"
          },
          "properties": {
           "style": {
            "color": "#0000cd",
            "fillColor": "#0000cd",
            "fillOpacity": 1,
            "weight": 6
           }
          },
          "type": "Feature"
         },
         {
          "geometry": {
           "coordinates": [
            [
             [
              [
               18.0101952277139,
               59.3313015888271
              ],
              [
               18.0101962277139,
               59.3313025888271
              ],
              [
               18.0101942277139,
               59.3313025888271
              ],
              [
               18.0101952277139,
               59.3313015888271
              ]
             ]
            ]
           ],
           "type": "MultiPolygon"
          },
          "properties": {
           "style": {
            "color": "#0000cd",
            "fillColor": "#0000cd",
            "fillOpacity": 1,
            "weight": 6
           }
          },
          "type": "Feature"
         },
         {
          "geometry": {
           "coordinates": [
            [
             [
              [
               18.0102567128553,
               59.3313019804471
              ],
              [
               18.0102577128553,
               59.3313029804471
              ],
              [
               18.010255712855297,
               59.3313029804471
              ],
              [
               18.0102567128553,
               59.3313019804471
              ]
             ]
            ]
           ],
           "type": "MultiPolygon"
          },
          "properties": {
           "style": {
            "color": "#0000cd",
            "fillColor": "#0000cd",
            "fillOpacity": 1,
            "weight": 6
           }
          },
          "type": "Feature"
         },
         {
          "geometry": {
           "coordinates": [
            [
             [
              [
               18.0103181979972,
               59.3313023720379
              ],
              [
               18.0103191979972,
               59.331303372037894
              ],
              [
               18.0103171979972,
               59.331303372037894
              ],
              [
               18.0103181979972,
               59.3313023720379
              ]
             ]
            ]
           ],
           "type": "MultiPolygon"
          },
          "properties": {
           "style": {
            "color": "#0000cd",
            "fillColor": "#0000cd",
            "fillOpacity": 1,
            "weight": 6
           }
          },
          "type": "Feature"
         },
         {
          "geometry": {
           "coordinates": [
            [
             [
              [
               18.0103796831396,
               59.3313027635998
              ],
              [
               18.0103806831396,
               59.3313037635998
              ],
              [
               18.0103786831396,
               59.3313037635998
              ],
              [
               18.0103796831396,
               59.3313027635998
              ]
             ]
            ]
           ],
           "type": "MultiPolygon"
          },
          "properties": {
           "style": {
            "color": "#0000cd",
            "fillColor": "#0000cd",
            "fillOpacity": 1,
            "weight": 6
           }
          },
          "type": "Feature"
         },
         {
          "geometry": {
           "coordinates": [
            [
             [
              [
               18.0099020852442,
               59.3334049404099
              ],
              [
               18.0099030852442,
               59.3334059404099
              ],
              [
               18.0099010852442,
               59.3334059404099
              ],
              [
               18.0099020852442,
               59.3334049404099
              ]
             ]
            ]
           ],
           "type": "MultiPolygon"
          },
          "properties": {
           "style": {
            "color": "#0000cd",
            "fillColor": "#0000cd",
            "fillOpacity": 1,
            "weight": 6
           }
          },
          "type": "Feature"
         },
         {
          "geometry": {
           "coordinates": [
            [
             [
              [
               18.0099635721692,
               59.3334054076583
              ],
              [
               18.009964572169203,
               59.333406407658295
              ],
              [
               18.0099625721692,
               59.333406407658295
              ],
              [
               18.0099635721692,
               59.3334054076583
              ]
             ]
            ]
           ],
           "type": "MultiPolygon"
          },
          "properties": {
           "style": {
            "color": "#0000cd",
            "fillColor": "#0000cd",
            "fillOpacity": 1,
            "weight": 6
           }
          },
          "type": "Feature"
         },
         {
          "geometry": {
           "coordinates": [
            [
             [
              [
               18.010025059095,
               59.3334058748776
              ],
              [
               18.010026059095,
               59.333406874877596
              ],
              [
               18.010024059095,
               59.333406874877596
              ],
              [
               18.010025059095,
               59.3334058748776
              ]
             ]
            ]
           ],
           "type": "MultiPolygon"
          },
          "properties": {
           "style": {
            "color": "#0000cd",
            "fillColor": "#0000cd",
            "fillOpacity": 1,
            "weight": 6
           }
          },
          "type": "Feature"
         },
         {
          "geometry": {
           "coordinates": [
            [
             [
              [
               18.0105156250715,
               59.3358903189257
              ],
              [
               18.0105166250715,
               59.3358913189257
              ],
              [
               18.010514625071497,
               59.3358913189257
              ],
              [
               18.0105156250715,
               59.3358903189257
              ]
             ]
            ]
           ],
           "type": "MultiPolygon"
          },
          "properties": {
           "style": {
            "color": "#0000cd",
            "fillColor": "#0000cd",
            "fillOpacity": 1,
            "weight": 6
           }
          },
          "type": "Feature"
         },
         {
          "geometry": {
           "coordinates": [
            [
             [
              [
               18.0105754203941,
               59.3358829764013
              ],
              [
               18.010576420394102,
               59.3358839764013
              ],
              [
               18.0105744203941,
               59.3358839764013
              ],
              [
               18.0105754203941,
               59.3358829764013
              ]
             ]
            ]
           ],
           "type": "MultiPolygon"
          },
          "properties": {
           "style": {
            "color": "#0000cd",
            "fillColor": "#0000cd",
            "fillOpacity": 1,
            "weight": 6
           }
          },
          "type": "Feature"
         },
         {
          "geometry": {
           "coordinates": [
            [
             [
              [
               18.01063521569,
               59.3358756338497
              ],
              [
               18.010636215690003,
               59.3358766338497
              ],
              [
               18.01063421569,
               59.3358766338497
              ],
              [
               18.01063521569,
               59.3358756338497
              ]
             ]
            ]
           ],
           "type": "MultiPolygon"
          },
          "properties": {
           "style": {
            "color": "#0000cd",
            "fillColor": "#0000cd",
            "fillOpacity": 1,
            "weight": 6
           }
          },
          "type": "Feature"
         },
         {
          "geometry": {
           "coordinates": [
            [
             [
              [
               18.0113201822266,
               59.3395120392431
              ],
              [
               18.011321182226602,
               59.339513039243094
              ],
              [
               18.0113191822266,
               59.339513039243094
              ],
              [
               18.0113201822266,
               59.3395120392431
              ]
             ]
            ]
           ],
           "type": "MultiPolygon"
          },
          "properties": {
           "style": {
            "color": "#0000cd",
            "fillColor": "#0000cd",
            "fillOpacity": 1,
            "weight": 6
           }
          },
          "type": "Feature"
         },
         {
          "geometry": {
           "coordinates": [
            [
             [
              [
               18.0113815771019,
               59.3395101620608
              ],
              [
               18.0113825771019,
               59.339511162060795
              ],
              [
               18.0113805771019,
               59.339511162060795
              ],
              [
               18.0113815771019,
               59.3395101620608
              ]
             ]
            ]
           ],
           "type": "MultiPolygon"
          },
          "properties": {
           "style": {
            "color": "#0000cd",
            "fillColor": "#0000cd",
            "fillOpacity": 1,
            "weight": 6
           }
          },
          "type": "Feature"
         },
         {
          "geometry": {
           "coordinates": [
            [
             [
              [
               18.0114429719695,
               59.3395082848497
              ],
              [
               18.011443971969502,
               59.3395092848497
              ],
              [
               18.0114419719695,
               59.3395092848497
              ],
              [
               18.0114429719695,
               59.3395082848497
              ]
             ]
            ]
           ],
           "type": "MultiPolygon"
          },
          "properties": {
           "style": {
            "color": "#0000cd",
            "fillColor": "#0000cd",
            "fillOpacity": 1,
            "weight": 6
           }
          },
          "type": "Feature"
         },
         {
          "geometry": {
           "coordinates": [
            [
             [
              [
               18.0115043668294,
               59.3395064076096
              ],
              [
               18.0115053668294,
               59.339507407609595
              ],
              [
               18.0115033668294,
               59.339507407609595
              ],
              [
               18.0115043668294,
               59.3395064076096
              ]
             ]
            ]
           ],
           "type": "MultiPolygon"
          },
          "properties": {
           "style": {
            "color": "#0000cd",
            "fillColor": "#0000cd",
            "fillOpacity": 1,
            "weight": 6
           }
          },
          "type": "Feature"
         },
         {
          "geometry": {
           "coordinates": [
            [
             [
              [
               18.0107669423505,
               59.3413138382278
              ],
              [
               18.0107679423505,
               59.341314838227795
              ],
              [
               18.0107659423505,
               59.341314838227795
              ],
              [
               18.0107669423505,
               59.3413138382278
              ]
             ]
            ]
           ],
           "type": "MultiPolygon"
          },
          "properties": {
           "style": {
            "color": "#0000cd",
            "fillColor": "#0000cd",
            "fillOpacity": 1,
            "weight": 6
           }
          },
          "type": "Feature"
         },
         {
          "geometry": {
           "coordinates": [
            [
             [
              [
               18.0108239871074,
               59.3413255884803
              ],
              [
               18.0108249871074,
               59.3413265884803
              ],
              [
               18.0108229871074,
               59.3413265884803
              ],
              [
               18.0108239871074,
               59.3413255884803
              ]
             ]
            ]
           ],
           "type": "MultiPolygon"
          },
          "properties": {
           "style": {
            "color": "#0000cd",
            "fillColor": "#0000cd",
            "fillOpacity": 1,
            "weight": 6
           }
          },
          "type": "Feature"
         },
         {
          "geometry": {
           "coordinates": [
            [
             [
              [
               18.0108810319031,
               59.3413373387075
              ],
              [
               18.0108820319031,
               59.341338338707494
              ],
              [
               18.0108800319031,
               59.341338338707494
              ],
              [
               18.0108810319031,
               59.3413373387075
              ]
             ]
            ]
           ],
           "type": "MultiPolygon"
          },
          "properties": {
           "style": {
            "color": "#0000cd",
            "fillColor": "#0000cd",
            "fillOpacity": 1,
            "weight": 6
           }
          },
          "type": "Feature"
         },
         {
          "geometry": {
           "coordinates": [
            [
             [
              [
               18.0109380767375,
               59.3413490889094
              ],
              [
               18.0109390767375,
               59.3413500889094
              ],
              [
               18.0109370767375,
               59.3413500889094
              ],
              [
               18.0109380767375,
               59.3413490889094
              ]
             ]
            ]
           ],
           "type": "MultiPolygon"
          },
          "properties": {
           "style": {
            "color": "#0000cd",
            "fillColor": "#0000cd",
            "fillOpacity": 1,
            "weight": 6
           }
          },
          "type": "Feature"
         },
         {
          "geometry": {
           "coordinates": [
            [
             [
              [
               18.0096616926129,
               59.34328478405
              ],
              [
               18.009662692612903,
               59.343285784049996
              ],
              [
               18.0096606926129,
               59.343285784049996
              ],
              [
               18.0096616926129,
               59.34328478405
              ]
             ]
            ]
           ],
           "type": "MultiPolygon"
          },
          "properties": {
           "style": {
            "color": "#0000cd",
            "fillColor": "#0000cd",
            "fillOpacity": 1,
            "weight": 6
           }
          },
          "type": "Feature"
         },
         {
          "geometry": {
           "coordinates": [
            [
             [
              [
               18.0097231834449,
               59.3432856004181
              ],
              [
               18.009724183444902,
               59.3432866004181
              ],
              [
               18.0097221834449,
               59.3432866004181
              ],
              [
               18.0097231834449,
               59.3432856004181
              ]
             ]
            ]
           ],
           "type": "MultiPolygon"
          },
          "properties": {
           "style": {
            "color": "#0000cd",
            "fillColor": "#0000cd",
            "fillOpacity": 1,
            "weight": 6
           }
          },
          "type": "Feature"
         },
         {
          "geometry": {
           "coordinates": [
            [
             [
              [
               18.009784674279,
               59.3432864167572
              ],
              [
               18.009785674279,
               59.3432874167572
              ],
              [
               18.009783674279,
               59.3432874167572
              ],
              [
               18.009784674279,
               59.3432864167572
              ]
             ]
            ]
           ],
           "type": "MultiPolygon"
          },
          "properties": {
           "style": {
            "color": "#0000cd",
            "fillColor": "#0000cd",
            "fillOpacity": 1,
            "weight": 6
           }
          },
          "type": "Feature"
         },
         {
          "geometry": {
           "coordinates": [
            [
             [
              [
               18.0098461651151,
               59.3432872330672
              ],
              [
               18.0098471651151,
               59.3432882330672
              ],
              [
               18.0098451651151,
               59.3432882330672
              ],
              [
               18.0098461651151,
               59.3432872330672
              ]
             ]
            ]
           ],
           "type": "MultiPolygon"
          },
          "properties": {
           "style": {
            "color": "#0000cd",
            "fillColor": "#0000cd",
            "fillOpacity": 1,
            "weight": 6
           }
          },
          "type": "Feature"
         },
         {
          "geometry": {
           "coordinates": [
            [
             [
              [
               18.0105543857786,
               59.3445790785996
              ],
              [
               18.010555385778602,
               59.3445800785996
              ],
              [
               18.0105533857786,
               59.3445800785996
              ],
              [
               18.0105543857786,
               59.3445790785996
              ]
             ]
            ]
           ],
           "type": "MultiPolygon"
          },
          "properties": {
           "style": {
            "color": "#0000cd",
            "fillColor": "#0000cd",
            "fillOpacity": 1,
            "weight": 6
           }
          },
          "type": "Feature"
         },
         {
          "geometry": {
           "coordinates": [
            [
             [
              [
               18.0106025842024,
               59.3445595563766
              ],
              [
               18.0106035842024,
               59.3445605563766
              ],
              [
               18.010601584202398,
               59.3445605563766
              ],
              [
               18.0106025842024,
               59.3445595563766
              ]
             ]
            ]
           ],
           "type": "MultiPolygon"
          },
          "properties": {
           "style": {
            "color": "#0000cd",
            "fillColor": "#0000cd",
            "fillOpacity": 1,
            "weight": 6
           }
          },
          "type": "Feature"
         },
         {
          "geometry": {
           "coordinates": [
            [
             [
              [
               18.0106507825708,
               59.3445400341361
              ],
              [
               18.0106517825708,
               59.3445410341361
              ],
              [
               18.0106497825708,
               59.3445410341361
              ],
              [
               18.0106507825708,
               59.3445400341361
              ]
             ]
            ]
           ],
           "type": "MultiPolygon"
          },
          "properties": {
           "style": {
            "color": "#0000cd",
            "fillColor": "#0000cd",
            "fillOpacity": 1,
            "weight": 6
           }
          },
          "type": "Feature"
         },
         {
          "geometry": {
           "coordinates": [
            [
             [
              [
               18.0128163874108,
               59.3452970772085
              ],
              [
               18.012817387410802,
               59.3452980772085
              ],
              [
               18.0128153874108,
               59.3452980772085
              ],
              [
               18.0128163874108,
               59.3452970772085
              ]
             ]
            ]
           ],
           "type": "MultiPolygon"
          },
          "properties": {
           "style": {
            "color": "#0000cd",
            "fillColor": "#0000cd",
            "fillOpacity": 1,
            "weight": 6
           }
          },
          "type": "Feature"
         },
         {
          "geometry": {
           "coordinates": [
            [
             [
              [
               18.0128283183333,
               59.3452662545516
              ],
              [
               18.0128293183333,
               59.3452672545516
              ],
              [
               18.012827318333297,
               59.3452672545516
              ],
              [
               18.0128283183333,
               59.3452662545516
              ]
             ]
            ]
           ],
           "type": "MultiPolygon"
          },
          "properties": {
           "style": {
            "color": "#0000cd",
            "fillColor": "#0000cd",
            "fillOpacity": 1,
            "weight": 6
           }
          },
          "type": "Feature"
         },
         {
          "geometry": {
           "coordinates": [
            [
             [
              [
               18.0128402492351,
               59.3452354318936
              ],
              [
               18.0128412492351,
               59.345236431893596
              ],
              [
               18.0128392492351,
               59.345236431893596
              ],
              [
               18.0128402492351,
               59.3452354318936
              ]
             ]
            ]
           ],
           "type": "MultiPolygon"
          },
          "properties": {
           "style": {
            "color": "#0000cd",
            "fillColor": "#0000cd",
            "fillOpacity": 1,
            "weight": 6
           }
          },
          "type": "Feature"
         },
         {
          "geometry": {
           "coordinates": [
            [
             [
              [
               18.0147244932843,
               59.3452373206249
              ],
              [
               18.014725493284303,
               59.3452383206249
              ],
              [
               18.0147234932843,
               59.3452383206249
              ],
              [
               18.0147244932843,
               59.3452373206249
              ]
             ]
            ]
           ],
           "type": "MultiPolygon"
          },
          "properties": {
           "style": {
            "color": "#0000cd",
            "fillColor": "#0000cd",
            "fillOpacity": 1,
            "weight": 6
           }
          },
          "type": "Feature"
         },
         {
          "geometry": {
           "coordinates": [
            [
             [
              [
               18.014704413462,
               59.345207622379
              ],
              [
               18.014705413462,
               59.345208622379
              ],
              [
               18.014703413461998,
               59.345208622379
              ],
              [
               18.014704413462,
               59.345207622379
              ]
             ]
            ]
           ],
           "type": "MultiPolygon"
          },
          "properties": {
           "style": {
            "color": "#0000cd",
            "fillColor": "#0000cd",
            "fillOpacity": 1,
            "weight": 6
           }
          },
          "type": "Feature"
         },
         {
          "geometry": {
           "coordinates": [
            [
             [
              [
               18.0146843336755,
               59.3451779241296
              ],
              [
               18.0146853336755,
               59.3451789241296
              ],
              [
               18.0146833336755,
               59.3451789241296
              ],
              [
               18.0146843336755,
               59.3451779241296
              ]
             ]
            ]
           ],
           "type": "MultiPolygon"
          },
          "properties": {
           "style": {
            "color": "#0000cd",
            "fillColor": "#0000cd",
            "fillOpacity": 1,
            "weight": 6
           }
          },
          "type": "Feature"
         },
         {
          "geometry": {
           "coordinates": [
            [
             [
              [
               18.0368661459733,
               59.3490603477494
              ],
              [
               18.0368671459733,
               59.3490613477494
              ],
              [
               18.036865145973298,
               59.3490613477494
              ],
              [
               18.0368661459733,
               59.3490603477494
              ]
             ]
            ]
           ],
           "type": "MultiPolygon"
          },
          "properties": {
           "style": {
            "color": "#0000cd",
            "fillColor": "#0000cd",
            "fillOpacity": 1,
            "weight": 6
           }
          },
          "type": "Feature"
         },
         {
          "geometry": {
           "coordinates": [
            [
             [
              [
               18.036902047276,
               59.3490348331672
              ],
              [
               18.036903047276002,
               59.3490358331672
              ],
              [
               18.036901047276,
               59.3490358331672
              ],
              [
               18.036902047276,
               59.3490348331672
              ]
             ]
            ]
           ],
           "type": "MultiPolygon"
          },
          "properties": {
           "style": {
            "color": "#0000cd",
            "fillColor": "#0000cd",
            "fillOpacity": 1,
            "weight": 6
           }
          },
          "type": "Feature"
         },
         {
          "geometry": {
           "coordinates": [
            [
             [
              [
               18.036937948525,
               59.3490093185754
              ],
              [
               18.036938948525002,
               59.349010318575395
              ],
              [
               18.036936948525,
               59.349010318575395
              ],
              [
               18.036937948525,
               59.3490093185754
              ]
             ]
            ]
           ],
           "type": "MultiPolygon"
          },
          "properties": {
           "style": {
            "color": "#0000cd",
            "fillColor": "#0000cd",
            "fillOpacity": 1,
            "weight": 6
           }
          },
          "type": "Feature"
         },
         {
          "geometry": {
           "coordinates": [
            [
             [
              [
               18.0393406619708,
               59.3501086010773
              ],
              [
               18.039341661970802,
               59.3501096010773
              ],
              [
               18.0393396619708,
               59.3501096010773
              ],
              [
               18.0393406619708,
               59.3501086010773
              ]
             ]
            ]
           ],
           "type": "MultiPolygon"
          },
          "properties": {
           "style": {
            "color": "#0000cd",
            "fillColor": "#0000cd",
            "fillOpacity": 1,
            "weight": 6
           }
          },
          "type": "Feature"
         },
         {
          "geometry": {
           "coordinates": [
            [
             [
              [
               18.0393931793934,
               59.3500922347911
              ],
              [
               18.0393941793934,
               59.350093234791096
              ],
              [
               18.0393921793934,
               59.350093234791096
              ],
              [
               18.0393931793934,
               59.3500922347911
              ]
             ]
            ]
           ],
           "type": "MultiPolygon"
          },
          "properties": {
           "style": {
            "color": "#0000cd",
            "fillColor": "#0000cd",
            "fillOpacity": 1,
            "weight": 6
           }
          },
          "type": "Feature"
         },
         {
          "geometry": {
           "coordinates": [
            [
             [
              [
               18.0404915901525,
               59.3518663037524
              ],
              [
               18.0404925901525,
               59.3518673037524
              ],
              [
               18.040490590152498,
               59.3518673037524
              ],
              [
               18.0404915901525,
               59.3518663037524
              ]
             ]
            ]
           ],
           "type": "MultiPolygon"
          },
          "properties": {
           "style": {
            "color": "#0000cd",
            "fillColor": "#0000cd",
            "fillOpacity": 1,
            "weight": 6
           }
          },
          "type": "Feature"
         },
         {
          "geometry": {
           "coordinates": [
            [
             [
              [
               18.0405531077711,
               59.3518668428497
              ],
              [
               18.0405541077711,
               59.3518678428497
              ],
              [
               18.0405521077711,
               59.3518678428497
              ],
              [
               18.0405531077711,
               59.3518668428497
              ]
             ]
            ]
           ],
           "type": "MultiPolygon"
          },
          "properties": {
           "style": {
            "color": "#0000cd",
            "fillColor": "#0000cd",
            "fillOpacity": 1,
            "weight": 6
           }
          },
          "type": "Feature"
         },
         {
          "geometry": {
           "coordinates": [
            [
             [
              [
               18.0400142010322,
               59.3527660170146
              ],
              [
               18.0400152010322,
               59.3527670170146
              ],
              [
               18.0400132010322,
               59.3527670170146
              ],
              [
               18.0400142010322,
               59.3527660170146
              ]
             ]
            ]
           ],
           "type": "MultiPolygon"
          },
          "properties": {
           "style": {
            "color": "#0000cd",
            "fillColor": "#0000cd",
            "fillOpacity": 1,
            "weight": 6
           }
          },
          "type": "Feature"
         },
         {
          "geometry": {
           "coordinates": [
            [
             [
              [
               18.0400684439413,
               59.3527808471543
              ],
              [
               18.040069443941302,
               59.3527818471543
              ],
              [
               18.0400674439413,
               59.3527818471543
              ],
              [
               18.0400684439413,
               59.3527808471543
              ]
             ]
            ]
           ],
           "type": "MultiPolygon"
          },
          "properties": {
           "style": {
            "color": "#0000cd",
            "fillColor": "#0000cd",
            "fillOpacity": 1,
            "weight": 6
           }
          },
          "type": "Feature"
         },
         {
          "geometry": {
           "coordinates": [
            [
             [
              [
               18.0391542162083,
               59.3534437527206
              ],
              [
               18.0391552162083,
               59.3534447527206
              ],
              [
               18.039153216208298,
               59.3534447527206
              ],
              [
               18.0391542162083,
               59.3534437527206
              ]
             ]
            ]
           ],
           "type": "MultiPolygon"
          },
          "properties": {
           "style": {
            "color": "#0000cd",
            "fillColor": "#0000cd",
            "fillOpacity": 1,
            "weight": 6
           }
          },
          "type": "Feature"
         },
         {
          "geometry": {
           "coordinates": [
            [
             [
              [
               18.0392040033492,
               59.3534622142693
              ],
              [
               18.039205003349203,
               59.3534632142693
              ],
              [
               18.0392030033492,
               59.3534632142693
              ],
              [
               18.0392040033492,
               59.3534622142693
              ]
             ]
            ]
           ],
           "type": "MultiPolygon"
          },
          "properties": {
           "style": {
            "color": "#0000cd",
            "fillColor": "#0000cd",
            "fillOpacity": 1,
            "weight": 6
           }
          },
          "type": "Feature"
         },
         {
          "geometry": {
           "coordinates": [
            [
             [
              [
               18.0364462066231,
               59.3546416487315
              ],
              [
               18.0364472066231,
               59.3546426487315
              ],
              [
               18.0364452066231,
               59.3546426487315
              ],
              [
               18.0364462066231,
               59.3546416487315
              ]
             ]
            ]
           ],
           "type": "MultiPolygon"
          },
          "properties": {
           "style": {
            "color": "#0000cd",
            "fillColor": "#0000cd",
            "fillOpacity": 1,
            "weight": 6
           }
          },
          "type": "Feature"
         },
         {
          "geometry": {
           "coordinates": [
            [
             [
              [
               18.036487350929,
               59.3546650107297
              ],
              [
               18.036488350929,
               59.354666010729694
              ],
              [
               18.036486350929,
               59.354666010729694
              ],
              [
               18.036487350929,
               59.3546650107297
              ]
             ]
            ]
           ],
           "type": "MultiPolygon"
          },
          "properties": {
           "style": {
            "color": "#0000cd",
            "fillColor": "#0000cd",
            "fillOpacity": 1,
            "weight": 6
           }
          },
          "type": "Feature"
         },
         {
          "geometry": {
           "coordinates": [
            [
             [
              [
               18.0365284952916,
               59.3546883727143
              ],
              [
               18.0365294952916,
               59.3546893727143
              ],
              [
               18.036527495291597,
               59.3546893727143
              ],
              [
               18.0365284952916,
               59.3546883727143
              ]
             ]
            ]
           ],
           "type": "MultiPolygon"
          },
          "properties": {
           "style": {
            "color": "#0000cd",
            "fillColor": "#0000cd",
            "fillOpacity": 1,
            "weight": 6
           }
          },
          "type": "Feature"
         },
         {
          "geometry": {
           "coordinates": [
            [
             [
              [
               18.0335316585396,
               59.3561970234089
              ],
              [
               18.033532658539603,
               59.3561980234089
              ],
              [
               18.0335306585396,
               59.3561980234089
              ],
              [
               18.0335316585396,
               59.3561970234089
              ]
             ]
            ]
           ],
           "type": "MultiPolygon"
          },
          "properties": {
           "style": {
            "color": "#0000cd",
            "fillColor": "#0000cd",
            "fillOpacity": 1,
            "weight": 6
           }
          },
          "type": "Feature"
         },
         {
          "geometry": {
           "coordinates": [
            [
             [
              [
               18.0335785725945,
               59.3562173548504
              ],
              [
               18.0335795725945,
               59.3562183548504
              ],
              [
               18.0335775725945,
               59.3562183548504
              ],
              [
               18.0335785725945,
               59.3562173548504
              ]
             ]
            ]
           ],
           "type": "MultiPolygon"
          },
          "properties": {
           "style": {
            "color": "#0000cd",
            "fillColor": "#0000cd",
            "fillOpacity": 1,
            "weight": 6
           }
          },
          "type": "Feature"
         },
         {
          "geometry": {
           "coordinates": [
            [
             [
              [
               18.0336254867053,
               59.3562376862745
              ],
              [
               18.0336264867053,
               59.356238686274494
              ],
              [
               18.0336244867053,
               59.356238686274494
              ],
              [
               18.0336254867053,
               59.3562376862745
              ]
             ]
            ]
           ],
           "type": "MultiPolygon"
          },
          "properties": {
           "style": {
            "color": "#0000cd",
            "fillColor": "#0000cd",
            "fillOpacity": 1,
            "weight": 6
           }
          },
          "type": "Feature"
         },
         {
          "geometry": {
           "coordinates": [
            [
             [
              [
               18.0336724008722,
               59.3562580176812
              ],
              [
               18.0336734008722,
               59.3562590176812
              ],
              [
               18.033671400872198,
               59.3562590176812
              ],
              [
               18.0336724008722,
               59.3562580176812
              ]
             ]
            ]
           ],
           "type": "MultiPolygon"
          },
          "properties": {
           "style": {
            "color": "#0000cd",
            "fillColor": "#0000cd",
            "fillOpacity": 1,
            "weight": 6
           }
          },
          "type": "Feature"
         },
         {
          "geometry": {
           "coordinates": [
            [
             [
              [
               18.033719315095,
               59.3562783490706
              ],
              [
               18.033720315095,
               59.3562793490706
              ],
              [
               18.033718315094998,
               59.3562793490706
              ],
              [
               18.033719315095,
               59.3562783490706
              ]
             ]
            ]
           ],
           "type": "MultiPolygon"
          },
          "properties": {
           "style": {
            "color": "#0000cd",
            "fillColor": "#0000cd",
            "fillOpacity": 1,
            "weight": 6
           }
          },
          "type": "Feature"
         },
         {
          "geometry": {
           "coordinates": [
            [
             [
              [
               18.0337662293738,
               59.3562986804425
              ],
              [
               18.0337672293738,
               59.3562996804425
              ],
              [
               18.0337652293738,
               59.3562996804425
              ],
              [
               18.0337662293738,
               59.3562986804425
              ]
             ]
            ]
           ],
           "type": "MultiPolygon"
          },
          "properties": {
           "style": {
            "color": "#0000cd",
            "fillColor": "#0000cd",
            "fillOpacity": 1,
            "weight": 6
           }
          },
          "type": "Feature"
         },
         {
          "geometry": {
           "coordinates": [
            [
             [
              [
               18.030100658339,
               59.3582350654715
              ],
              [
               18.030101658339,
               59.358236065471495
              ],
              [
               18.030099658338997,
               59.358236065471495
              ],
              [
               18.030100658339,
               59.3582350654715
              ]
             ]
            ]
           ],
           "type": "MultiPolygon"
          },
          "properties": {
           "style": {
            "color": "#0000cd",
            "fillColor": "#0000cd",
            "fillOpacity": 1,
            "weight": 6
           }
          },
          "type": "Feature"
         },
         {
          "geometry": {
           "coordinates": [
            [
             [
              [
               18.0301490651771,
               59.3582544651048
              ],
              [
               18.0301500651771,
               59.3582554651048
              ],
              [
               18.030148065177098,
               59.3582554651048
              ],
              [
               18.0301490651771,
               59.3582544651048
              ]
             ]
            ]
           ],
           "type": "MultiPolygon"
          },
          "properties": {
           "style": {
            "color": "#0000cd",
            "fillColor": "#0000cd",
            "fillOpacity": 1,
            "weight": 6
           }
          },
          "type": "Feature"
         },
         {
          "geometry": {
           "coordinates": [
            [
             [
              [
               18.0301974720702,
               59.3582738647195
              ],
              [
               18.0301984720702,
               59.3582748647195
              ],
              [
               18.030196472070198,
               59.3582748647195
              ],
              [
               18.0301974720702,
               59.3582738647195
              ]
             ]
            ]
           ],
           "type": "MultiPolygon"
          },
          "properties": {
           "style": {
            "color": "#0000cd",
            "fillColor": "#0000cd",
            "fillOpacity": 1,
            "weight": 6
           }
          },
          "type": "Feature"
         },
         {
          "geometry": {
           "coordinates": [
            [
             [
              [
               18.0302458790184,
               59.3582932643157
              ],
              [
               18.0302468790184,
               59.358294264315695
              ],
              [
               18.030244879018397,
               59.358294264315695
              ],
              [
               18.0302458790184,
               59.3582932643157
              ]
             ]
            ]
           ],
           "type": "MultiPolygon"
          },
          "properties": {
           "style": {
            "color": "#0000cd",
            "fillColor": "#0000cd",
            "fillOpacity": 1,
            "weight": 6
           }
          },
          "type": "Feature"
         },
         {
          "geometry": {
           "coordinates": [
            [
             [
              [
               18.0302942860217,
               59.3583126638935
              ],
              [
               18.0302952860217,
               59.3583136638935
              ],
              [
               18.0302932860217,
               59.3583136638935
              ],
              [
               18.0302942860217,
               59.3583126638935
              ]
             ]
            ]
           ],
           "type": "MultiPolygon"
          },
          "properties": {
           "style": {
            "color": "#0000cd",
            "fillColor": "#0000cd",
            "fillOpacity": 1,
            "weight": 6
           }
          },
          "type": "Feature"
         },
         {
          "geometry": {
           "coordinates": [
            [
             [
              [
               18.0278419124275,
               59.3599956792794
              ],
              [
               18.027842912427502,
               59.3599966792794
              ],
              [
               18.0278409124275,
               59.3599966792794
              ],
              [
               18.0278419124275,
               59.3599956792794
              ]
             ]
            ]
           ],
           "type": "MultiPolygon"
          },
          "properties": {
           "style": {
            "color": "#0000cd",
            "fillColor": "#0000cd",
            "fillOpacity": 1,
            "weight": 6
           }
          },
          "type": "Feature"
         },
         {
          "geometry": {
           "coordinates": [
            [
             [
              [
               18.0278968518165,
               59.360009837121
              ],
              [
               18.0278978518165,
               59.360010837120996
              ],
              [
               18.0278958518165,
               59.360010837120996
              ],
              [
               18.0278968518165,
               59.360009837121
              ]
             ]
            ]
           ],
           "type": "MultiPolygon"
          },
          "properties": {
           "style": {
            "color": "#0000cd",
            "fillColor": "#0000cd",
            "fillOpacity": 1,
            "weight": 6
           }
          },
          "type": "Feature"
         },
         {
          "geometry": {
           "coordinates": [
            [
             [
              [
               18.0279517912508,
               59.3600239949391
              ],
              [
               18.0279527912508,
               59.360024994939096
              ],
              [
               18.0279507912508,
               59.360024994939096
              ],
              [
               18.0279517912508,
               59.3600239949391
              ]
             ]
            ]
           ],
           "type": "MultiPolygon"
          },
          "properties": {
           "style": {
            "color": "#0000cd",
            "fillColor": "#0000cd",
            "fillOpacity": 1,
            "weight": 6
           }
          },
          "type": "Feature"
         },
         {
          "geometry": {
           "coordinates": [
            [
             [
              [
               18.0280067307304,
               59.3600381527337
              ],
              [
               18.0280077307304,
               59.3600391527337
              ],
              [
               18.0280057307304,
               59.3600391527337
              ],
              [
               18.0280067307304,
               59.3600381527337
              ]
             ]
            ]
           ],
           "type": "MultiPolygon"
          },
          "properties": {
           "style": {
            "color": "#0000cd",
            "fillColor": "#0000cd",
            "fillOpacity": 1,
            "weight": 6
           }
          },
          "type": "Feature"
         },
         {
          "geometry": {
           "coordinates": [
            [
             [
              [
               18.0280616702552,
               59.3600523105046
              ],
              [
               18.028062670255203,
               59.3600533105046
              ],
              [
               18.0280606702552,
               59.3600533105046
              ],
              [
               18.0280616702552,
               59.3600523105046
              ]
             ]
            ]
           ],
           "type": "MultiPolygon"
          },
          "properties": {
           "style": {
            "color": "#0000cd",
            "fillColor": "#0000cd",
            "fillOpacity": 1,
            "weight": 6
           }
          },
          "type": "Feature"
         },
         {
          "geometry": {
           "coordinates": [
            [
             [
              [
               18.0256158029117,
               59.362677899445
              ],
              [
               18.025616802911703,
               59.362678899445
              ],
              [
               18.0256148029117,
               59.362678899445
              ],
              [
               18.0256158029117,
               59.362677899445
              ]
             ]
            ]
           ],
           "type": "MultiPolygon"
          },
          "properties": {
           "style": {
            "color": "#0000cd",
            "fillColor": "#0000cd",
            "fillOpacity": 1,
            "weight": 6
           }
          },
          "type": "Feature"
         },
         {
          "geometry": {
           "coordinates": [
            [
             [
              [
               18.0256695530326,
               59.3626932048542
              ],
              [
               18.0256705530326,
               59.3626942048542
              ],
              [
               18.0256685530326,
               59.3626942048542
              ],
              [
               18.0256695530326,
               59.3626932048542
              ]
             ]
            ]
           ],
           "type": "MultiPolygon"
          },
          "properties": {
           "style": {
            "color": "#0000cd",
            "fillColor": "#0000cd",
            "fillOpacity": 1,
            "weight": 6
           }
          },
          "type": "Feature"
         },
         {
          "geometry": {
           "coordinates": [
            [
             [
              [
               18.0257233032014,
               59.3627085102409
              ],
              [
               18.0257243032014,
               59.3627095102409
              ],
              [
               18.0257223032014,
               59.3627095102409
              ],
              [
               18.0257233032014,
               59.3627085102409
              ]
             ]
            ]
           ],
           "type": "MultiPolygon"
          },
          "properties": {
           "style": {
            "color": "#0000cd",
            "fillColor": "#0000cd",
            "fillOpacity": 1,
            "weight": 6
           }
          },
          "type": "Feature"
         },
         {
          "geometry": {
           "coordinates": [
            [
             [
              [
               18.0257770534182,
               59.3627238156049
              ],
              [
               18.0257780534182,
               59.3627248156049
              ],
              [
               18.0257760534182,
               59.3627248156049
              ],
              [
               18.0257770534182,
               59.3627238156049
              ]
             ]
            ]
           ],
           "type": "MultiPolygon"
          },
          "properties": {
           "style": {
            "color": "#0000cd",
            "fillColor": "#0000cd",
            "fillOpacity": 1,
            "weight": 6
           }
          },
          "type": "Feature"
         },
         {
          "geometry": {
           "coordinates": [
            [
             [
              [
               18.0234494533345,
               59.3642542313286
              ],
              [
               18.0234504533345,
               59.3642552313286
              ],
              [
               18.0234484533345,
               59.3642552313286
              ],
              [
               18.0234494533345,
               59.3642542313286
              ]
             ]
            ]
           ],
           "type": "MultiPolygon"
          },
          "properties": {
           "style": {
            "color": "#0000cd",
            "fillColor": "#0000cd",
            "fillOpacity": 1,
            "weight": 6
           }
          },
          "type": "Feature"
         },
         {
          "geometry": {
           "coordinates": [
            [
             [
              [
               18.0234960071341,
               59.3642747841341
              ],
              [
               18.0234970071341,
               59.3642757841341
              ],
              [
               18.0234950071341,
               59.3642757841341
              ],
              [
               18.0234960071341,
               59.3642747841341
              ]
             ]
            ]
           ],
           "type": "MultiPolygon"
          },
          "properties": {
           "style": {
            "color": "#0000cd",
            "fillColor": "#0000cd",
            "fillOpacity": 1,
            "weight": 6
           }
          },
          "type": "Feature"
         },
         {
          "geometry": {
           "coordinates": [
            [
             [
              [
               18.02354256099,
               59.3642953369224
              ],
              [
               18.02354356099,
               59.3642963369224
              ],
              [
               18.023541560989997,
               59.3642963369224
              ],
              [
               18.02354256099,
               59.3642953369224
              ]
             ]
            ]
           ],
           "type": "MultiPolygon"
          },
          "properties": {
           "style": {
            "color": "#0000cd",
            "fillColor": "#0000cd",
            "fillOpacity": 1,
            "weight": 6
           }
          },
          "type": "Feature"
         },
         {
          "geometry": {
           "coordinates": [
            [
             [
              [
               18.023589114902,
               59.3643158896936
              ],
              [
               18.023590114902,
               59.3643168896936
              ],
              [
               18.023588114901997,
               59.3643168896936
              ],
              [
               18.023589114902,
               59.3643158896936
              ]
             ]
            ]
           ],
           "type": "MultiPolygon"
          },
          "properties": {
           "style": {
            "color": "#0000cd",
            "fillColor": "#0000cd",
            "fillOpacity": 1,
            "weight": 6
           }
          },
          "type": "Feature"
         },
         {
          "geometry": {
           "coordinates": [
            [
             [
              [
               18.021250506827,
               59.3659204190984
              ],
              [
               18.021251506827,
               59.3659214190984
              ],
              [
               18.021249506826997,
               59.3659214190984
              ],
              [
               18.021250506827,
               59.3659204190984
              ]
             ]
            ]
           ],
           "type": "MultiPolygon"
          },
          "properties": {
           "style": {
            "color": "#0000cd",
            "fillColor": "#0000cd",
            "fillOpacity": 1,
            "weight": 6
           }
          },
          "type": "Feature"
         },
         {
          "geometry": {
           "coordinates": [
            [
             [
              [
               18.0213070836968,
               59.3659327941933
              ],
              [
               18.021308083696802,
               59.365933794193296
              ],
              [
               18.0213060836968,
               59.365933794193296
              ],
              [
               18.0213070836968,
               59.3659327941933
              ]
             ]
            ]
           ],
           "type": "MultiPolygon"
          },
          "properties": {
           "style": {
            "color": "#0000cd",
            "fillColor": "#0000cd",
            "fillOpacity": 1,
            "weight": 6
           }
          },
          "type": "Feature"
         },
         {
          "geometry": {
           "coordinates": [
            [
             [
              [
               18.0213636606073,
               59.3659451692633
              ],
              [
               18.0213646606073,
               59.365946169263296
              ],
              [
               18.0213626606073,
               59.365946169263296
              ],
              [
               18.0213636606073,
               59.3659451692633
              ]
             ]
            ]
           ],
           "type": "MultiPolygon"
          },
          "properties": {
           "style": {
            "color": "#0000cd",
            "fillColor": "#0000cd",
            "fillOpacity": 1,
            "weight": 6
           }
          },
          "type": "Feature"
         },
         {
          "geometry": {
           "coordinates": [
            [
             [
              [
               18.0214202375584,
               59.3659575443084
              ],
              [
               18.0214212375584,
               59.3659585443084
              ],
              [
               18.021419237558398,
               59.3659585443084
              ],
              [
               18.0214202375584,
               59.3659575443084
              ]
             ]
            ]
           ],
           "type": "MultiPolygon"
          },
          "properties": {
           "style": {
            "color": "#0000cd",
            "fillColor": "#0000cd",
            "fillOpacity": 1,
            "weight": 6
           }
          },
          "type": "Feature"
         },
         {
          "geometry": {
           "coordinates": [
            [
             [
              [
               18.0203780162577,
               59.3685131929524
              ],
              [
               18.0203790162577,
               59.3685141929524
              ],
              [
               18.020377016257697,
               59.3685141929524
              ],
              [
               18.0203780162577,
               59.3685131929524
              ]
             ]
            ]
           ],
           "type": "MultiPolygon"
          },
          "properties": {
           "style": {
            "color": "#0000cd",
            "fillColor": "#0000cd",
            "fillOpacity": 1,
            "weight": 6
           }
          },
          "type": "Feature"
         },
         {
          "geometry": {
           "coordinates": [
            [
             [
              [
               18.0204394239015,
               59.3685153812544
              ],
              [
               18.0204404239015,
               59.368516381254395
              ],
              [
               18.0204384239015,
               59.368516381254395
              ],
              [
               18.0204394239015,
               59.3685153812544
              ]
             ]
            ]
           ],
           "type": "MultiPolygon"
          },
          "properties": {
           "style": {
            "color": "#0000cd",
            "fillColor": "#0000cd",
            "fillOpacity": 1,
            "weight": 6
           }
          },
          "type": "Feature"
         },
         {
          "geometry": {
           "coordinates": [
            [
             [
              [
               18.0205008315522,
               59.3685175695275
              ],
              [
               18.020501831552203,
               59.368518569527495
              ],
              [
               18.0204998315522,
               59.368518569527495
              ],
              [
               18.0205008315522,
               59.3685175695275
              ]
             ]
            ]
           ],
           "type": "MultiPolygon"
          },
          "properties": {
           "style": {
            "color": "#0000cd",
            "fillColor": "#0000cd",
            "fillOpacity": 1,
            "weight": 6
           }
          },
          "type": "Feature"
         },
         {
          "geometry": {
           "coordinates": [
            [
             [
              [
               18.02056223921,
               59.3685197577715
              ],
              [
               18.020563239210002,
               59.3685207577715
              ],
              [
               18.02056123921,
               59.3685207577715
              ],
              [
               18.02056223921,
               59.3685197577715
              ]
             ]
            ]
           ],
           "type": "MultiPolygon"
          },
          "properties": {
           "style": {
            "color": "#0000cd",
            "fillColor": "#0000cd",
            "fillOpacity": 1,
            "weight": 6
           }
          },
          "type": "Feature"
         },
         {
          "geometry": {
           "coordinates": [
            [
             [
              [
               18.0206236468748,
               59.3685219459866
              ],
              [
               18.0206246468748,
               59.3685229459866
              ],
              [
               18.0206226468748,
               59.3685229459866
              ],
              [
               18.0206236468748,
               59.3685219459866
              ]
             ]
            ]
           ],
           "type": "MultiPolygon"
          },
          "properties": {
           "style": {
            "color": "#0000cd",
            "fillColor": "#0000cd",
            "fillOpacity": 1,
            "weight": 6
           }
          },
          "type": "Feature"
         },
         {
          "geometry": {
           "coordinates": [
            [
             [
              [
               18.0200848393218,
               59.3706249442914
              ],
              [
               18.0200858393218,
               59.3706259442914
              ],
              [
               18.0200838393218,
               59.3706259442914
              ],
              [
               18.0200848393218,
               59.3706249442914
              ]
             ]
            ]
           ],
           "type": "MultiPolygon"
          },
          "properties": {
           "style": {
            "color": "#0000cd",
            "fillColor": "#0000cd",
            "fillOpacity": 1,
            "weight": 6
           }
          },
          "type": "Feature"
         },
         {
          "geometry": {
           "coordinates": [
            [
             [
              [
               18.020146097959,
               59.3706280542909
              ],
              [
               18.020147097959,
               59.370629054290895
              ],
              [
               18.020145097959,
               59.370629054290895
              ],
              [
               18.020146097959,
               59.3706280542909
              ]
             ]
            ]
           ],
           "type": "MultiPolygon"
          },
          "properties": {
           "style": {
            "color": "#0000cd",
            "fillColor": "#0000cd",
            "fillOpacity": 1,
            "weight": 6
           }
          },
          "type": "Feature"
         },
         {
          "geometry": {
           "coordinates": [
            [
             [
              [
               18.0202073566065,
               59.3706311642614
              ],
              [
               18.020208356606503,
               59.370632164261394
              ],
              [
               18.0202063566065,
               59.370632164261394
              ],
              [
               18.0202073566065,
               59.3706311642614
              ]
             ]
            ]
           ],
           "type": "MultiPolygon"
          },
          "properties": {
           "style": {
            "color": "#0000cd",
            "fillColor": "#0000cd",
            "fillOpacity": 1,
            "weight": 6
           }
          },
          "type": "Feature"
         },
         {
          "geometry": {
           "coordinates": [
            [
             [
              [
               18.0202686152643,
               59.3706342742031
              ],
              [
               18.0202696152643,
               59.370635274203096
              ],
              [
               18.0202676152643,
               59.370635274203096
              ],
              [
               18.0202686152643,
               59.3706342742031
              ]
             ]
            ]
           ],
           "type": "MultiPolygon"
          },
          "properties": {
           "style": {
            "color": "#0000cd",
            "fillColor": "#0000cd",
            "fillOpacity": 1,
            "weight": 6
           }
          },
          "type": "Feature"
         },
         {
          "geometry": {
           "coordinates": [
            [
             [
              [
               18.0189951930347,
               59.3728310395724
              ],
              [
               18.018996193034702,
               59.372832039572394
              ],
              [
               18.0189941930347,
               59.372832039572394
              ],
              [
               18.0189951930347,
               59.3728310395724
              ]
             ]
            ]
           ],
           "type": "MultiPolygon"
          },
          "properties": {
           "style": {
            "color": "#0000cd",
            "fillColor": "#0000cd",
            "fillOpacity": 1,
            "weight": 6
           }
          },
          "type": "Feature"
         },
         {
          "geometry": {
           "coordinates": [
            [
             [
              [
               18.0190504662402,
               59.3728448764898
              ],
              [
               18.0190514662402,
               59.3728458764898
              ],
              [
               18.019049466240197,
               59.3728458764898
              ],
              [
               18.0190504662402,
               59.3728448764898
              ]
             ]
            ]
           ],
           "type": "MultiPolygon"
          },
          "properties": {
           "style": {
            "color": "#0000cd",
            "fillColor": "#0000cd",
            "fillOpacity": 1,
            "weight": 6
           }
          },
          "type": "Feature"
         },
         {
          "geometry": {
           "coordinates": [
            [
             [
              [
               18.0191057394902,
               59.3728587133832
              ],
              [
               18.0191067394902,
               59.3728597133832
              ],
              [
               18.0191047394902,
               59.3728597133832
              ],
              [
               18.0191057394902,
               59.3728587133832
              ]
             ]
            ]
           ],
           "type": "MultiPolygon"
          },
          "properties": {
           "style": {
            "color": "#0000cd",
            "fillColor": "#0000cd",
            "fillOpacity": 1,
            "weight": 6
           }
          },
          "type": "Feature"
         },
         {
          "geometry": {
           "coordinates": [
            [
             [
              [
               18.0191610127847,
               59.3728725502529
              ],
              [
               18.0191620127847,
               59.3728735502529
              ],
              [
               18.0191600127847,
               59.3728735502529
              ],
              [
               18.0191610127847,
               59.3728725502529
              ]
             ]
            ]
           ],
           "type": "MultiPolygon"
          },
          "properties": {
           "style": {
            "color": "#0000cd",
            "fillColor": "#0000cd",
            "fillOpacity": 1,
            "weight": 6
           }
          },
          "type": "Feature"
         },
         {
          "geometry": {
           "coordinates": [
            [
             [
              [
               18.0160517097018,
               59.3754863025623
              ],
              [
               18.0160527097018,
               59.3754873025623
              ],
              [
               18.016050709701798,
               59.3754873025623
              ],
              [
               18.0160517097018,
               59.3754863025623
              ]
             ]
            ]
           ],
           "type": "MultiPolygon"
          },
          "properties": {
           "style": {
            "color": "#0000cd",
            "fillColor": "#0000cd",
            "fillOpacity": 1,
            "weight": 6
           }
          },
          "type": "Feature"
         },
         {
          "geometry": {
           "coordinates": [
            [
             [
              [
               18.0161048061262,
               59.3755022090115
              ],
              [
               18.016105806126202,
               59.3755032090115
              ],
              [
               18.0161038061262,
               59.3755032090115
              ],
              [
               18.0161048061262,
               59.3755022090115
              ]
             ]
            ]
           ],
           "type": "MultiPolygon"
          },
          "properties": {
           "style": {
            "color": "#0000cd",
            "fillColor": "#0000cd",
            "fillOpacity": 1,
            "weight": 6
           }
          },
          "type": "Feature"
         },
         {
          "geometry": {
           "coordinates": [
            [
             [
              [
               18.0161579026,
               59.3755181154386
              ],
              [
               18.0161589026,
               59.3755191154386
              ],
              [
               18.0161569026,
               59.3755191154386
              ],
              [
               18.0161579026,
               59.3755181154386
              ]
             ]
            ]
           ],
           "type": "MultiPolygon"
          },
          "properties": {
           "style": {
            "color": "#0000cd",
            "fillColor": "#0000cd",
            "fillOpacity": 1,
            "weight": 6
           }
          },
          "type": "Feature"
         },
         {
          "geometry": {
           "coordinates": [
            [
             [
              [
               18.016210999123,
               59.3755340218437
              ],
              [
               18.016211999123,
               59.375535021843696
              ],
              [
               18.016209999123,
               59.375535021843696
              ],
              [
               18.016210999123,
               59.3755340218437
              ]
             ]
            ]
           ],
           "type": "MultiPolygon"
          },
          "properties": {
           "style": {
            "color": "#0000cd",
            "fillColor": "#0000cd",
            "fillOpacity": 1,
            "weight": 6
           }
          },
          "type": "Feature"
         },
         {
          "geometry": {
           "coordinates": [
            [
             [
              [
               18.0162640956954,
               59.3755499282267
              ],
              [
               18.016265095695402,
               59.375550928226694
              ],
              [
               18.0162630956954,
               59.375550928226694
              ],
              [
               18.0162640956954,
               59.3755499282267
              ]
             ]
            ]
           ],
           "type": "MultiPolygon"
          },
          "properties": {
           "style": {
            "color": "#0000cd",
            "fillColor": "#0000cd",
            "fillOpacity": 1,
            "weight": 6
           }
          },
          "type": "Feature"
         },
         {
          "geometry": {
           "coordinates": [
            [
             [
              [
               18.0135337213276,
               59.3778013030911
              ],
              [
               18.013534721327602,
               59.377802303091094
              ],
              [
               18.0135327213276,
               59.377802303091094
              ],
              [
               18.0135337213276,
               59.3778013030911
              ]
             ]
            ]
           ],
           "type": "MultiPolygon"
          },
          "properties": {
           "style": {
            "color": "#0000cd",
            "fillColor": "#0000cd",
            "fillOpacity": 1,
            "weight": 6
           }
          },
          "type": "Feature"
         },
         {
          "geometry": {
           "coordinates": [
            [
             [
              [
               18.0135881945968,
               59.3778159507377
              ],
              [
               18.0135891945968,
               59.377816950737696
              ],
              [
               18.0135871945968,
               59.377816950737696
              ],
              [
               18.0135881945968,
               59.3778159507377
              ]
             ]
            ]
           ],
           "type": "MultiPolygon"
          },
          "properties": {
           "style": {
            "color": "#0000cd",
            "fillColor": "#0000cd",
            "fillOpacity": 1,
            "weight": 6
           }
          },
          "type": "Feature"
         },
         {
          "geometry": {
           "coordinates": [
            [
             [
              [
               18.0136426679125,
               59.3778305983611
              ],
              [
               18.0136436679125,
               59.3778315983611
              ],
              [
               18.0136416679125,
               59.3778315983611
              ],
              [
               18.0136426679125,
               59.3778305983611
              ]
             ]
            ]
           ],
           "type": "MultiPolygon"
          },
          "properties": {
           "style": {
            "color": "#0000cd",
            "fillColor": "#0000cd",
            "fillOpacity": 1,
            "weight": 6
           }
          },
          "type": "Feature"
         },
         {
          "geometry": {
           "coordinates": [
            [
             [
              [
               18.0100745695346,
               59.3809272113688
              ],
              [
               18.0100755695346,
               59.3809282113688
              ],
              [
               18.010073569534597,
               59.3809282113688
              ],
              [
               18.0100745695346,
               59.3809272113688
              ]
             ]
            ]
           ],
           "type": "MultiPolygon"
          },
          "properties": {
           "style": {
            "color": "#0000cd",
            "fillColor": "#0000cd",
            "fillOpacity": 1,
            "weight": 6
           }
          },
          "type": "Feature"
         },
         {
          "geometry": {
           "coordinates": [
            [
             [
              [
               18.0101269027246,
               59.3809437703659
              ],
              [
               18.0101279027246,
               59.3809447703659
              ],
              [
               18.0101259027246,
               59.3809447703659
              ],
              [
               18.0101269027246,
               59.3809437703659
              ]
             ]
            ]
           ],
           "type": "MultiPolygon"
          },
          "properties": {
           "style": {
            "color": "#0000cd",
            "fillColor": "#0000cd",
            "fillOpacity": 1,
            "weight": 6
           }
          },
          "type": "Feature"
         },
         {
          "geometry": {
           "coordinates": [
            [
             [
              [
               18.0101792359652,
               59.3809603293416
              ],
              [
               18.0101802359652,
               59.380961329341595
              ],
              [
               18.0101782359652,
               59.380961329341595
              ],
              [
               18.0101792359652,
               59.3809603293416
              ]
             ]
            ]
           ],
           "type": "MultiPolygon"
          },
          "properties": {
           "style": {
            "color": "#0000cd",
            "fillColor": "#0000cd",
            "fillOpacity": 1,
            "weight": 6
           }
          },
          "type": "Feature"
         },
         {
          "geometry": {
           "coordinates": [
            [
             [
              [
               18.0102315692565,
               59.3809768882958
              ],
              [
               18.0102325692565,
               59.380977888295796
              ],
              [
               18.0102305692565,
               59.380977888295796
              ],
              [
               18.0102315692565,
               59.3809768882958
              ]
             ]
            ]
           ],
           "type": "MultiPolygon"
          },
          "properties": {
           "style": {
            "color": "#0000cd",
            "fillColor": "#0000cd",
            "fillOpacity": 1,
            "weight": 6
           }
          },
          "type": "Feature"
         },
         {
          "geometry": {
           "coordinates": [
            [
             [
              [
               18.0068455711515,
               59.383585211663
              ],
              [
               18.006846571151502,
               59.383586211662994
              ],
              [
               18.0068445711515,
               59.383586211662994
              ],
              [
               18.0068455711515,
               59.383585211663
              ]
             ]
            ]
           ],
           "type": "MultiPolygon"
          },
          "properties": {
           "style": {
            "color": "#0000cd",
            "fillColor": "#0000cd",
            "fillOpacity": 1,
            "weight": 6
           }
          },
          "type": "Feature"
         },
         {
          "geometry": {
           "coordinates": [
            [
             [
              [
               18.0068978444735,
               59.3836018232071
              ],
              [
               18.0068988444735,
               59.3836028232071
              ],
              [
               18.0068968444735,
               59.3836028232071
              ],
              [
               18.0068978444735,
               59.3836018232071
              ]
             ]
            ]
           ],
           "type": "MultiPolygon"
          },
          "properties": {
           "style": {
            "color": "#0000cd",
            "fillColor": "#0000cd",
            "fillOpacity": 1,
            "weight": 6
           }
          },
          "type": "Feature"
         },
         {
          "geometry": {
           "coordinates": [
            [
             [
              [
               18.0069501178462,
               59.3836184347297
              ],
              [
               18.0069511178462,
               59.383619434729695
              ],
              [
               18.006949117846197,
               59.383619434729695
              ],
              [
               18.0069501178462,
               59.3836184347297
              ]
             ]
            ]
           ],
           "type": "MultiPolygon"
          },
          "properties": {
           "style": {
            "color": "#0000cd",
            "fillColor": "#0000cd",
            "fillOpacity": 1,
            "weight": 6
           }
          },
          "type": "Feature"
         },
         {
          "geometry": {
           "coordinates": [
            [
             [
              [
               18.0070023912696,
               59.383635046231
              ],
              [
               18.007003391269603,
               59.383636046231
              ],
              [
               18.0070013912696,
               59.383636046231
              ],
              [
               18.0070023912696,
               59.383635046231
              ]
             ]
            ]
           ],
           "type": "MultiPolygon"
          },
          "properties": {
           "style": {
            "color": "#0000cd",
            "fillColor": "#0000cd",
            "fillOpacity": 1,
            "weight": 6
           }
          },
          "type": "Feature"
         },
         {
          "geometry": {
           "coordinates": [
            [
             [
              [
               18.0035750712201,
               59.3862463910485
              ],
              [
               18.003576071220103,
               59.3862473910485
              ],
              [
               18.0035740712201,
               59.3862473910485
              ],
              [
               18.0035750712201,
               59.3862463910485
              ]
             ]
            ]
           ],
           "type": "MultiPolygon"
          },
          "properties": {
           "style": {
            "color": "#0000cd",
            "fillColor": "#0000cd",
            "fillOpacity": 1,
            "weight": 6
           }
          },
          "type": "Feature"
         },
         {
          "geometry": {
           "coordinates": [
            [
             [
              [
               18.0036275644109,
               59.3862628246006
              ],
              [
               18.0036285644109,
               59.3862638246006
              ],
              [
               18.003626564410897,
               59.3862638246006
              ],
              [
               18.0036275644109,
               59.3862628246006
              ]
             ]
            ]
           ],
           "type": "MultiPolygon"
          },
          "properties": {
           "style": {
            "color": "#0000cd",
            "fillColor": "#0000cd",
            "fillOpacity": 1,
            "weight": 6
           }
          },
          "type": "Feature"
         },
         {
          "geometry": {
           "coordinates": [
            [
             [
              [
               18.0036800576522,
               59.3862792581311
              ],
              [
               18.0036810576522,
               59.386280258131094
              ],
              [
               18.0036790576522,
               59.386280258131094
              ],
              [
               18.0036800576522,
               59.3862792581311
              ]
             ]
            ]
           ],
           "type": "MultiPolygon"
          },
          "properties": {
           "style": {
            "color": "#0000cd",
            "fillColor": "#0000cd",
            "fillOpacity": 1,
            "weight": 6
           }
          },
          "type": "Feature"
         },
         {
          "geometry": {
           "coordinates": [
            [
             [
              [
               18.0037325509438,
               59.3862956916401
              ],
              [
               18.0037335509438,
               59.3862966916401
              ],
              [
               18.003731550943797,
               59.3862966916401
              ],
              [
               18.0037325509438,
               59.3862956916401
              ]
             ]
            ]
           ],
           "type": "MultiPolygon"
          },
          "properties": {
           "style": {
            "color": "#0000cd",
            "fillColor": "#0000cd",
            "fillOpacity": 1,
            "weight": 6
           }
          },
          "type": "Feature"
         },
         {
          "geometry": {
           "coordinates": [
            [
             [
              [
               18.000698143095,
               59.3883373862171
              ],
              [
               18.000699143095,
               59.3883383862171
              ],
              [
               18.000697143095,
               59.3883383862171
              ],
              [
               18.000698143095,
               59.3883373862171
              ]
             ]
            ]
           ],
           "type": "MultiPolygon"
          },
          "properties": {
           "style": {
            "color": "#0000cd",
            "fillColor": "#0000cd",
            "fillOpacity": 1,
            "weight": 6
           }
          },
          "type": "Feature"
         },
         {
          "geometry": {
           "coordinates": [
            [
             [
              [
               18.0007439805236,
               59.3883583730866
              ],
              [
               18.0007449805236,
               59.388359373086594
              ],
              [
               18.000742980523597,
               59.388359373086594
              ],
              [
               18.0007439805236,
               59.3883583730866
              ]
             ]
            ]
           ],
           "type": "MultiPolygon"
          },
          "properties": {
           "style": {
            "color": "#0000cd",
            "fillColor": "#0000cd",
            "fillOpacity": 1,
            "weight": 6
           }
          },
          "type": "Feature"
         },
         {
          "geometry": {
           "coordinates": [
            [
             [
              [
               18.0007898180088,
               59.3883793599395
              ],
              [
               18.000790818008802,
               59.3883803599395
              ],
              [
               18.0007888180088,
               59.3883803599395
              ],
              [
               18.0007898180088,
               59.3883793599395
              ]
             ]
            ]
           ],
           "type": "MultiPolygon"
          },
          "properties": {
           "style": {
            "color": "#0000cd",
            "fillColor": "#0000cd",
            "fillOpacity": 1,
            "weight": 6
           }
          },
          "type": "Feature"
         },
         {
          "geometry": {
           "coordinates": [
            [
             [
              [
               18.0008356555507,
               59.3884003467757
              ],
              [
               18.0008366555507,
               59.388401346775694
              ],
              [
               18.000834655550698,
               59.388401346775694
              ],
              [
               18.0008356555507,
               59.3884003467757
              ]
             ]
            ]
           ],
           "type": "MultiPolygon"
          },
          "properties": {
           "style": {
            "color": "#0000cd",
            "fillColor": "#0000cd",
            "fillOpacity": 1,
            "weight": 6
           }
          },
          "type": "Feature"
         },
         {
          "geometry": {
           "coordinates": [
            [
             [
              [
               17.9930075741487,
               59.3914339093547
              ],
              [
               17.9930085741487,
               59.3914349093547
              ],
              [
               17.993006574148698,
               59.3914349093547
              ],
              [
               17.9930075741487,
               59.3914339093547
              ]
             ]
            ]
           ],
           "type": "MultiPolygon"
          },
          "properties": {
           "style": {
            "color": "#0000cd",
            "fillColor": "#0000cd",
            "fillOpacity": 1,
            "weight": 6
           }
          },
          "type": "Feature"
         },
         {
          "geometry": {
           "coordinates": [
            [
             [
              [
               17.9930412538975,
               59.3914602164015
              ],
              [
               17.9930422538975,
               59.391461216401495
              ],
              [
               17.993040253897497,
               59.391461216401495
              ],
              [
               17.9930412538975,
               59.3914602164015
              ]
             ]
            ]
           ],
           "type": "MultiPolygon"
          },
          "properties": {
           "style": {
            "color": "#0000cd",
            "fillColor": "#0000cd",
            "fillOpacity": 1,
            "weight": 6
           }
          },
          "type": "Feature"
         },
         {
          "geometry": {
           "coordinates": [
            [
             [
              [
               17.9930749336988,
               59.3914865234391
              ],
              [
               17.9930759336988,
               59.391487523439096
              ],
              [
               17.9930739336988,
               59.391487523439096
              ],
              [
               17.9930749336988,
               59.3914865234391
              ]
             ]
            ]
           ],
           "type": "MultiPolygon"
          },
          "properties": {
           "style": {
            "color": "#0000cd",
            "fillColor": "#0000cd",
            "fillOpacity": 1,
            "weight": 6
           }
          },
          "type": "Feature"
         },
         {
          "geometry": {
           "coordinates": [
            [
             [
              [
               17.9931086135528,
               59.3915128304675
              ],
              [
               17.9931096135528,
               59.391513830467495
              ],
              [
               17.993107613552798,
               59.391513830467495
              ],
              [
               17.9931086135528,
               59.3915128304675
              ]
             ]
            ]
           ],
           "type": "MultiPolygon"
          },
          "properties": {
           "style": {
            "color": "#0000cd",
            "fillColor": "#0000cd",
            "fillOpacity": 1,
            "weight": 6
           }
          },
          "type": "Feature"
         },
         {
          "geometry": {
           "coordinates": [
            [
             [
              [
               17.9884902835547,
               59.3932804871544
              ],
              [
               17.9884912835547,
               59.3932814871544
              ],
              [
               17.9884892835547,
               59.3932814871544
              ],
              [
               17.9884902835547,
               59.3932804871544
              ]
             ]
            ]
           ],
           "type": "MultiPolygon"
          },
          "properties": {
           "style": {
            "color": "#0000cd",
            "fillColor": "#0000cd",
            "fillOpacity": 1,
            "weight": 6
           }
          },
          "type": "Feature"
         },
         {
          "geometry": {
           "coordinates": [
            [
             [
              [
               17.9885333640564,
               59.3933029456049
              ],
              [
               17.988534364056402,
               59.3933039456049
              ],
              [
               17.9885323640564,
               59.3933039456049
              ],
              [
               17.9885333640564,
               59.3933029456049
              ]
             ]
            ]
           ],
           "type": "MultiPolygon"
          },
          "properties": {
           "style": {
            "color": "#0000cd",
            "fillColor": "#0000cd",
            "fillOpacity": 1,
            "weight": 6
           }
          },
          "type": "Feature"
         },
         {
          "geometry": {
           "coordinates": [
            [
             [
              [
               17.9885764446152,
               59.3933254040407
              ],
              [
               17.988577444615203,
               59.3933264040407
              ],
              [
               17.9885754446152,
               59.3933264040407
              ],
              [
               17.9885764446152,
               59.3933254040407
              ]
             ]
            ]
           ],
           "type": "MultiPolygon"
          },
          "properties": {
           "style": {
            "color": "#0000cd",
            "fillColor": "#0000cd",
            "fillOpacity": 1,
            "weight": 6
           }
          },
          "type": "Feature"
         },
         {
          "geometry": {
           "coordinates": [
            [
             [
              [
               17.988619525231,
               59.3933478624617
              ],
              [
               17.988620525231003,
               59.3933488624617
              ],
              [
               17.988618525231,
               59.3933488624617
              ],
              [
               17.988619525231,
               59.3933478624617
              ]
             ]
            ]
           ],
           "type": "MultiPolygon"
          },
          "properties": {
           "style": {
            "color": "#0000cd",
            "fillColor": "#0000cd",
            "fillOpacity": 1,
            "weight": 6
           }
          },
          "type": "Feature"
         },
         {
          "geometry": {
           "coordinates": [
            [
             [
              [
               17.9829458242737,
               59.3960381973909
              ],
              [
               17.9829468242737,
               59.3960391973909
              ],
              [
               17.982944824273698,
               59.3960391973909
              ],
              [
               17.9829458242737,
               59.3960381973909
              ]
             ]
            ]
           ],
           "type": "MultiPolygon"
          },
          "properties": {
           "style": {
            "color": "#0000cd",
            "fillColor": "#0000cd",
            "fillOpacity": 1,
            "weight": 6
           }
          },
          "type": "Feature"
         },
         {
          "geometry": {
           "coordinates": [
            [
             [
              [
               17.9829895335929,
               59.3960603393938
              ],
              [
               17.9829905335929,
               59.396061339393796
              ],
              [
               17.9829885335929,
               59.396061339393796
              ],
              [
               17.9829895335929,
               59.3960603393938
              ]
             ]
            ]
           ],
           "type": "MultiPolygon"
          },
          "properties": {
           "style": {
            "color": "#0000cd",
            "fillColor": "#0000cd",
            "fillOpacity": 1,
            "weight": 6
           }
          },
          "type": "Feature"
         },
         {
          "geometry": {
           "coordinates": [
            [
             [
              [
               17.9830332429692,
               59.3960824813815
              ],
              [
               17.9830342429692,
               59.396083481381496
              ],
              [
               17.983032242969198,
               59.396083481381496
              ],
              [
               17.9830332429692,
               59.3960824813815
              ]
             ]
            ]
           ],
           "type": "MultiPolygon"
          },
          "properties": {
           "style": {
            "color": "#0000cd",
            "fillColor": "#0000cd",
            "fillOpacity": 1,
            "weight": 6
           }
          },
          "type": "Feature"
         },
         {
          "geometry": {
           "coordinates": [
            [
             [
              [
               17.9830769524025,
               59.3961046233541
              ],
              [
               17.9830779524025,
               59.396105623354096
              ],
              [
               17.983075952402498,
               59.396105623354096
              ],
              [
               17.9830769524025,
               59.3961046233541
              ]
             ]
            ]
           ],
           "type": "MultiPolygon"
          },
          "properties": {
           "style": {
            "color": "#0000cd",
            "fillColor": "#0000cd",
            "fillOpacity": 1,
            "weight": 6
           }
          },
          "type": "Feature"
         },
         {
          "geometry": {
           "coordinates": [
            [
             [
              [
               17.9831206618928,
               59.3961267653115
              ],
              [
               17.983121661892802,
               59.3961277653115
              ],
              [
               17.9831196618928,
               59.3961277653115
              ],
              [
               17.9831206618928,
               59.3961267653115
              ]
             ]
            ]
           ],
           "type": "MultiPolygon"
          },
          "properties": {
           "style": {
            "color": "#0000cd",
            "fillColor": "#0000cd",
            "fillOpacity": 1,
            "weight": 6
           }
          },
          "type": "Feature"
         },
         {
          "geometry": {
           "coordinates": [
            [
             [
              [
               17.9785306850727,
               59.3983541094059
              ],
              [
               17.9785316850727,
               59.3983551094059
              ],
              [
               17.978529685072697,
               59.3983551094059
              ],
              [
               17.9785306850727,
               59.3983541094059
              ]
             ]
            ]
           ],
           "type": "MultiPolygon"
          },
          "properties": {
           "style": {
            "color": "#0000cd",
            "fillColor": "#0000cd",
            "fillOpacity": 1,
            "weight": 6
           }
          },
          "type": "Feature"
         },
         {
          "geometry": {
           "coordinates": [
            [
             [
              [
               17.9785776680003,
               59.3983744350087
              ],
              [
               17.978578668000303,
               59.398375435008695
              ],
              [
               17.9785766680003,
               59.398375435008695
              ],
              [
               17.9785776680003,
               59.3983744350087
              ]
             ]
            ]
           ],
           "type": "MultiPolygon"
          },
          "properties": {
           "style": {
            "color": "#0000cd",
            "fillColor": "#0000cd",
            "fillOpacity": 1,
            "weight": 6
           }
          },
          "type": "Feature"
         },
         {
          "geometry": {
           "coordinates": [
            [
             [
              [
               17.9786246509841,
               59.3983947605942
              ],
              [
               17.9786256509841,
               59.3983957605942
              ],
              [
               17.978623650984098,
               59.3983957605942
              ],
              [
               17.9786246509841,
               59.3983947605942
              ]
             ]
            ]
           ],
           "type": "MultiPolygon"
          },
          "properties": {
           "style": {
            "color": "#0000cd",
            "fillColor": "#0000cd",
            "fillOpacity": 1,
            "weight": 6
           }
          },
          "type": "Feature"
         },
         {
          "geometry": {
           "coordinates": [
            [
             [
              [
               17.9757410429151,
               59.4002525823032
              ],
              [
               17.9757420429151,
               59.4002535823032
              ],
              [
               17.9757400429151,
               59.4002535823032
              ],
              [
               17.9757410429151,
               59.4002525823032
              ]
             ]
            ]
           ],
           "type": "MultiPolygon"
          },
          "properties": {
           "style": {
            "color": "#0000cd",
            "fillColor": "#0000cd",
            "fillOpacity": 1,
            "weight": 6
           }
          },
          "type": "Feature"
         },
         {
          "geometry": {
           "coordinates": [
            [
             [
              [
               17.9757916977771,
               59.4002704700473
              ],
              [
               17.975792697777102,
               59.4002714700473
              ],
              [
               17.9757906977771,
               59.4002714700473
              ],
              [
               17.9757916977771,
               59.4002704700473
              ]
             ]
            ]
           ],
           "type": "MultiPolygon"
          },
          "properties": {
           "style": {
            "color": "#0000cd",
            "fillColor": "#0000cd",
            "fillOpacity": 1,
            "weight": 6
           }
          },
          "type": "Feature"
         },
         {
          "geometry": {
           "coordinates": [
            [
             [
              [
               17.9758423526923,
               59.4002883577713
              ],
              [
               17.9758433526923,
               59.4002893577713
              ],
              [
               17.9758413526923,
               59.4002893577713
              ],
              [
               17.9758423526923,
               59.4002883577713
              ]
             ]
            ]
           ],
           "type": "MultiPolygon"
          },
          "properties": {
           "style": {
            "color": "#0000cd",
            "fillColor": "#0000cd",
            "fillOpacity": 1,
            "weight": 6
           }
          },
          "type": "Feature"
         },
         {
          "geometry": {
           "coordinates": [
            [
             [
              [
               17.9733958411875,
               59.4018796932328
              ],
              [
               17.9733968411875,
               59.4018806932328
              ],
              [
               17.9733948411875,
               59.4018806932328
              ],
              [
               17.9733958411875,
               59.4018796932328
              ]
             ]
            ]
           ],
           "type": "MultiPolygon"
          },
          "properties": {
           "style": {
            "color": "#0000cd",
            "fillColor": "#0000cd",
            "fillOpacity": 1,
            "weight": 6
           }
          },
          "type": "Feature"
         },
         {
          "geometry": {
           "coordinates": [
            [
             [
              [
               17.9734429727212,
               59.4018999321826
              ],
              [
               17.973443972721203,
               59.4019009321826
              ],
              [
               17.9734419727212,
               59.4019009321826
              ],
              [
               17.9734429727212,
               59.4018999321826
              ]
             ]
            ]
           ],
           "type": "MultiPolygon"
          },
          "properties": {
           "style": {
            "color": "#0000cd",
            "fillColor": "#0000cd",
            "fillOpacity": 1,
            "weight": 6
           }
          },
          "type": "Feature"
         },
         {
          "geometry": {
           "coordinates": [
            [
             [
              [
               17.973490104311,
               59.4019201711149
              ],
              [
               17.973491104311,
               59.4019211711149
              ],
              [
               17.973489104311,
               59.4019211711149
              ],
              [
               17.973490104311,
               59.4019201711149
              ]
             ]
            ]
           ],
           "type": "MultiPolygon"
          },
          "properties": {
           "style": {
            "color": "#0000cd",
            "fillColor": "#0000cd",
            "fillOpacity": 1,
            "weight": 6
           }
          },
          "type": "Feature"
         },
         {
          "geometry": {
           "coordinates": [
            [
             [
              [
               17.970175274614,
               59.4035338839886
              ],
              [
               17.970176274614,
               59.4035348839886
              ],
              [
               17.970174274614,
               59.4035348839886
              ],
              [
               17.970175274614,
               59.4035338839886
              ]
             ]
            ]
           ],
           "type": "MultiPolygon"
          },
          "properties": {
           "style": {
            "color": "#0000cd",
            "fillColor": "#0000cd",
            "fillOpacity": 1,
            "weight": 6
           }
          },
          "type": "Feature"
         },
         {
          "geometry": {
           "coordinates": [
            [
             [
              [
               17.9702153119682,
               59.4035577678496
              ],
              [
               17.9702163119682,
               59.403558767849596
              ],
              [
               17.9702143119682,
               59.403558767849596
              ],
              [
               17.9702153119682,
               59.4035577678496
              ]
             ]
            ]
           ],
           "type": "MultiPolygon"
          },
          "properties": {
           "style": {
            "color": "#0000cd",
            "fillColor": "#0000cd",
            "fillOpacity": 1,
            "weight": 6
           }
          },
          "type": "Feature"
         },
         {
          "geometry": {
           "coordinates": [
            [
             [
              [
               17.9702553493789,
               59.4035816516977
              ],
              [
               17.9702563493789,
               59.4035826516977
              ],
              [
               17.970254349378898,
               59.4035826516977
              ],
              [
               17.9702553493789,
               59.4035816516977
              ]
             ]
            ]
           ],
           "type": "MultiPolygon"
          },
          "properties": {
           "style": {
            "color": "#0000cd",
            "fillColor": "#0000cd",
            "fillOpacity": 1,
            "weight": 6
           }
          },
          "type": "Feature"
         },
         {
          "geometry": {
           "coordinates": [
            [
             [
              [
               17.960623297585,
               59.4075029838785
              ],
              [
               17.960624297585,
               59.4075039838785
              ],
              [
               17.960622297584997,
               59.4075039838785
              ],
              [
               17.960623297585,
               59.4075029838785
              ]
             ]
            ]
           ],
           "type": "MultiPolygon"
          },
          "properties": {
           "style": {
            "color": "#0000cd",
            "fillColor": "#0000cd",
            "fillOpacity": 1,
            "weight": 6
           }
          },
          "type": "Feature"
         },
         {
          "geometry": {
           "coordinates": [
            [
             [
              [
               17.9606622317032,
               59.4075273392658
              ],
              [
               17.9606632317032,
               59.407528339265795
              ],
              [
               17.9606612317032,
               59.407528339265795
              ],
              [
               17.9606622317032,
               59.4075273392658
              ]
             ]
            ]
           ],
           "type": "MultiPolygon"
          },
          "properties": {
           "style": {
            "color": "#0000cd",
            "fillColor": "#0000cd",
            "fillOpacity": 1,
            "weight": 6
           }
          },
          "type": "Feature"
         },
         {
          "geometry": {
           "coordinates": [
            [
             [
              [
               17.9607011658775,
               59.4075516946411
              ],
              [
               17.9607021658775,
               59.4075526946411
              ],
              [
               17.960700165877498,
               59.4075526946411
              ],
              [
               17.9607011658775,
               59.4075516946411
              ]
             ]
            ]
           ],
           "type": "MultiPolygon"
          },
          "properties": {
           "style": {
            "color": "#0000cd",
            "fillColor": "#0000cd",
            "fillOpacity": 1,
            "weight": 6
           }
          },
          "type": "Feature"
         },
         {
          "geometry": {
           "coordinates": [
            [
             [
              [
               17.9607401001079,
               59.4075760500042
              ],
              [
               17.9607411001079,
               59.4075770500042
              ],
              [
               17.960739100107897,
               59.4075770500042
              ],
              [
               17.9607401001079,
               59.4075760500042
              ]
             ]
            ]
           ],
           "type": "MultiPolygon"
          },
          "properties": {
           "style": {
            "color": "#0000cd",
            "fillColor": "#0000cd",
            "fillOpacity": 1,
            "weight": 6
           }
          },
          "type": "Feature"
         },
         {
          "geometry": {
           "coordinates": [
            [
             [
              [
               17.9536507401783,
               59.4103883029249
              ],
              [
               17.9536517401783,
               59.4103893029249
              ],
              [
               17.9536497401783,
               59.4103893029249
              ],
              [
               17.9536507401783,
               59.4103883029249
              ]
             ]
            ]
           ],
           "type": "MultiPolygon"
          },
          "properties": {
           "style": {
            "color": "#0000cd",
            "fillColor": "#0000cd",
            "fillOpacity": 1,
            "weight": 6
           }
          },
          "type": "Feature"
         },
         {
          "geometry": {
           "coordinates": [
            [
             [
              [
               17.9536880582615,
               59.4104133084715
              ],
              [
               17.9536890582615,
               59.410414308471495
              ],
              [
               17.953687058261497,
               59.410414308471495
              ],
              [
               17.9536880582615,
               59.4104133084715
              ]
             ]
            ]
           ],
           "type": "MultiPolygon"
          },
          "properties": {
           "style": {
            "color": "#0000cd",
            "fillColor": "#0000cd",
            "fillOpacity": 1,
            "weight": 6
           }
          },
          "type": "Feature"
         },
         {
          "geometry": {
           "coordinates": [
            [
             [
              [
               17.9537253764,
               59.4104383140068
              ],
              [
               17.953726376400002,
               59.410439314006794
              ],
              [
               17.9537243764,
               59.410439314006794
              ],
              [
               17.9537253764,
               59.4104383140068
              ]
             ]
            ]
           ],
           "type": "MultiPolygon"
          },
          "properties": {
           "style": {
            "color": "#0000cd",
            "fillColor": "#0000cd",
            "fillOpacity": 1,
            "weight": 6
           }
          },
          "type": "Feature"
         },
         {
          "geometry": {
           "coordinates": [
            [
             [
              [
               17.9537626945937,
               59.410463319531
              ],
              [
               17.9537636945937,
               59.410464319530995
              ],
              [
               17.953761694593698,
               59.410464319530995
              ],
              [
               17.9537626945937,
               59.410463319531
              ]
             ]
            ]
           ],
           "type": "MultiPolygon"
          },
          "properties": {
           "style": {
            "color": "#0000cd",
            "fillColor": "#0000cd",
            "fillOpacity": 1,
            "weight": 6
           }
          },
          "type": "Feature"
         },
         {
          "geometry": {
           "coordinates": [
            [
             [
              [
               17.9447669813444,
               59.4132993890439
              ],
              [
               17.944767981344402,
               59.4133003890439
              ],
              [
               17.9447659813444,
               59.4133003890439
              ],
              [
               17.9447669813444,
               59.4132993890439
              ]
             ]
            ]
           ],
           "type": "MultiPolygon"
          },
          "properties": {
           "style": {
            "color": "#0000cd",
            "fillColor": "#0000cd",
            "fillOpacity": 1,
            "weight": 6
           }
          },
          "type": "Feature"
         },
         {
          "geometry": {
           "coordinates": [
            [
             [
              [
               17.9448012104666,
               59.4133255188335
              ],
              [
               17.9448022104666,
               59.4133265188335
              ],
              [
               17.9448002104666,
               59.4133265188335
              ],
              [
               17.9448012104666,
               59.4133255188335
              ]
             ]
            ]
           ],
           "type": "MultiPolygon"
          },
          "properties": {
           "style": {
            "color": "#0000cd",
            "fillColor": "#0000cd",
            "fillOpacity": 1,
            "weight": 6
           }
          },
          "type": "Feature"
         },
         {
          "geometry": {
           "coordinates": [
            [
             [
              [
               17.944835439642,
               59.4133516486136
              ],
              [
               17.944836439642,
               59.413352648613596
              ],
              [
               17.944834439641998,
               59.413352648613596
              ],
              [
               17.944835439642,
               59.4133516486136
              ]
             ]
            ]
           ],
           "type": "MultiPolygon"
          },
          "properties": {
           "style": {
            "color": "#0000cd",
            "fillColor": "#0000cd",
            "fillOpacity": 1,
            "weight": 6
           }
          },
          "type": "Feature"
         },
         {
          "geometry": {
           "coordinates": [
            [
             [
              [
               17.9448696688704,
               59.4133777783842
              ],
              [
               17.9448706688704,
               59.4133787783842
              ],
              [
               17.9448686688704,
               59.4133787783842
              ],
              [
               17.9448696688704,
               59.4133777783842
              ]
             ]
            ]
           ],
           "type": "MultiPolygon"
          },
          "properties": {
           "style": {
            "color": "#0000cd",
            "fillColor": "#0000cd",
            "fillOpacity": 1,
            "weight": 6
           }
          },
          "type": "Feature"
         },
         {
          "geometry": {
           "coordinates": [
            [
             [
              [
               17.9361030219953,
               59.4166823362769
              ],
              [
               17.936104021995302,
               59.4166833362769
              ],
              [
               17.9361020219953,
               59.4166833362769
              ],
              [
               17.9361030219953,
               59.4166823362769
              ]
             ]
            ]
           ],
           "type": "MultiPolygon"
          },
          "properties": {
           "style": {
            "color": "#0000cd",
            "fillColor": "#0000cd",
            "fillOpacity": 1,
            "weight": 6
           }
          },
          "type": "Feature"
         },
         {
          "geometry": {
           "coordinates": [
            [
             [
              [
               17.9361411832747,
               59.4167070118884
              ],
              [
               17.9361421832747,
               59.416708011888396
              ],
              [
               17.9361401832747,
               59.416708011888396
              ],
              [
               17.9361411832747,
               59.4167070118884
              ]
             ]
            ]
           ],
           "type": "MultiPolygon"
          },
          "properties": {
           "style": {
            "color": "#0000cd",
            "fillColor": "#0000cd",
            "fillOpacity": 1,
            "weight": 6
           }
          },
          "type": "Feature"
         },
         {
          "geometry": {
           "coordinates": [
            [
             [
              [
               17.9361793446099,
               59.4167316874882
              ],
              [
               17.9361803446099,
               59.4167326874882
              ],
              [
               17.9361783446099,
               59.4167326874882
              ],
              [
               17.9361793446099,
               59.4167316874882
              ]
             ]
            ]
           ],
           "type": "MultiPolygon"
          },
          "properties": {
           "style": {
            "color": "#0000cd",
            "fillColor": "#0000cd",
            "fillOpacity": 1,
            "weight": 6
           }
          },
          "type": "Feature"
         },
         {
          "geometry": {
           "coordinates": [
            [
             [
              [
               17.9362175060009,
               59.4167563630763
              ],
              [
               17.936218506000902,
               59.4167573630763
              ],
              [
               17.9362165060009,
               59.4167573630763
              ],
              [
               17.9362175060009,
               59.4167563630763
              ]
             ]
            ]
           ],
           "type": "MultiPolygon"
          },
          "properties": {
           "style": {
            "color": "#0000cd",
            "fillColor": "#0000cd",
            "fillOpacity": 1,
            "weight": 6
           }
          },
          "type": "Feature"
         },
         {
          "geometry": {
           "coordinates": [
            [
             [
              [
               17.9295966684313,
               59.4192899968943
              ],
              [
               17.929597668431303,
               59.4192909968943
              ],
              [
               17.9295956684313,
               59.4192909968943
              ],
              [
               17.9295966684313,
               59.4192899968943
              ]
             ]
            ]
           ],
           "type": "MultiPolygon"
          },
          "properties": {
           "style": {
            "color": "#0000cd",
            "fillColor": "#0000cd",
            "fillOpacity": 1,
            "weight": 6
           }
          },
          "type": "Feature"
         },
         {
          "geometry": {
           "coordinates": [
            [
             [
              [
               17.9296362215942,
               59.4193140977553
              ],
              [
               17.929637221594202,
               59.419315097755295
              ],
              [
               17.9296352215942,
               59.419315097755295
              ],
              [
               17.9296362215942,
               59.4193140977553
              ]
             ]
            ]
           ],
           "type": "MultiPolygon"
          },
          "properties": {
           "style": {
            "color": "#0000cd",
            "fillColor": "#0000cd",
            "fillOpacity": 1,
            "weight": 6
           }
          },
          "type": "Feature"
         },
         {
          "geometry": {
           "coordinates": [
            [
             [
              [
               17.9296757748136,
               59.4193381986038
              ],
              [
               17.9296767748136,
               59.4193391986038
              ],
              [
               17.9296747748136,
               59.4193391986038
              ],
              [
               17.9296757748136,
               59.4193381986038
              ]
             ]
            ]
           ],
           "type": "MultiPolygon"
          },
          "properties": {
           "style": {
            "color": "#0000cd",
            "fillColor": "#0000cd",
            "fillOpacity": 1,
            "weight": 6
           }
          },
          "type": "Feature"
         },
         {
          "geometry": {
           "coordinates": [
            [
             [
              [
               17.9297153280893,
               59.4193622994397
              ],
              [
               17.929716328089302,
               59.419363299439695
              ],
              [
               17.9297143280893,
               59.419363299439695
              ],
              [
               17.9297153280893,
               59.4193622994397
              ]
             ]
            ]
           ],
           "type": "MultiPolygon"
          },
          "properties": {
           "style": {
            "color": "#0000cd",
            "fillColor": "#0000cd",
            "fillOpacity": 1,
            "weight": 6
           }
          },
          "type": "Feature"
         },
         {
          "geometry": {
           "coordinates": [
            [
             [
              [
               17.9265215930855,
               59.4210094314985
              ],
              [
               17.9265225930855,
               59.421010431498495
              ],
              [
               17.9265205930855,
               59.421010431498495
              ],
              [
               17.9265215930855,
               59.4210094314985
              ]
             ]
            ]
           ],
           "type": "MultiPolygon"
          },
          "properties": {
           "style": {
            "color": "#0000cd",
            "fillColor": "#0000cd",
            "fillOpacity": 1,
            "weight": 6
           }
          },
          "type": "Feature"
         },
         {
          "geometry": {
           "coordinates": [
            [
             [
              [
               17.9265727833665,
               59.4210269428364
              ],
              [
               17.9265737833665,
               59.421027942836396
              ],
              [
               17.926571783366498,
               59.421027942836396
              ],
              [
               17.9265727833665,
               59.4210269428364
              ]
             ]
            ]
           ],
           "type": "MultiPolygon"
          },
          "properties": {
           "style": {
            "color": "#0000cd",
            "fillColor": "#0000cd",
            "fillOpacity": 1,
            "weight": 6
           }
          },
          "type": "Feature"
         },
         {
          "geometry": {
           "coordinates": [
            [
             [
              [
               17.9266239737001,
               59.4210444541539
              ],
              [
               17.9266249737001,
               59.4210454541539
              ],
              [
               17.9266229737001,
               59.4210454541539
              ],
              [
               17.9266239737001,
               59.4210444541539
              ]
             ]
            ]
           ],
           "type": "MultiPolygon"
          },
          "properties": {
           "style": {
            "color": "#0000cd",
            "fillColor": "#0000cd",
            "fillOpacity": 1,
            "weight": 6
           }
          },
          "type": "Feature"
         },
         {
          "geometry": {
           "coordinates": [
            [
             [
              [
               17.9266751640862,
               59.4210619654507
              ],
              [
               17.9266761640862,
               59.421062965450695
              ],
              [
               17.926674164086197,
               59.421062965450695
              ],
              [
               17.9266751640862,
               59.4210619654507
              ]
             ]
            ]
           ],
           "type": "MultiPolygon"
          },
          "properties": {
           "style": {
            "color": "#0000cd",
            "fillColor": "#0000cd",
            "fillOpacity": 1,
            "weight": 6
           }
          },
          "type": "Feature"
         },
         {
          "geometry": {
           "coordinates": [
            [
             [
              [
               17.9242155117492,
               59.423421102758
              ],
              [
               17.9242165117492,
               59.423422102757996
              ],
              [
               17.9242145117492,
               59.423422102757996
              ],
              [
               17.9242155117492,
               59.423421102758
              ]
             ]
            ]
           ],
           "type": "MultiPolygon"
          },
          "properties": {
           "style": {
            "color": "#0000cd",
            "fillColor": "#0000cd",
            "fillOpacity": 1,
            "weight": 6
           }
          },
          "type": "Feature"
         },
         {
          "geometry": {
           "coordinates": [
            [
             [
              [
               17.9242744704304,
               59.4234302979311
              ],
              [
               17.924275470430402,
               59.423431297931096
              ],
              [
               17.9242734704304,
               59.423431297931096
              ],
              [
               17.9242744704304,
               59.4234302979311
              ]
             ]
            ]
           ],
           "type": "MultiPolygon"
          },
          "properties": {
           "style": {
            "color": "#0000cd",
            "fillColor": "#0000cd",
            "fillOpacity": 1,
            "weight": 6
           }
          },
          "type": "Feature"
         },
         {
          "geometry": {
           "coordinates": [
            [
             [
              [
               17.9243334291429,
               59.4234394930772
              ],
              [
               17.924334429142903,
               59.423440493077194
              ],
              [
               17.9243324291429,
               59.423440493077194
              ],
              [
               17.9243334291429,
               59.4234394930772
              ]
             ]
            ]
           ],
           "type": "MultiPolygon"
          },
          "properties": {
           "style": {
            "color": "#0000cd",
            "fillColor": "#0000cd",
            "fillOpacity": 1,
            "weight": 6
           }
          },
          "type": "Feature"
         },
         {
          "geometry": {
           "coordinates": [
            [
             [
              [
               17.9243923878866,
               59.4234486881965
              ],
              [
               17.9243933878866,
               59.4234496881965
              ],
              [
               17.924391387886597,
               59.4234496881965
              ],
              [
               17.9243923878866,
               59.4234486881965
              ]
             ]
            ]
           ],
           "type": "MultiPolygon"
          },
          "properties": {
           "style": {
            "color": "#0000cd",
            "fillColor": "#0000cd",
            "fillOpacity": 1,
            "weight": 6
           }
          },
          "type": "Feature"
         },
         {
          "geometry": {
           "coordinates": [
            [
             [
              [
               17.9217036938918,
               59.4280015962657
              ],
              [
               17.9217046938918,
               59.4280025962657
              ],
              [
               17.9217026938918,
               59.4280025962657
              ],
              [
               17.9217036938918,
               59.4280015962657
              ]
             ]
            ]
           ],
           "type": "MultiPolygon"
          },
          "properties": {
           "style": {
            "color": "#0000cd",
            "fillColor": "#0000cd",
            "fillOpacity": 1,
            "weight": 6
           }
          },
          "type": "Feature"
         },
         {
          "geometry": {
           "coordinates": [
            [
             [
              [
               17.9217642653406,
               59.428007491379
              ],
              [
               17.9217652653406,
               59.428008491378996
              ],
              [
               17.921763265340598,
               59.428008491378996
              ],
              [
               17.9217642653406,
               59.428007491379
              ]
             ]
            ]
           ],
           "type": "MultiPolygon"
          },
          "properties": {
           "style": {
            "color": "#0000cd",
            "fillColor": "#0000cd",
            "fillOpacity": 1,
            "weight": 6
           }
          },
          "type": "Feature"
         },
         {
          "geometry": {
           "coordinates": [
            [
             [
              [
               17.9218248368096,
               59.4280133864641
              ],
              [
               17.9218258368096,
               59.4280143864641
              ],
              [
               17.921823836809597,
               59.4280143864641
              ],
              [
               17.9218248368096,
               59.4280133864641
              ]
             ]
            ]
           ],
           "type": "MultiPolygon"
          },
          "properties": {
           "style": {
            "color": "#0000cd",
            "fillColor": "#0000cd",
            "fillOpacity": 1,
            "weight": 6
           }
          },
          "type": "Feature"
         },
         {
          "geometry": {
           "coordinates": [
            [
             [
              [
               17.9218854082989,
               59.4280192815209
              ],
              [
               17.9218864082989,
               59.4280202815209
              ],
              [
               17.921884408298897,
               59.4280202815209
              ],
              [
               17.9218854082989,
               59.4280192815209
              ]
             ]
            ]
           ],
           "type": "MultiPolygon"
          },
          "properties": {
           "style": {
            "color": "#0000cd",
            "fillColor": "#0000cd",
            "fillOpacity": 1,
            "weight": 6
           }
          },
          "type": "Feature"
         },
         {
          "geometry": {
           "coordinates": [
            [
             [
              [
               17.921610797037,
               59.4307726816274
              ],
              [
               17.921611797037002,
               59.4307736816274
              ],
              [
               17.921609797037,
               59.4307736816274
              ],
              [
               17.921610797037,
               59.4307726816274
              ]
             ]
            ]
           ],
           "type": "MultiPolygon"
          },
          "properties": {
           "style": {
            "color": "#0000cd",
            "fillColor": "#0000cd",
            "fillOpacity": 1,
            "weight": 6
           }
          },
          "type": "Feature"
         },
         {
          "geometry": {
           "coordinates": [
            [
             [
              [
               17.9216720584389,
               59.4307690636234
              ],
              [
               17.921673058438902,
               59.4307700636234
              ],
              [
               17.9216710584389,
               59.4307700636234
              ],
              [
               17.9216720584389,
               59.4307690636234
              ]
             ]
            ]
           ],
           "type": "MultiPolygon"
          },
          "properties": {
           "style": {
            "color": "#0000cd",
            "fillColor": "#0000cd",
            "fillOpacity": 1,
            "weight": 6
           }
          },
          "type": "Feature"
         },
         {
          "geometry": {
           "coordinates": [
            [
             [
              [
               17.9217333198269,
               59.4307654455907
              ],
              [
               17.9217343198269,
               59.4307664455907
              ],
              [
               17.921732319826898,
               59.4307664455907
              ],
              [
               17.9217333198269,
               59.4307654455907
              ]
             ]
            ]
           ],
           "type": "MultiPolygon"
          },
          "properties": {
           "style": {
            "color": "#0000cd",
            "fillColor": "#0000cd",
            "fillOpacity": 1,
            "weight": 6
           }
          },
          "type": "Feature"
         },
         {
          "geometry": {
           "coordinates": [
            [
             [
              [
               17.9217945812009,
               59.4307618275293
              ],
              [
               17.9217955812009,
               59.4307628275293
              ],
              [
               17.921793581200898,
               59.4307628275293
              ],
              [
               17.9217945812009,
               59.4307618275293
              ]
             ]
            ]
           ],
           "type": "MultiPolygon"
          },
          "properties": {
           "style": {
            "color": "#0000cd",
            "fillColor": "#0000cd",
            "fillOpacity": 1,
            "weight": 6
           }
          },
          "type": "Feature"
         },
         {
          "geometry": {
           "coordinates": [
            [
             [
              [
               17.9234413119898,
               59.4339503767724
              ],
              [
               17.923442311989803,
               59.4339513767724
              ],
              [
               17.9234403119898,
               59.4339513767724
              ],
              [
               17.9234413119898,
               59.4339503767724
              ]
             ]
            ]
           ],
           "type": "MultiPolygon"
          },
          "properties": {
           "style": {
            "color": "#0000cd",
            "fillColor": "#0000cd",
            "fillOpacity": 1,
            "weight": 6
           }
          },
          "type": "Feature"
         },
         {
          "geometry": {
           "coordinates": [
            [
             [
              [
               17.9234998626786,
               59.4339404998727
              ],
              [
               17.9235008626786,
               59.433941499872695
              ],
              [
               17.9234988626786,
               59.433941499872695
              ],
              [
               17.9234998626786,
               59.4339404998727
              ]
             ]
            ]
           ],
           "type": "MultiPolygon"
          },
          "properties": {
           "style": {
            "color": "#0000cd",
            "fillColor": "#0000cd",
            "fillOpacity": 1,
            "weight": 6
           }
          },
          "type": "Feature"
         },
         {
          "geometry": {
           "coordinates": [
            [
             [
              [
               17.9235584133326,
               59.433930622947
              ],
              [
               17.9235594133326,
               59.433931622947
              ],
              [
               17.9235574133326,
               59.433931622947
              ],
              [
               17.9235584133326,
               59.433930622947
              ]
             ]
            ]
           ],
           "type": "MultiPolygon"
          },
          "properties": {
           "style": {
            "color": "#0000cd",
            "fillColor": "#0000cd",
            "fillOpacity": 1,
            "weight": 6
           }
          },
          "type": "Feature"
         },
         {
          "geometry": {
           "coordinates": [
            [
             [
              [
               17.9236169639517,
               59.4339207459953
              ],
              [
               17.923617963951703,
               59.4339217459953
              ],
              [
               17.9236159639517,
               59.4339217459953
              ],
              [
               17.9236169639517,
               59.4339207459953
              ]
             ]
            ]
           ],
           "type": "MultiPolygon"
          },
          "properties": {
           "style": {
            "color": "#0000cd",
            "fillColor": "#0000cd",
            "fillOpacity": 1,
            "weight": 6
           }
          },
          "type": "Feature"
         },
         {
          "geometry": {
           "coordinates": [
            [
             [
              [
               17.9243861062779,
               59.4360473782427
              ],
              [
               17.9243871062779,
               59.436048378242695
              ],
              [
               17.9243851062779,
               59.436048378242695
              ],
              [
               17.9243861062779,
               59.4360473782427
              ]
             ]
            ]
           ],
           "type": "MultiPolygon"
          },
          "properties": {
           "style": {
            "color": "#0000cd",
            "fillColor": "#0000cd",
            "fillOpacity": 1,
            "weight": 6
           }
          },
          "type": "Feature"
         },
         {
          "geometry": {
           "coordinates": [
            [
             [
              [
               17.9244470548408,
               59.4360425499754
              ],
              [
               17.924448054840802,
               59.436043549975395
              ],
              [
               17.9244460548408,
               59.436043549975395
              ],
              [
               17.9244470548408,
               59.4360425499754
              ]
             ]
            ]
           ],
           "type": "MultiPolygon"
          },
          "properties": {
           "style": {
            "color": "#0000cd",
            "fillColor": "#0000cd",
            "fillOpacity": 1,
            "weight": 6
           }
          },
          "type": "Feature"
         },
         {
          "geometry": {
           "coordinates": [
            [
             [
              [
               17.9245080033854,
               59.4360377216799
              ],
              [
               17.924509003385403,
               59.4360387216799
              ],
              [
               17.9245070033854,
               59.4360387216799
              ],
              [
               17.9245080033854,
               59.4360377216799
              ]
             ]
            ]
           ],
           "type": "MultiPolygon"
          },
          "properties": {
           "style": {
            "color": "#0000cd",
            "fillColor": "#0000cd",
            "fillOpacity": 1,
            "weight": 6
           }
          },
          "type": "Feature"
         },
         {
          "geometry": {
           "coordinates": [
            [
             [
              [
               18.0098194381824,
               59.3439499582078
              ],
              [
               18.009820438182402,
               59.3439509582078
              ],
              [
               18.0098184381824,
               59.3439509582078
              ],
              [
               18.0098194381824,
               59.3439499582078
              ]
             ]
            ]
           ],
           "type": "MultiPolygon"
          },
          "properties": {
           "style": {
            "color": "#0000cd",
            "fillColor": "#0000cd",
            "fillOpacity": 1,
            "weight": 6
           }
          },
          "type": "Feature"
         },
         {
          "geometry": {
           "coordinates": [
            [
             [
              [
               18.0098194381824,
               59.3439499582078
              ],
              [
               18.009820438182402,
               59.3439509582078
              ],
              [
               18.0098184381824,
               59.3439509582078
              ],
              [
               18.0098194381824,
               59.3439499582078
              ]
             ]
            ]
           ],
           "type": "MultiPolygon"
          },
          "properties": {
           "style": {
            "color": "#0000cd",
            "fillColor": "#0000cd",
            "fillOpacity": 1,
            "weight": 6
           }
          },
          "type": "Feature"
         },
         {
          "geometry": {
           "coordinates": [
            [
             [
              [
               18.0098194381824,
               59.3439499582078
              ],
              [
               18.009820438182402,
               59.3439509582078
              ],
              [
               18.0098184381824,
               59.3439509582078
              ],
              [
               18.0098194381824,
               59.3439499582078
              ]
             ]
            ]
           ],
           "type": "MultiPolygon"
          },
          "properties": {
           "style": {
            "color": "#0000cd",
            "fillColor": "#0000cd",
            "fillOpacity": 1,
            "weight": 6
           }
          },
          "type": "Feature"
         },
         {
          "geometry": {
           "coordinates": [
            [
             [
              [
               18.0098194381824,
               59.3439499582078
              ],
              [
               18.009820438182402,
               59.3439509582078
              ],
              [
               18.0098184381824,
               59.3439509582078
              ],
              [
               18.0098194381824,
               59.3439499582078
              ]
             ]
            ]
           ],
           "type": "MultiPolygon"
          },
          "properties": {
           "style": {
            "color": "#0000cd",
            "fillColor": "#0000cd",
            "fillOpacity": 1,
            "weight": 6
           }
          },
          "type": "Feature"
         },
         {
          "geometry": {
           "coordinates": [
            [
             [
              [
               18.0107116566637,
               59.3447595016067
              ],
              [
               18.010712656663703,
               59.3447605016067
              ],
              [
               18.0107106566637,
               59.3447605016067
              ],
              [
               18.0107116566637,
               59.3447595016067
              ]
             ]
            ]
           ],
           "type": "MultiPolygon"
          },
          "properties": {
           "style": {
            "color": "#0000cd",
            "fillColor": "#0000cd",
            "fillOpacity": 1,
            "weight": 6
           }
          },
          "type": "Feature"
         },
         {
          "geometry": {
           "coordinates": [
            [
             [
              [
               18.0107116566637,
               59.3447595016067
              ],
              [
               18.010712656663703,
               59.3447605016067
              ],
              [
               18.0107106566637,
               59.3447605016067
              ],
              [
               18.0107116566637,
               59.3447595016067
              ]
             ]
            ]
           ],
           "type": "MultiPolygon"
          },
          "properties": {
           "style": {
            "color": "#0000cd",
            "fillColor": "#0000cd",
            "fillOpacity": 1,
            "weight": 6
           }
          },
          "type": "Feature"
         },
         {
          "geometry": {
           "coordinates": [
            [
             [
              [
               18.0107116566637,
               59.3447595016067
              ],
              [
               18.010712656663703,
               59.3447605016067
              ],
              [
               18.0107106566637,
               59.3447605016067
              ],
              [
               18.0107116566637,
               59.3447595016067
              ]
             ]
            ]
           ],
           "type": "MultiPolygon"
          },
          "properties": {
           "style": {
            "color": "#0000cd",
            "fillColor": "#0000cd",
            "fillOpacity": 1,
            "weight": 6
           }
          },
          "type": "Feature"
         },
         {
          "geometry": {
           "coordinates": [
            [
             [
              [
               18.0107116566637,
               59.3447595016067
              ],
              [
               18.010712656663703,
               59.3447605016067
              ],
              [
               18.0107106566637,
               59.3447605016067
              ],
              [
               18.0107116566637,
               59.3447595016067
              ]
             ]
            ]
           ],
           "type": "MultiPolygon"
          },
          "properties": {
           "style": {
            "color": "#0000cd",
            "fillColor": "#0000cd",
            "fillOpacity": 1,
            "weight": 6
           }
          },
          "type": "Feature"
         },
         {
          "geometry": {
           "coordinates": [
            [
             [
              [
               18.0123479754656,
               59.3452875545758
              ],
              [
               18.012348975465603,
               59.345288554575795
              ],
              [
               18.0123469754656,
               59.345288554575795
              ],
              [
               18.0123479754656,
               59.3452875545758
              ]
             ]
            ]
           ],
           "type": "MultiPolygon"
          },
          "properties": {
           "style": {
            "color": "#0000cd",
            "fillColor": "#0000cd",
            "fillOpacity": 1,
            "weight": 6
           }
          },
          "type": "Feature"
         },
         {
          "geometry": {
           "coordinates": [
            [
             [
              [
               18.0123479754656,
               59.3452875545758
              ],
              [
               18.012348975465603,
               59.345288554575795
              ],
              [
               18.0123469754656,
               59.345288554575795
              ],
              [
               18.0123479754656,
               59.3452875545758
              ]
             ]
            ]
           ],
           "type": "MultiPolygon"
          },
          "properties": {
           "style": {
            "color": "#0000cd",
            "fillColor": "#0000cd",
            "fillOpacity": 1,
            "weight": 6
           }
          },
          "type": "Feature"
         },
         {
          "geometry": {
           "coordinates": [
            [
             [
              [
               18.0123479754656,
               59.3452875545758
              ],
              [
               18.012348975465603,
               59.345288554575795
              ],
              [
               18.0123469754656,
               59.345288554575795
              ],
              [
               18.0123479754656,
               59.3452875545758
              ]
             ]
            ]
           ],
           "type": "MultiPolygon"
          },
          "properties": {
           "style": {
            "color": "#0000cd",
            "fillColor": "#0000cd",
            "fillOpacity": 1,
            "weight": 6
           }
          },
          "type": "Feature"
         },
         {
          "geometry": {
           "coordinates": [
            [
             [
              [
               18.0123479754656,
               59.3452875545758
              ],
              [
               18.012348975465603,
               59.345288554575795
              ],
              [
               18.0123469754656,
               59.345288554575795
              ],
              [
               18.0123479754656,
               59.3452875545758
              ]
             ]
            ]
           ],
           "type": "MultiPolygon"
          },
          "properties": {
           "style": {
            "color": "#0000cd",
            "fillColor": "#0000cd",
            "fillOpacity": 1,
            "weight": 6
           }
          },
          "type": "Feature"
         },
         {
          "geometry": {
           "coordinates": [
            [
             [
              [
               18.0160961833049,
               59.3449308279063
              ],
              [
               18.0160971833049,
               59.3449318279063
              ],
              [
               18.0160951833049,
               59.3449318279063
              ],
              [
               18.0160961833049,
               59.3449308279063
              ]
             ]
            ]
           ],
           "type": "MultiPolygon"
          },
          "properties": {
           "style": {
            "color": "#0000cd",
            "fillColor": "#0000cd",
            "fillOpacity": 1,
            "weight": 6
           }
          },
          "type": "Feature"
         },
         {
          "geometry": {
           "coordinates": [
            [
             [
              [
               18.0160961833049,
               59.3449308279063
              ],
              [
               18.0160971833049,
               59.3449318279063
              ],
              [
               18.0160951833049,
               59.3449318279063
              ],
              [
               18.0160961833049,
               59.3449308279063
              ]
             ]
            ]
           ],
           "type": "MultiPolygon"
          },
          "properties": {
           "style": {
            "color": "#0000cd",
            "fillColor": "#0000cd",
            "fillOpacity": 1,
            "weight": 6
           }
          },
          "type": "Feature"
         },
         {
          "geometry": {
           "coordinates": [
            [
             [
              [
               18.0160961833049,
               59.3449308279063
              ],
              [
               18.0160971833049,
               59.3449318279063
              ],
              [
               18.0160951833049,
               59.3449318279063
              ],
              [
               18.0160961833049,
               59.3449308279063
              ]
             ]
            ]
           ],
           "type": "MultiPolygon"
          },
          "properties": {
           "style": {
            "color": "#0000cd",
            "fillColor": "#0000cd",
            "fillOpacity": 1,
            "weight": 6
           }
          },
          "type": "Feature"
         },
         {
          "geometry": {
           "coordinates": [
            [
             [
              [
               18.0160961833049,
               59.3449308279063
              ],
              [
               18.0160971833049,
               59.3449318279063
              ],
              [
               18.0160951833049,
               59.3449318279063
              ],
              [
               18.0160961833049,
               59.3449308279063
              ]
             ]
            ]
           ],
           "type": "MultiPolygon"
          },
          "properties": {
           "style": {
            "color": "#0000cd",
            "fillColor": "#0000cd",
            "fillOpacity": 1,
            "weight": 6
           }
          },
          "type": "Feature"
         },
         {
          "geometry": {
           "coordinates": [
            [
             [
              [
               18.0201170413498,
               59.3440961522794
              ],
              [
               18.0201180413498,
               59.344097152279396
              ],
              [
               18.020116041349798,
               59.344097152279396
              ],
              [
               18.0201170413498,
               59.3440961522794
              ]
             ]
            ]
           ],
           "type": "MultiPolygon"
          },
          "properties": {
           "style": {
            "color": "#0000cd",
            "fillColor": "#0000cd",
            "fillOpacity": 1,
            "weight": 6
           }
          },
          "type": "Feature"
         },
         {
          "geometry": {
           "coordinates": [
            [
             [
              [
               18.0201170413498,
               59.3440961522794
              ],
              [
               18.0201180413498,
               59.344097152279396
              ],
              [
               18.020116041349798,
               59.344097152279396
              ],
              [
               18.0201170413498,
               59.3440961522794
              ]
             ]
            ]
           ],
           "type": "MultiPolygon"
          },
          "properties": {
           "style": {
            "color": "#0000cd",
            "fillColor": "#0000cd",
            "fillOpacity": 1,
            "weight": 6
           }
          },
          "type": "Feature"
         },
         {
          "geometry": {
           "coordinates": [
            [
             [
              [
               18.0240482989632,
               59.3438543368375
              ],
              [
               18.024049298963202,
               59.3438553368375
              ],
              [
               18.0240472989632,
               59.3438553368375
              ],
              [
               18.0240482989632,
               59.3438543368375
              ]
             ]
            ]
           ],
           "type": "MultiPolygon"
          },
          "properties": {
           "style": {
            "color": "#0000cd",
            "fillColor": "#0000cd",
            "fillOpacity": 1,
            "weight": 6
           }
          },
          "type": "Feature"
         },
         {
          "geometry": {
           "coordinates": [
            [
             [
              [
               18.0240482989632,
               59.3438543368375
              ],
              [
               18.024049298963202,
               59.3438553368375
              ],
              [
               18.0240472989632,
               59.3438553368375
              ],
              [
               18.0240482989632,
               59.3438543368375
              ]
             ]
            ]
           ],
           "type": "MultiPolygon"
          },
          "properties": {
           "style": {
            "color": "#0000cd",
            "fillColor": "#0000cd",
            "fillOpacity": 1,
            "weight": 6
           }
          },
          "type": "Feature"
         },
         {
          "geometry": {
           "coordinates": [
            [
             [
              [
               18.0272809738238,
               59.344628754381
              ],
              [
               18.0272819738238,
               59.344629754380996
              ],
              [
               18.0272799738238,
               59.344629754380996
              ],
              [
               18.0272809738238,
               59.344628754381
              ]
             ]
            ]
           ],
           "type": "MultiPolygon"
          },
          "properties": {
           "style": {
            "color": "#0000cd",
            "fillColor": "#0000cd",
            "fillOpacity": 1,
            "weight": 6
           }
          },
          "type": "Feature"
         },
         {
          "geometry": {
           "coordinates": [
            [
             [
              [
               18.0272809738238,
               59.344628754381
              ],
              [
               18.0272819738238,
               59.344629754380996
              ],
              [
               18.0272799738238,
               59.344629754380996
              ],
              [
               18.0272809738238,
               59.344628754381
              ]
             ]
            ]
           ],
           "type": "MultiPolygon"
          },
          "properties": {
           "style": {
            "color": "#0000cd",
            "fillColor": "#0000cd",
            "fillOpacity": 1,
            "weight": 6
           }
          },
          "type": "Feature"
         },
         {
          "geometry": {
           "coordinates": [
            [
             [
              [
               18.0307046940983,
               59.3468488972369
              ],
              [
               18.0307056940983,
               59.3468498972369
              ],
              [
               18.0307036940983,
               59.3468498972369
              ],
              [
               18.0307046940983,
               59.3468488972369
              ]
             ]
            ]
           ],
           "type": "MultiPolygon"
          },
          "properties": {
           "style": {
            "color": "#0000cd",
            "fillColor": "#0000cd",
            "fillOpacity": 1,
            "weight": 6
           }
          },
          "type": "Feature"
         },
         {
          "geometry": {
           "coordinates": [
            [
             [
              [
               18.0307046940983,
               59.3468488972369
              ],
              [
               18.0307056940983,
               59.3468498972369
              ],
              [
               18.0307036940983,
               59.3468498972369
              ],
              [
               18.0307046940983,
               59.3468488972369
              ]
             ]
            ]
           ],
           "type": "MultiPolygon"
          },
          "properties": {
           "style": {
            "color": "#0000cd",
            "fillColor": "#0000cd",
            "fillOpacity": 1,
            "weight": 6
           }
          },
          "type": "Feature"
         },
         {
          "geometry": {
           "coordinates": [
            [
             [
              [
               18.0310675206172,
               59.3470495996281
              ],
              [
               18.0310685206172,
               59.3470505996281
              ],
              [
               18.0310665206172,
               59.3470505996281
              ],
              [
               18.0310675206172,
               59.3470495996281
              ]
             ]
            ]
           ],
           "type": "MultiPolygon"
          },
          "properties": {
           "style": {
            "color": "#0000cd",
            "fillColor": "#0000cd",
            "fillOpacity": 1,
            "weight": 6
           }
          },
          "type": "Feature"
         },
         {
          "geometry": {
           "coordinates": [
            [
             [
              [
               18.0310675206172,
               59.3470495996281
              ],
              [
               18.0310685206172,
               59.3470505996281
              ],
              [
               18.0310665206172,
               59.3470505996281
              ],
              [
               18.0310675206172,
               59.3470495996281
              ]
             ]
            ]
           ],
           "type": "MultiPolygon"
          },
          "properties": {
           "style": {
            "color": "#0000cd",
            "fillColor": "#0000cd",
            "fillOpacity": 1,
            "weight": 6
           }
          },
          "type": "Feature"
         },
         {
          "geometry": {
           "coordinates": [
            [
             [
              [
               18.0310675206172,
               59.3470495996281
              ],
              [
               18.0310685206172,
               59.3470505996281
              ],
              [
               18.0310665206172,
               59.3470505996281
              ],
              [
               18.0310675206172,
               59.3470495996281
              ]
             ]
            ]
           ],
           "type": "MultiPolygon"
          },
          "properties": {
           "style": {
            "color": "#0000cd",
            "fillColor": "#0000cd",
            "fillOpacity": 1,
            "weight": 6
           }
          },
          "type": "Feature"
         },
         {
          "geometry": {
           "coordinates": [
            [
             [
              [
               18.0310675206172,
               59.3470495996281
              ],
              [
               18.0310685206172,
               59.3470505996281
              ],
              [
               18.0310665206172,
               59.3470505996281
              ],
              [
               18.0310675206172,
               59.3470495996281
              ]
             ]
            ]
           ],
           "type": "MultiPolygon"
          },
          "properties": {
           "style": {
            "color": "#0000cd",
            "fillColor": "#0000cd",
            "fillOpacity": 1,
            "weight": 6
           }
          },
          "type": "Feature"
         },
         {
          "geometry": {
           "coordinates": [
            [
             [
              [
               18.0334183360793,
               59.3480211661276
              ],
              [
               18.0334193360793,
               59.3480221661276
              ],
              [
               18.0334173360793,
               59.3480221661276
              ],
              [
               18.0334183360793,
               59.3480211661276
              ]
             ]
            ]
           ],
           "type": "MultiPolygon"
          },
          "properties": {
           "style": {
            "color": "#0000cd",
            "fillColor": "#0000cd",
            "fillOpacity": 1,
            "weight": 6
           }
          },
          "type": "Feature"
         },
         {
          "geometry": {
           "coordinates": [
            [
             [
              [
               18.0334183360793,
               59.3480211661276
              ],
              [
               18.0334193360793,
               59.3480221661276
              ],
              [
               18.0334173360793,
               59.3480221661276
              ],
              [
               18.0334183360793,
               59.3480211661276
              ]
             ]
            ]
           ],
           "type": "MultiPolygon"
          },
          "properties": {
           "style": {
            "color": "#0000cd",
            "fillColor": "#0000cd",
            "fillOpacity": 1,
            "weight": 6
           }
          },
          "type": "Feature"
         },
         {
          "geometry": {
           "coordinates": [
            [
             [
              [
               18.0334183360793,
               59.3480211661276
              ],
              [
               18.0334193360793,
               59.3480221661276
              ],
              [
               18.0334173360793,
               59.3480221661276
              ],
              [
               18.0334183360793,
               59.3480211661276
              ]
             ]
            ]
           ],
           "type": "MultiPolygon"
          },
          "properties": {
           "style": {
            "color": "#0000cd",
            "fillColor": "#0000cd",
            "fillOpacity": 1,
            "weight": 6
           }
          },
          "type": "Feature"
         },
         {
          "geometry": {
           "coordinates": [
            [
             [
              [
               18.0334183360793,
               59.3480211661276
              ],
              [
               18.0334193360793,
               59.3480221661276
              ],
              [
               18.0334173360793,
               59.3480221661276
              ],
              [
               18.0334183360793,
               59.3480211661276
              ]
             ]
            ]
           ],
           "type": "MultiPolygon"
          },
          "properties": {
           "style": {
            "color": "#0000cd",
            "fillColor": "#0000cd",
            "fillOpacity": 1,
            "weight": 6
           }
          },
          "type": "Feature"
         },
         {
          "geometry": {
           "coordinates": [
            [
             [
              [
               18.0349508582365,
               59.3486308205961
              ],
              [
               18.0349518582365,
               59.3486318205961
              ],
              [
               18.034949858236498,
               59.3486318205961
              ],
              [
               18.0349508582365,
               59.3486308205961
              ]
             ]
            ]
           ],
           "type": "MultiPolygon"
          },
          "properties": {
           "style": {
            "color": "#0000cd",
            "fillColor": "#0000cd",
            "fillOpacity": 1,
            "weight": 6
           }
          },
          "type": "Feature"
         },
         {
          "geometry": {
           "coordinates": [
            [
             [
              [
               18.0349508582365,
               59.3486308205961
              ],
              [
               18.0349518582365,
               59.3486318205961
              ],
              [
               18.034949858236498,
               59.3486318205961
              ],
              [
               18.0349508582365,
               59.3486308205961
              ]
             ]
            ]
           ],
           "type": "MultiPolygon"
          },
          "properties": {
           "style": {
            "color": "#0000cd",
            "fillColor": "#0000cd",
            "fillOpacity": 1,
            "weight": 6
           }
          },
          "type": "Feature"
         },
         {
          "geometry": {
           "coordinates": [
            [
             [
              [
               18.0369219010436,
               59.3494697886562
              ],
              [
               18.0369229010436,
               59.3494707886562
              ],
              [
               18.036920901043597,
               59.3494707886562
              ],
              [
               18.0369219010436,
               59.3494697886562
              ]
             ]
            ]
           ],
           "type": "MultiPolygon"
          },
          "properties": {
           "style": {
            "color": "#0000cd",
            "fillColor": "#0000cd",
            "fillOpacity": 1,
            "weight": 6
           }
          },
          "type": "Feature"
         },
         {
          "geometry": {
           "coordinates": [
            [
             [
              [
               18.0369219010436,
               59.3494697886562
              ],
              [
               18.0369229010436,
               59.3494707886562
              ],
              [
               18.036920901043597,
               59.3494707886562
              ],
              [
               18.0369219010436,
               59.3494697886562
              ]
             ]
            ]
           ],
           "type": "MultiPolygon"
          },
          "properties": {
           "style": {
            "color": "#0000cd",
            "fillColor": "#0000cd",
            "fillOpacity": 1,
            "weight": 6
           }
          },
          "type": "Feature"
         },
         {
          "geometry": {
           "coordinates": [
            [
             [
              [
               18.037993843334,
               59.3499256116582
              ],
              [
               18.037994843334,
               59.3499266116582
              ],
              [
               18.037992843334,
               59.3499266116582
              ],
              [
               18.037993843334,
               59.3499256116582
              ]
             ]
            ]
           ],
           "type": "MultiPolygon"
          },
          "properties": {
           "style": {
            "color": "#0000cd",
            "fillColor": "#0000cd",
            "fillOpacity": 1,
            "weight": 6
           }
          },
          "type": "Feature"
         },
         {
          "geometry": {
           "coordinates": [
            [
             [
              [
               18.037993843334,
               59.3499256116582
              ],
              [
               18.037994843334,
               59.3499266116582
              ],
              [
               18.037992843334,
               59.3499266116582
              ],
              [
               18.037993843334,
               59.3499256116582
              ]
             ]
            ]
           ],
           "type": "MultiPolygon"
          },
          "properties": {
           "style": {
            "color": "#0000cd",
            "fillColor": "#0000cd",
            "fillOpacity": 1,
            "weight": 6
           }
          },
          "type": "Feature"
         },
         {
          "geometry": {
           "coordinates": [
            [
             [
              [
               18.0385783671706,
               59.3502291520822
              ],
              [
               18.038579367170602,
               59.3502301520822
              ],
              [
               18.0385773671706,
               59.3502301520822
              ],
              [
               18.0385783671706,
               59.3502291520822
              ]
             ]
            ]
           ],
           "type": "MultiPolygon"
          },
          "properties": {
           "style": {
            "color": "#0000cd",
            "fillColor": "#0000cd",
            "fillOpacity": 1,
            "weight": 6
           }
          },
          "type": "Feature"
         },
         {
          "geometry": {
           "coordinates": [
            [
             [
              [
               18.0385783671706,
               59.3502291520822
              ],
              [
               18.038579367170602,
               59.3502301520822
              ],
              [
               18.0385773671706,
               59.3502301520822
              ],
              [
               18.0385783671706,
               59.3502291520822
              ]
             ]
            ]
           ],
           "type": "MultiPolygon"
          },
          "properties": {
           "style": {
            "color": "#0000cd",
            "fillColor": "#0000cd",
            "fillOpacity": 1,
            "weight": 6
           }
          },
          "type": "Feature"
         },
         {
          "geometry": {
           "coordinates": [
            [
             [
              [
               18.0393432513248,
               59.3508349608037
              ],
              [
               18.039344251324803,
               59.3508359608037
              ],
              [
               18.0393422513248,
               59.3508359608037
              ],
              [
               18.0393432513248,
               59.3508349608037
              ]
             ]
            ]
           ],
           "type": "MultiPolygon"
          },
          "properties": {
           "style": {
            "color": "#0000cd",
            "fillColor": "#0000cd",
            "fillOpacity": 1,
            "weight": 6
           }
          },
          "type": "Feature"
         },
         {
          "geometry": {
           "coordinates": [
            [
             [
              [
               18.0393432513248,
               59.3508349608037
              ],
              [
               18.039344251324803,
               59.3508359608037
              ],
              [
               18.0393422513248,
               59.3508359608037
              ],
              [
               18.0393432513248,
               59.3508349608037
              ]
             ]
            ]
           ],
           "type": "MultiPolygon"
          },
          "properties": {
           "style": {
            "color": "#0000cd",
            "fillColor": "#0000cd",
            "fillOpacity": 1,
            "weight": 6
           }
          },
          "type": "Feature"
         },
         {
          "geometry": {
           "coordinates": [
            [
             [
              [
               18.0397264555703,
               59.3515260197842
              ],
              [
               18.0397274555703,
               59.3515270197842
              ],
              [
               18.0397254555703,
               59.3515270197842
              ],
              [
               18.0397264555703,
               59.3515260197842
              ]
             ]
            ]
           ],
           "type": "MultiPolygon"
          },
          "properties": {
           "style": {
            "color": "#0000cd",
            "fillColor": "#0000cd",
            "fillOpacity": 1,
            "weight": 6
           }
          },
          "type": "Feature"
         },
         {
          "geometry": {
           "coordinates": [
            [
             [
              [
               18.0397264555703,
               59.3515260197842
              ],
              [
               18.0397274555703,
               59.3515270197842
              ],
              [
               18.0397254555703,
               59.3515270197842
              ],
              [
               18.0397264555703,
               59.3515260197842
              ]
             ]
            ]
           ],
           "type": "MultiPolygon"
          },
          "properties": {
           "style": {
            "color": "#0000cd",
            "fillColor": "#0000cd",
            "fillOpacity": 1,
            "weight": 6
           }
          },
          "type": "Feature"
         },
         {
          "geometry": {
           "coordinates": [
            [
             [
              [
               18.0397452625391,
               59.3522540768915
              ],
              [
               18.0397462625391,
               59.352255076891495
              ],
              [
               18.0397442625391,
               59.352255076891495
              ],
              [
               18.0397452625391,
               59.3522540768915
              ]
             ]
            ]
           ],
           "type": "MultiPolygon"
          },
          "properties": {
           "style": {
            "color": "#0000cd",
            "fillColor": "#0000cd",
            "fillOpacity": 1,
            "weight": 6
           }
          },
          "type": "Feature"
         },
         {
          "geometry": {
           "coordinates": [
            [
             [
              [
               18.0397452625391,
               59.3522540768915
              ],
              [
               18.0397462625391,
               59.352255076891495
              ],
              [
               18.0397442625391,
               59.352255076891495
              ],
              [
               18.0397452625391,
               59.3522540768915
              ]
             ]
            ]
           ],
           "type": "MultiPolygon"
          },
          "properties": {
           "style": {
            "color": "#0000cd",
            "fillColor": "#0000cd",
            "fillOpacity": 1,
            "weight": 6
           }
          },
          "type": "Feature"
         },
         {
          "geometry": {
           "coordinates": [
            [
             [
              [
               18.0388320883116,
               59.3533862897762
              ],
              [
               18.038833088311602,
               59.3533872897762
              ],
              [
               18.0388310883116,
               59.3533872897762
              ],
              [
               18.0388320883116,
               59.3533862897762
              ]
             ]
            ]
           ],
           "type": "MultiPolygon"
          },
          "properties": {
           "style": {
            "color": "#0000cd",
            "fillColor": "#0000cd",
            "fillOpacity": 1,
            "weight": 6
           }
          },
          "type": "Feature"
         },
         {
          "geometry": {
           "coordinates": [
            [
             [
              [
               18.0389132015362,
               59.3534097391879
              ],
              [
               18.0389142015362,
               59.3534107391879
              ],
              [
               18.0389122015362,
               59.3534107391879
              ],
              [
               18.0389132015362,
               59.3534097391879
              ]
             ]
            ]
           ],
           "type": "MultiPolygon"
          },
          "properties": {
           "style": {
            "color": "#0000cd",
            "fillColor": "#0000cd",
            "fillOpacity": 1,
            "weight": 6
           }
          },
          "type": "Feature"
         },
         {
          "geometry": {
           "coordinates": [
            [
             [
              [
               18.0392591862804,
               59.3530340428509
              ],
              [
               18.0392601862804,
               59.3530350428509
              ],
              [
               18.0392581862804,
               59.3530350428509
              ],
              [
               18.0392591862804,
               59.3530340428509
              ]
             ]
            ]
           ],
           "type": "MultiPolygon"
          },
          "properties": {
           "style": {
            "color": "#0000cd",
            "fillColor": "#0000cd",
            "fillOpacity": 1,
            "weight": 6
           }
          },
          "type": "Feature"
         },
         {
          "geometry": {
           "coordinates": [
            [
             [
              [
               18.0393295205962,
               59.3530530705792
              ],
              [
               18.039330520596202,
               59.3530540705792
              ],
              [
               18.0393285205962,
               59.3530540705792
              ],
              [
               18.0393295205962,
               59.3530530705792
              ]
             ]
            ]
           ],
           "type": "MultiPolygon"
          },
          "properties": {
           "style": {
            "color": "#0000cd",
            "fillColor": "#0000cd",
            "fillOpacity": 1,
            "weight": 6
           }
          },
          "type": "Feature"
         }
        ],
        "type": "FeatureCollection"
       },
       "msg_throttle": 1
      }
     },
     "6b561cc3a4144ec981b674aebdabfafc": {
      "model_module": "jupyter-leaflet",
      "model_module_version": "*",
      "model_name": "LeafletTileLayerModel",
      "state": {
       "_model_module_version": "*",
       "_view_module_version": "*",
       "msg_throttle": 1,
       "options": [
        "attribution",
        "detect_retina",
        "max_zoom",
        "min_zoom",
        "opacity",
        "tile_size"
       ],
       "url": "http://a.tile.basemaps.cartocdn.com/light_all/{z}/{x}/{y}.png"
      }
     },
     "82041edeb39d4742833ca6f53b7e14dd": {
      "model_module": "jupyter-leaflet",
      "model_module_version": "*",
      "model_name": "LeafletGeoJSONModel",
      "state": {
       "_model_module_version": "*",
       "_view_module_version": "*",
       "data": {
        "features": [
         {
          "geometry": {
           "coordinates": [
            [
             [
              [
               18.0145935812988,
               59.3061715354529
              ],
              [
               18.0150935812988,
               59.3066715354529
              ],
              [
               18.014093581298802,
               59.3066715354529
              ],
              [
               18.0145935812988,
               59.3061715354529
              ]
             ]
            ]
           ],
           "type": "MultiPolygon"
          },
          "properties": {
           "style": {
            "color": "#000080",
            "fillColor": "#000080",
            "fillOpacity": 1,
            "weight": 5
           }
          },
          "type": "Feature"
         },
         {
          "geometry": {
           "coordinates": [
            [
             [
              [
               18.0045653546653,
               59.2964651280904
              ],
              [
               18.005065354665298,
               59.2969651280904
              ],
              [
               18.0040653546653,
               59.2969651280904
              ],
              [
               18.0045653546653,
               59.2964651280904
              ]
             ]
            ]
           ],
           "type": "MultiPolygon"
          },
          "properties": {
           "style": {
            "color": "#000080",
            "fillColor": "#000080",
            "fillOpacity": 1,
            "weight": 5
           }
          },
          "type": "Feature"
         },
         {
          "geometry": {
           "coordinates": [
            [
             [
              [
               18.0103796831396,
               59.3313027635998
              ],
              [
               18.0108796831396,
               59.3318027635998
              ],
              [
               18.0098796831396,
               59.3318027635998
              ],
              [
               18.0103796831396,
               59.3313027635998
              ]
             ]
            ]
           ],
           "type": "MultiPolygon"
          },
          "properties": {
           "style": {
            "color": "#000080",
            "fillColor": "#000080",
            "fillOpacity": 1,
            "weight": 5
           }
          },
          "type": "Feature"
         },
         {
          "geometry": {
           "coordinates": [
            [
             [
              [
               18.0090761800786,
               59.3285118961436
              ],
              [
               18.0095761800786,
               59.329011896143605
              ],
              [
               18.008576180078602,
               59.329011896143605
              ],
              [
               18.0090761800786,
               59.3285118961436
              ]
             ]
            ]
           ],
           "type": "MultiPolygon"
          },
          "properties": {
           "style": {
            "color": "#000080",
            "fillColor": "#000080",
            "fillOpacity": 1,
            "weight": 5
           }
          },
          "type": "Feature"
         },
         {
          "geometry": {
           "coordinates": [
            [
             [
              [
               17.9795488107377,
               59.2888945638116
              ],
              [
               17.9800488107377,
               59.289394563811605
              ],
              [
               17.9790488107377,
               59.289394563811605
              ],
              [
               17.9795488107377,
               59.2888945638116
              ]
             ]
            ]
           ],
           "type": "MultiPolygon"
          },
          "properties": {
           "style": {
            "color": "#000080",
            "fillColor": "#000080",
            "fillOpacity": 1,
            "weight": 5
           }
          },
          "type": "Feature"
         },
         {
          "geometry": {
           "coordinates": [
            [
             [
              [
               18.0090180325934,
               59.3285221069147
              ],
              [
               18.009518032593398,
               59.3290221069147
              ],
              [
               18.0085180325934,
               59.3290221069147
              ],
              [
               18.0090180325934,
               59.3285221069147
              ]
             ]
            ]
           ],
           "type": "MultiPolygon"
          },
          "properties": {
           "style": {
            "color": "#000080",
            "fillColor": "#000080",
            "fillOpacity": 1,
            "weight": 5
           }
          },
          "type": "Feature"
         }
        ],
        "type": "FeatureCollection"
       },
       "msg_throttle": 1
      }
     },
     "839d19606f044dde8df503fba948745c": {
      "model_module": "jupyter-js-widgets",
      "model_module_version": "~2.1.4",
      "model_name": "LayoutModel",
      "state": {
       "_model_module_version": "~2.1.4",
       "_view_module_version": "~2.1.4",
       "height": "600px",
       "width": "100%"
      }
     },
     "8c759bee15054f55ab36a3b73ade3092": {
      "model_module": "jupyter-leaflet",
      "model_module_version": "*",
      "model_name": "LeafletGeoJSONModel",
      "state": {
       "_model_module_version": "*",
       "_view_module_version": "*",
       "data": {
        "features": [
         {
          "geometry": {
           "coordinates": [
            [
             [
              [
               18.0103705235202,
               59.3079615451541
              ],
              [
               18.0108705235202,
               59.3084615451541
              ],
              [
               18.009870523520203,
               59.3084615451541
              ],
              [
               18.0103705235202,
               59.3079615451541
              ]
             ]
            ]
           ],
           "type": "MultiPolygon"
          },
          "properties": {
           "style": {
            "color": "#b0c4de",
            "fillColor": "#b0c4de",
            "fillOpacity": 0.8,
            "weight": 5
           }
          },
          "type": "Feature"
         },
         {
          "geometry": {
           "coordinates": [
            [
             [
              [
               18.0100706572853,
               59.3299896513145
              ],
              [
               18.0105706572853,
               59.3304896513145
              ],
              [
               18.009570657285302,
               59.3304896513145
              ],
              [
               18.0100706572853,
               59.3299896513145
              ]
             ]
            ]
           ],
           "type": "MultiPolygon"
          },
          "properties": {
           "style": {
            "color": "#b0c4de",
            "fillColor": "#b0c4de",
            "fillOpacity": 0.8,
            "weight": 5
           }
          },
          "type": "Feature"
         },
         {
          "geometry": {
           "coordinates": [
            [
             [
              [
               18.0112337205448,
               59.2990996993266
              ],
              [
               18.0117337205448,
               59.2995996993266
              ],
              [
               18.010733720544803,
               59.2995996993266
              ],
              [
               18.0112337205448,
               59.2990996993266
              ]
             ]
            ]
           ],
           "type": "MultiPolygon"
          },
          "properties": {
           "style": {
            "color": "#b0c4de",
            "fillColor": "#b0c4de",
            "fillOpacity": 0.8,
            "weight": 5
           }
          },
          "type": "Feature"
         },
         {
          "geometry": {
           "coordinates": [
            [
             [
              [
               18.0064067676065,
               59.297673080827
              ],
              [
               18.006906767606498,
               59.298173080827006
              ],
              [
               18.0059067676065,
               59.298173080827006
              ],
              [
               18.0064067676065,
               59.297673080827
              ]
             ]
            ]
           ],
           "type": "MultiPolygon"
          },
          "properties": {
           "style": {
            "color": "#b0c4de",
            "fillColor": "#b0c4de",
            "fillOpacity": 0.8,
            "weight": 5
           }
          },
          "type": "Feature"
         },
         {
          "geometry": {
           "coordinates": [
            [
             [
              [
               18.0104160080202,
               59.3079826706894
              ],
              [
               18.0109160080202,
               59.3084826706894
              ],
              [
               18.009916008020202,
               59.3084826706894
              ],
              [
               18.0104160080202,
               59.3079826706894
              ]
             ]
            ]
           ],
           "type": "MultiPolygon"
          },
          "properties": {
           "style": {
            "color": "#b0c4de",
            "fillColor": "#b0c4de",
            "fillOpacity": 0.8,
            "weight": 5
           }
          },
          "type": "Feature"
         },
         {
          "geometry": {
           "coordinates": [
            [
             [
              [
               18.0189095912159,
               59.3004834308655
              ],
              [
               18.019409591215897,
               59.3009834308655
              ],
              [
               18.0184095912159,
               59.3009834308655
              ],
              [
               18.0189095912159,
               59.3004834308655
              ]
             ]
            ]
           ],
           "type": "MultiPolygon"
          },
          "properties": {
           "style": {
            "color": "#b0c4de",
            "fillColor": "#b0c4de",
            "fillOpacity": 0.8,
            "weight": 5
           }
          },
          "type": "Feature"
         },
         {
          "geometry": {
           "coordinates": [
            [
             [
              [
               18.0103250390766,
               59.3079404196023
              ],
              [
               18.0108250390766,
               59.308440419602306
              ],
              [
               18.009825039076603,
               59.308440419602306
              ],
              [
               18.0103250390766,
               59.3079404196023
              ]
             ]
            ]
           ],
           "type": "MultiPolygon"
          },
          "properties": {
           "style": {
            "color": "#b0c4de",
            "fillColor": "#b0c4de",
            "fillOpacity": 0.8,
            "weight": 5
           }
          },
          "type": "Feature"
         },
         {
          "geometry": {
           "coordinates": [
            [
             [
              [
               18.0062637227783,
               59.3262710269433
              ],
              [
               18.0067637227783,
               59.326771026943305
              ],
              [
               18.0057637227783,
               59.326771026943305
              ],
              [
               18.0062637227783,
               59.3262710269433
              ]
             ]
            ]
           ],
           "type": "MultiPolygon"
          },
          "properties": {
           "style": {
            "color": "#b0c4de",
            "fillColor": "#b0c4de",
            "fillOpacity": 0.8,
            "weight": 5
           }
          },
          "type": "Feature"
         }
        ],
        "type": "FeatureCollection"
       },
       "msg_throttle": 1
      }
     },
     "a72bf97aa13e4e4dacdc384f9984b9e9": {
      "model_module": "jupyter-leaflet",
      "model_module_version": "*",
      "model_name": "LeafletGeoJSONModel",
      "state": {
       "_model_module_version": "*",
       "_view_module_version": "*",
       "data": {
        "features": [
         {
          "geometry": {
           "coordinates": [
            [
             [
              [
               18.0064490497894,
               59.2976502885032
              ],
              [
               18.006949049789398,
               59.2981502885032
              ],
              [
               18.0059490497894,
               59.2981502885032
              ],
              [
               18.0064490497894,
               59.2976502885032
              ]
             ]
            ]
           ],
           "type": "MultiPolygon"
          },
          "properties": {
           "style": {
            "color": "#e0ffff",
            "fillColor": "#e0ffff",
            "fillOpacity": 0.7,
            "weight": 5
           }
          },
          "type": "Feature"
         },
         {
          "geometry": {
           "coordinates": [
            [
             [
              [
               18.0081958293276,
               59.3094698546781
              ],
              [
               18.0086958293276,
               59.3099698546781
              ],
              [
               18.007695829327602,
               59.3099698546781
              ],
              [
               18.0081958293276,
               59.3094698546781
              ]
             ]
            ]
           ],
           "type": "MultiPolygon"
          },
          "properties": {
           "style": {
            "color": "#e0ffff",
            "fillColor": "#e0ffff",
            "fillOpacity": 0.7,
            "weight": 5
           }
          },
          "type": "Feature"
         },
         {
          "geometry": {
           "coordinates": [
            [
             [
              [
               18.008360216236,
               59.3095125179911
              ],
              [
               18.008860216236,
               59.310012517991105
              ],
              [
               18.007860216236,
               59.310012517991105
              ],
              [
               18.008360216236,
               59.3095125179911
              ]
             ]
            ]
           ],
           "type": "MultiPolygon"
          },
          "properties": {
           "style": {
            "color": "#e0ffff",
            "fillColor": "#e0ffff",
            "fillOpacity": 0.7,
            "weight": 5
           }
          },
          "type": "Feature"
         },
         {
          "geometry": {
           "coordinates": [
            [
             [
              [
               18.0089598850726,
               59.3285323176602
              ],
              [
               18.009459885072598,
               59.3290323176602
              ],
              [
               18.0084598850726,
               59.3290323176602
              ],
              [
               18.0089598850726,
               59.3285323176602
              ]
             ]
            ]
           ],
           "type": "MultiPolygon"
          },
          "properties": {
           "style": {
            "color": "#e0ffff",
            "fillColor": "#e0ffff",
            "fillOpacity": 0.7,
            "weight": 5
           }
          },
          "type": "Feature"
         },
         {
          "geometry": {
           "coordinates": [
            [
             [
              [
               18.0081212063986,
               59.3272948151463
              ],
              [
               18.008621206398598,
               59.327794815146305
              ],
              [
               18.0076212063986,
               59.327794815146305
              ],
              [
               18.0081212063986,
               59.3272948151463
              ]
             ]
            ]
           ],
           "type": "MultiPolygon"
          },
          "properties": {
           "style": {
            "color": "#e0ffff",
            "fillColor": "#e0ffff",
            "fillOpacity": 0.7,
            "weight": 5
           }
          },
          "type": "Feature"
         },
         {
          "geometry": {
           "coordinates": [
            [
             [
              [
               18.0091343275281,
               59.3285016853468
              ],
              [
               18.009634327528097,
               59.3290016853468
              ],
              [
               18.0086343275281,
               59.3290016853468
              ],
              [
               18.0091343275281,
               59.3285016853468
              ]
             ]
            ]
           ],
           "type": "MultiPolygon"
          },
          "properties": {
           "style": {
            "color": "#e0ffff",
            "fillColor": "#e0ffff",
            "fillOpacity": 0.7,
            "weight": 5
           }
          },
          "type": "Feature"
         },
         {
          "geometry": {
           "coordinates": [
            [
             [
              [
               18.0054078526642,
               59.3125184625141
              ],
              [
               18.005907852664198,
               59.3130184625141
              ],
              [
               18.0049078526642,
               59.3130184625141
              ],
              [
               18.0054078526642,
               59.3125184625141
              ]
             ]
            ]
           ],
           "type": "MultiPolygon"
          },
          "properties": {
           "style": {
            "color": "#e0ffff",
            "fillColor": "#e0ffff",
            "fillOpacity": 0.7,
            "weight": 5
           }
          },
          "type": "Feature"
         },
         {
          "geometry": {
           "coordinates": [
            [
             [
              [
               18.0062978235627,
               59.3262448835171
              ],
              [
               18.0067978235627,
               59.3267448835171
              ],
              [
               18.005797823562702,
               59.3267448835171
              ],
              [
               18.0062978235627,
               59.3262448835171
              ]
             ]
            ]
           ],
           "type": "MultiPolygon"
          },
          "properties": {
           "style": {
            "color": "#e0ffff",
            "fillColor": "#e0ffff",
            "fillOpacity": 0.7,
            "weight": 5
           }
          },
          "type": "Feature"
         },
         {
          "geometry": {
           "coordinates": [
            [
             [
              [
               18.0090180325934,
               59.3285221069147
              ],
              [
               18.009518032593398,
               59.3290221069147
              ],
              [
               18.0085180325934,
               59.3290221069147
              ],
              [
               18.0090180325934,
               59.3285221069147
              ]
             ]
            ]
           ],
           "type": "MultiPolygon"
          },
          "properties": {
           "style": {
            "color": "#e0ffff",
            "fillColor": "#e0ffff",
            "fillOpacity": 0.7,
            "weight": 5
           }
          },
          "type": "Feature"
         }
        ],
        "type": "FeatureCollection"
       },
       "msg_throttle": 1
      }
     },
     "aec7d4c778154ef2a98edcecc19363f3": {
      "model_module": "jupyter-leaflet",
      "model_module_version": "*",
      "model_name": "LeafletGeoJSONModel",
      "state": {
       "_model_module_version": "*",
       "_view_module_version": "*",
       "data": {
        "features": [
         {
          "geometry": {
           "coordinates": [
            [
             [
              [
               18.0080151298459,
               59.3273265987358
              ],
              [
               18.0085151298459,
               59.327826598735804
              ],
              [
               18.007515129845903,
               59.327826598735804
              ],
              [
               18.0080151298459,
               59.3273265987358
              ]
             ]
            ]
           ],
           "type": "MultiPolygon"
          },
          "properties": {
           "style": {
            "color": "#6495ed",
            "fillColor": "#6495ed",
            "fillOpacity": 0.9,
            "weight": 5
           }
          },
          "type": "Feature"
         },
         {
          "geometry": {
           "coordinates": [
            [
             [
              [
               18.0144854785444,
               59.3060951878408
              ],
              [
               18.0149854785444,
               59.306595187840806
              ],
              [
               18.013985478544402,
               59.306595187840806
              ],
              [
               18.0144854785444,
               59.3060951878408
              ]
             ]
            ]
           ],
           "type": "MultiPolygon"
          },
          "properties": {
           "style": {
            "color": "#6495ed",
            "fillColor": "#6495ed",
            "fillOpacity": 0.9,
            "weight": 5
           }
          },
          "type": "Feature"
         },
         {
          "geometry": {
           "coordinates": [
            [
             [
              [
               18.0020588921619,
               59.2948461061738
              ],
              [
               18.0025588921619,
               59.2953461061738
              ],
              [
               18.001558892161903,
               59.2953461061738
              ],
              [
               18.0020588921619,
               59.2948461061738
              ]
             ]
            ]
           ],
           "type": "MultiPolygon"
          },
          "properties": {
           "style": {
            "color": "#6495ed",
            "fillColor": "#6495ed",
            "fillOpacity": 0.9,
            "weight": 5
           }
          },
          "type": "Feature"
         },
         {
          "geometry": {
           "coordinates": [
            [
             [
              [
               17.9850741702308,
               59.2888240305224
              ],
              [
               17.985574170230798,
               59.2893240305224
              ],
              [
               17.9845741702308,
               59.2893240305224
              ],
              [
               17.9850741702308,
               59.2888240305224
              ]
             ]
            ]
           ],
           "type": "MultiPolygon"
          },
          "properties": {
           "style": {
            "color": "#6495ed",
            "fillColor": "#6495ed",
            "fillOpacity": 0.9,
            "weight": 5
           }
          },
          "type": "Feature"
         },
         {
          "geometry": {
           "coordinates": [
            [
             [
              [
               18.0113815771019,
               59.3395101620608
              ],
              [
               18.0118815771019,
               59.3400101620608
              ],
              [
               18.0108815771019,
               59.3400101620608
              ],
              [
               18.0113815771019,
               59.3395101620608
              ]
             ]
            ]
           ],
           "type": "MultiPolygon"
          },
          "properties": {
           "style": {
            "color": "#6495ed",
            "fillColor": "#6495ed",
            "fillOpacity": 0.9,
            "weight": 5
           }
          },
          "type": "Feature"
         },
         {
          "geometry": {
           "coordinates": [
            [
             [
              [
               18.0021075595463,
               59.2948269367625
              ],
              [
               18.0026075595463,
               59.2953269367625
              ],
              [
               18.0016075595463,
               59.2953269367625
              ],
              [
               18.0021075595463,
               59.2948269367625
              ]
             ]
            ]
           ],
           "type": "MultiPolygon"
          },
          "properties": {
           "style": {
            "color": "#6495ed",
            "fillColor": "#6495ed",
            "fillOpacity": 0.9,
            "weight": 5
           }
          },
          "type": "Feature"
         },
         {
          "geometry": {
           "coordinates": [
            [
             [
              [
               18.0099515829534,
               59.3300053527223
              ],
              [
               18.010451582953397,
               59.330505352722305
              ],
              [
               18.0094515829534,
               59.330505352722305
              ],
              [
               18.0099515829534,
               59.3300053527223
              ]
             ]
            ]
           ],
           "type": "MultiPolygon"
          },
          "properties": {
           "style": {
            "color": "#6495ed",
            "fillColor": "#6495ed",
            "fillOpacity": 0.9,
            "weight": 5
           }
          },
          "type": "Feature"
         },
         {
          "geometry": {
           "coordinates": [
            [
             [
              [
               17.9967731138652,
               59.3212488217615
              ],
              [
               17.997273113865198,
               59.3217488217615
              ],
              [
               17.9962731138652,
               59.3217488217615
              ],
              [
               17.9967731138652,
               59.3212488217615
              ]
             ]
            ]
           ],
           "type": "MultiPolygon"
          },
          "properties": {
           "style": {
            "color": "#6495ed",
            "fillColor": "#6495ed",
            "fillOpacity": 0.9,
            "weight": 5
           }
          },
          "type": "Feature"
         },
         {
          "geometry": {
           "coordinates": [
            [
             [
              [
               18.0102795546893,
               59.3079192940342
              ],
              [
               18.0107795546893,
               59.3084192940342
              ],
              [
               18.009779554689302,
               59.3084192940342
              ],
              [
               18.0102795546893,
               59.3079192940342
              ]
             ]
            ]
           ],
           "type": "MultiPolygon"
          },
          "properties": {
           "style": {
            "color": "#6495ed",
            "fillColor": "#6495ed",
            "fillOpacity": 0.9,
            "weight": 5
           }
          },
          "type": "Feature"
         },
         {
          "geometry": {
           "coordinates": [
            [
             [
              [
               18.0145215127417,
               59.3061206370553
              ],
              [
               18.0150215127417,
               59.3066206370553
              ],
              [
               18.014021512741703,
               59.3066206370553
              ],
              [
               18.0145215127417,
               59.3061206370553
              ]
             ]
            ]
           ],
           "type": "MultiPolygon"
          },
          "properties": {
           "style": {
            "color": "#6495ed",
            "fillColor": "#6495ed",
            "fillOpacity": 0.9,
            "weight": 5
           }
          },
          "type": "Feature"
         },
         {
          "geometry": {
           "coordinates": [
            [
             [
              [
               18.0114429719695,
               59.3395082848497
              ],
              [
               18.0119429719695,
               59.3400082848497
              ],
              [
               18.010942971969502,
               59.3400082848497
              ],
              [
               18.0114429719695,
               59.3395082848497
              ]
             ]
            ]
           ],
           "type": "MultiPolygon"
          },
          "properties": {
           "style": {
            "color": "#6495ed",
            "fillColor": "#6495ed",
            "fillOpacity": 0.9,
            "weight": 5
           }
          },
          "type": "Feature"
         }
        ],
        "type": "FeatureCollection"
       },
       "msg_throttle": 1
      }
     },
     "b1d72c76c12b4f8bbf4bbd952da0d96d": {
      "model_module": "jupyter-js-widgets",
      "model_module_version": "~2.1.4",
      "model_name": "TextModel",
      "state": {
       "_model_module_version": "~2.1.4",
       "_view_module_version": "~2.1.4",
       "disabled": true,
       "layout": "IPY_MODEL_025a541edb0e4a59a14971edd40ed8b6",
       "value": "Tue Nov  1 07:03:00 2016"
      }
     },
     "eb0e6d3c980e47e4bc0a0ea1b3d673db": {
      "model_module": "jupyter-leaflet",
      "model_module_version": "*",
      "model_name": "LeafletMapModel",
      "state": {
       "_dom_classes": [],
       "_east": 18.127269744873047,
       "_model_module_version": "*",
       "_north": 59.34211886129258,
       "_south": 59.28955905771405,
       "_view_module_version": "*",
       "_west": 17.955265045166016,
       "center": [
        59.31584911637726,
        18.04126739501953
       ],
       "layers": [
        "IPY_MODEL_6b561cc3a4144ec981b674aebdabfafc",
        "IPY_MODEL_a72bf97aa13e4e4dacdc384f9984b9e9",
        "IPY_MODEL_8c759bee15054f55ab36a3b73ade3092",
        "IPY_MODEL_aec7d4c778154ef2a98edcecc19363f3",
        "IPY_MODEL_82041edeb39d4742833ca6f53b7e14dd"
       ],
       "layout": "IPY_MODEL_839d19606f044dde8df503fba948745c",
       "msg_throttle": 1,
       "options": [
        "attribution_control",
        "bounce_at_zoom_limits",
        "box_zoom",
        "center",
        "close_popup_on_click",
        "double_click_zoom",
        "dragging",
        "inertia",
        "inertia_deceleration",
        "inertia_max_speed",
        "keyboard",
        "keyboard_pan_offset",
        "keyboard_zoom_offset",
        "max_zoom",
        "min_zoom",
        "scroll_wheel_zoom",
        "tap",
        "tap_tolerance",
        "touch_zoom",
        "world_copy_jump",
        "zoom",
        "zoom_animation_threshold",
        "zoom_control",
        "zoom_start"
       ],
       "zoom": 13
      }
     }
    },
    "version_major": 1,
    "version_minor": 0
   }
  }
 },
 "nbformat": 4,
 "nbformat_minor": 2
}
